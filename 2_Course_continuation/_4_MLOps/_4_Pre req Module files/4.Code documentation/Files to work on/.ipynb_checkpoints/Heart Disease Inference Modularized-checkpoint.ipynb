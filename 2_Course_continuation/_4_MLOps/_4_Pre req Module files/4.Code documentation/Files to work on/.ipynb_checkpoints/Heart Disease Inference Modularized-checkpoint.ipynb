{
 "cells": [
  {
   "cell_type": "markdown",
   "id": "205bddc3",
   "metadata": {},
   "source": [
    "## Heart Disease Inference Modularized\n",
    "\n",
    "In this notebook, we will try to look at just the inference part of the heart disease classification solution\n",
    "\n",
    "The process of applying the same transformations like data pre-processing, feature engineering etc. which was applied during the training process, and then applying the trained ML model to generate predictions is termed as the inference process."
   ]
  },
  {
   "cell_type": "markdown",
   "id": "6808ef07",
   "metadata": {},
   "source": [
    "### Import Modules"
   ]
  },
  {
   "cell_type": "code",
   "execution_count": 1,
   "id": "50f4c508",
   "metadata": {},
   "outputs": [],
   "source": [
    "import warnings\n",
    "warnings.filterwarnings(\"ignore\")\n",
    "import pandas as pd\n",
    "import numpy as np\n",
    "import joblib\n",
    "from sklearn.metrics import accuracy_score\n",
    "from utils import *\n",
    "from constants import *"
   ]
  },
  {
   "cell_type": "markdown",
   "id": "3e9ab48c",
   "metadata": {},
   "source": [
    "### Get Inference Data"
   ]
  },
  {
   "cell_type": "code",
   "execution_count": 2,
   "id": "3da1ec81",
   "metadata": {},
   "outputs": [],
   "source": [
    "# in real-time use cases, this code should be replaced with live flowing data\n",
    "inference_data, labels = get_inference_data()"
   ]
  },
  {
   "cell_type": "markdown",
   "id": "82d24e26",
   "metadata": {},
   "source": [
    "### Apply Same Pre-processing"
   ]
  },
  {
   "cell_type": "code",
   "execution_count": 3,
   "id": "6b693844",
   "metadata": {},
   "outputs": [],
   "source": [
    "processed_inference_data = apply_pre_processing(inference_data)"
   ]
  },
  {
   "cell_type": "markdown",
   "id": "b76544a8",
   "metadata": {},
   "source": [
    "### Load Saved Model"
   ]
  },
  {
   "cell_type": "code",
   "execution_count": 5,
   "id": "c8f86c1c",
   "metadata": {},
   "outputs": [],
   "source": [
    "model = joblib.load('../../2_Introduction_to_Inference_Process/aditya_model1_adaboost.joblib')\n"
   ]
  },
  {
   "cell_type": "markdown",
   "id": "d0c8c9ab",
   "metadata": {},
   "source": [
    "### Prediction on inference data"
   ]
  },
  {
   "cell_type": "code",
   "execution_count": 6,
   "id": "0ef871e8",
   "metadata": {},
   "outputs": [
    {
     "data": {
      "text/plain": [
       "array([1., 1., 1., 1., 0., 1., 1., 0., 0., 1., 0., 0., 0., 1., 0., 1., 1.,\n",
       "       1., 1., 0.])"
      ]
     },
     "execution_count": 6,
     "metadata": {},
     "output_type": "execute_result"
    }
   ],
   "source": [
    "model.predict(processed_inference_data)"
   ]
  },
  {
   "cell_type": "markdown",
   "id": "b497fcfb",
   "metadata": {},
   "source": [
    "### Scoring check on prediction"
   ]
  },
  {
   "cell_type": "code",
   "execution_count": 7,
   "id": "896fbc94",
   "metadata": {},
   "outputs": [
    {
     "data": {
      "text/plain": [
       "0.85"
      ]
     },
     "execution_count": 7,
     "metadata": {},
     "output_type": "execute_result"
    }
   ],
   "source": [
    "accuracy_score(labels, model.predict(processed_inference_data))"
   ]
  },
  {
   "cell_type": "code",
   "execution_count": null,
   "id": "85df6d49",
   "metadata": {},
   "outputs": [],
   "source": []
  }
 ],
 "metadata": {
  "kernelspec": {
   "display_name": "Python 3 (ipykernel)",
   "language": "python",
   "name": "python3"
  },
  "language_info": {
   "codemirror_mode": {
    "name": "ipython",
    "version": 3
   },
   "file_extension": ".py",
   "mimetype": "text/x-python",
   "name": "python",
   "nbconvert_exporter": "python",
   "pygments_lexer": "ipython3",
   "version": "3.12.1"
  }
 },
 "nbformat": 4,
 "nbformat_minor": 5
}
