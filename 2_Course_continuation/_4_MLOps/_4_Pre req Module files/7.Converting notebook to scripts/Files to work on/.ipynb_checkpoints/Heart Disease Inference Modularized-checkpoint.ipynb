{
 "cells": [
  {
   "cell_type": "markdown",
   "id": "abc50010",
   "metadata": {},
   "source": [
    "## Heart Disease Inference Modularized\n",
    "\n",
    "In this notebook, we will try to look at just the inference part of the heart disease classification solution\n",
    "\n",
    "The process of applying the same transformations like data pre-processing, feature engineering etc. which was applied during the training process, and then applying the trained ML model to generate predictions is termed as the inference process."
   ]
  },
  {
   "cell_type": "markdown",
   "id": "3cd1ca75",
   "metadata": {},
   "source": [
    "### Import Modules"
   ]
  },
  {
   "cell_type": "code",
   "execution_count": 1,
   "id": "689524ff",
   "metadata": {},
   "outputs": [],
   "source": [
    "import warnings\n",
    "warnings.filterwarnings(\"ignore\")\n",
    "import pandas as pd\n",
    "import numpy as np\n",
    "import joblib\n",
    "from sklearn.metrics import accuracy_score\n",
    "from utils import *\n",
    "from constants import *"
   ]
  },
  {
   "cell_type": "markdown",
   "id": "3e6189a1",
   "metadata": {},
   "source": [
    "### Get Inference Data"
   ]
  },
  {
   "cell_type": "code",
   "execution_count": 2,
   "id": "126387a6",
   "metadata": {},
   "outputs": [],
   "source": [
    "# in real-time use cases, this code should be replaced with live flowing data\n",
    "# use get_inference_data() from utils.py to fetch inference data\n",
    "inference_data, labels = get_inference_data()"
   ]
  },
  {
   "cell_type": "markdown",
   "id": "ededc3f3",
   "metadata": {},
   "source": [
    "### Apply Same Pre-processing"
   ]
  },
  {
   "cell_type": "code",
   "execution_count": 3,
   "id": "ecd06dfb",
   "metadata": {},
   "outputs": [],
   "source": [
    "# use apply_pre_processing() from utils.py \n",
    "# to apply necessary preprocessing as applied for training data\n",
    "processed_inference_data = apply_pre_processing(inference_data)"
   ]
  },
  {
   "cell_type": "markdown",
   "id": "982a527f",
   "metadata": {},
   "source": [
    "### Load Saved Model"
   ]
  },
  {
   "cell_type": "code",
   "execution_count": 5,
   "id": "3ba55b48",
   "metadata": {},
   "outputs": [],
   "source": [
    "# use MODEL_NAME from constants.py\n",
    "model = joblib.load(\"../../2_Introduction_to_Inference_Process/aditya_model1_adaboost.joblib\")"
   ]
  },
  {
   "cell_type": "markdown",
   "id": "72a993e6",
   "metadata": {},
   "source": [
    "### Prediction on inference data"
   ]
  },
  {
   "cell_type": "code",
   "execution_count": 6,
   "id": "704ba55f",
   "metadata": {},
   "outputs": [
    {
     "data": {
      "text/plain": [
       "array([1., 1., 1., 1., 0., 1., 1., 0., 0., 1., 0., 0., 0., 1., 0., 1., 1.,\n",
       "       1., 1., 0.])"
      ]
     },
     "execution_count": 6,
     "metadata": {},
     "output_type": "execute_result"
    }
   ],
   "source": [
    "# perform model prediction on inference data\n",
    "model.predict(processed_inference_data)"
   ]
  },
  {
   "cell_type": "markdown",
   "id": "ea3e4f43",
   "metadata": {},
   "source": [
    "### Scoring check on prediction"
   ]
  },
  {
   "cell_type": "code",
   "execution_count": 7,
   "id": "e69928fa",
   "metadata": {},
   "outputs": [
    {
     "data": {
      "text/plain": [
       "0.85"
      ]
     },
     "execution_count": 7,
     "metadata": {},
     "output_type": "execute_result"
    }
   ],
   "source": [
    "# check inference accuracy\n",
    "accuracy_score(labels, model.predict(processed_inference_data))"
   ]
  },
  {
   "cell_type": "code",
   "execution_count": null,
   "id": "1d924066",
   "metadata": {},
   "outputs": [],
   "source": []
  }
 ],
 "metadata": {
  "kernelspec": {
   "display_name": "Python 3 (ipykernel)",
   "language": "python",
   "name": "python3"
  },
  "language_info": {
   "codemirror_mode": {
    "name": "ipython",
    "version": 3
   },
   "file_extension": ".py",
   "mimetype": "text/x-python",
   "name": "python",
   "nbconvert_exporter": "python",
   "pygments_lexer": "ipython3",
   "version": "3.12.1"
  },
  "varInspector": {
   "cols": {
    "lenName": 16,
    "lenType": 16,
    "lenVar": 40
   },
   "kernels_config": {
    "python": {
     "delete_cmd_postfix": "",
     "delete_cmd_prefix": "del ",
     "library": "var_list.py",
     "varRefreshCmd": "print(var_dic_list())"
    },
    "r": {
     "delete_cmd_postfix": ") ",
     "delete_cmd_prefix": "rm(",
     "library": "var_list.r",
     "varRefreshCmd": "cat(var_dic_list()) "
    }
   },
   "types_to_exclude": [
    "module",
    "function",
    "builtin_function_or_method",
    "instance",
    "_Feature"
   ],
   "window_display": false
  }
 },
 "nbformat": 4,
 "nbformat_minor": 5
}
