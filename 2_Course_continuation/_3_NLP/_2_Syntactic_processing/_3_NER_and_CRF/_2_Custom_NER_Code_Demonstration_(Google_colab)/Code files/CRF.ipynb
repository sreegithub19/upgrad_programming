{
 "cells": [
  {
   "cell_type": "markdown",
   "metadata": {
    "id": "FuJZ8hS1Gdp0"
   },
   "source": [
    "For this demo, we will use the [MIT Restaurant Corpus](https://groups.csail.mit.edu/sls/downloads/restaurant/) -- a dataset of transcriptions of spoken utterances about restaurants.\n",
    "\n",
    "The dataset has following entity types:\n",
    "\n",
    "* 'B-Rating'\n",
    "* 'I-Rating',\n",
    "* 'B-Amenity',\n",
    "* 'I-Amenity',\n",
    "* 'B-Location',\n",
    "* 'I-Location',\n",
    "* 'B-Restaurant_Name',\n",
    "* 'I-Restaurant_Name',\n",
    "* 'B-Price',\n",
    "* 'B-Hours',\n",
    "* 'I-Hours',\n",
    "* 'B-Dish',\n",
    "* 'I-Dish',\n",
    "* 'B-Cuisine',\n",
    "* 'I-Price',\n",
    "* 'I-Cuisine'\n",
    "\n",
    "Let us load the dataset and see what are we working with."
   ]
  },
  {
   "cell_type": "code",
   "execution_count": 1,
   "metadata": {
    "id": "Q0FynEFzDrvb"
   },
   "outputs": [],
   "source": [
    "with open('../Dataset/sent_train', 'r') as train_sent_file:\n",
    "  train_sentences = train_sent_file.readlines()\n",
    "\n",
    "with open('../Dataset/label_train', 'r') as train_labels_file:\n",
    "  train_labels = train_labels_file.readlines()\n",
    "\n",
    "with open('../Dataset/sent_test', 'r') as test_sent_file:\n",
    "  test_sentences = test_sent_file.readlines()\n",
    "\n",
    "with open('../Dataset/label_test', 'r') as test_labels_file:\n",
    "  test_labels = test_labels_file.readlines()\n"
   ]
  },
  {
   "cell_type": "markdown",
   "metadata": {
    "id": "5WkhbGrdGffs"
   },
   "source": [
    "Let us see some example data points."
   ]
  },
  {
   "cell_type": "code",
   "execution_count": 2,
   "metadata": {
    "colab": {
     "base_uri": "https://localhost:8080/"
    },
    "id": "FVNI3boSFgQ1",
    "outputId": "ebced656-d436-41d7-f3c0-4db80bb4a621"
   },
   "outputs": [
    {
     "name": "stdout",
     "output_type": "stream",
     "text": [
      "any good ice cream parlors around \n",
      "\n",
      "O B-Rating B-Cuisine I-Cuisine I-Cuisine B-Location \n",
      "\n"
     ]
    }
   ],
   "source": [
    "# Print the 6th sentence in the test set i.e. index value 5.\n",
    "print(test_sentences[5])\n",
    "\n",
    "# Print the labels of this sentence\n",
    "print(test_labels[5])"
   ]
  },
  {
   "cell_type": "markdown",
   "metadata": {
    "id": "dQSnhug230dr"
   },
   "source": [
    "#Defining Features for Custom NER"
   ]
  },
  {
   "cell_type": "markdown",
   "metadata": {
    "id": "jMwc9lv_3mrW"
   },
   "source": [
    "First, let us install the required modules."
   ]
  },
  {
   "cell_type": "code",
   "execution_count": 3,
   "metadata": {
    "id": "i9KFfDxN3mWu"
   },
   "outputs": [
    {
     "name": "stdout",
     "output_type": "stream",
     "text": [
      "Requirement already satisfied: pycrf in /usr/local/python/3.12.1/lib/python3.12/site-packages (0.0.1)\n",
      "Requirement already satisfied: sklearn-crfsuite in /usr/local/python/3.12.1/lib/python3.12/site-packages (0.5.0)\n",
      "Requirement already satisfied: python-crfsuite>=0.9.7 in /usr/local/python/3.12.1/lib/python3.12/site-packages (from sklearn-crfsuite) (0.9.11)\n",
      "Requirement already satisfied: scikit-learn>=0.24.0 in /usr/local/python/3.12.1/lib/python3.12/site-packages (from sklearn-crfsuite) (1.3.1)\n",
      "Requirement already satisfied: tabulate>=0.4.2 in /usr/local/python/3.12.1/lib/python3.12/site-packages (from sklearn-crfsuite) (0.9.0)\n",
      "Requirement already satisfied: tqdm>=2.0 in /usr/local/python/3.12.1/lib/python3.12/site-packages (from sklearn-crfsuite) (4.67.1)\n",
      "Requirement already satisfied: numpy<2.0,>=1.17.3 in /usr/local/python/3.12.1/lib/python3.12/site-packages (from scikit-learn>=0.24.0->sklearn-crfsuite) (1.26.4)\n",
      "Requirement already satisfied: scipy>=1.5.0 in /usr/local/python/3.12.1/lib/python3.12/site-packages (from scikit-learn>=0.24.0->sklearn-crfsuite) (1.13.1)\n",
      "Requirement already satisfied: joblib>=1.1.1 in /usr/local/python/3.12.1/lib/python3.12/site-packages (from scikit-learn>=0.24.0->sklearn-crfsuite) (1.4.2)\n",
      "Requirement already satisfied: threadpoolctl>=2.0.0 in /home/codespace/.local/lib/python3.12/site-packages (from scikit-learn>=0.24.0->sklearn-crfsuite) (3.5.0)\n"
     ]
    }
   ],
   "source": [
    "# Install pycrf and crfsuit packages using pip command\n",
    "!pip install pycrf\n",
    "!pip install sklearn-crfsuite"
   ]
  },
  {
   "cell_type": "markdown",
   "metadata": {
    "id": "4Hv6kAL9TMpf"
   },
   "source": [
    "\n",
    "\n",
    "We will now start with computing features for our input sequences."
   ]
  },
  {
   "cell_type": "markdown",
   "metadata": {
    "id": "HqvJ-tAz0MzR"
   },
   "source": [
    "We have defined the following features for CRF model building:\n",
    "\n",
    "- f1 = input word is in lower case; \n",
    "- f2 = last 3 characters of word;\n",
    "- f3 = last 2 characers of word;\n",
    "- f4 = 1; if the word is in uppercase, 0 otherwise;\n",
    "- f5 = 1; if word is a number; otherwise, 0 \n",
    "- f6= 1; if the word starts with a capital letter; otherwise, 0\n"
   ]
  },
  {
   "cell_type": "code",
   "execution_count": 4,
   "metadata": {
    "id": "3YVm3JTkFiaM"
   },
   "outputs": [],
   "source": [
    "#Define a function to get the above defined features for a word.\n",
    "\n",
    "def getFeaturesForOneWord(sentence, pos):\n",
    "  word = sentence[pos]\n",
    "\n",
    "  features = [\n",
    "    'word.lower=' + word.lower(), # serves as word id\n",
    "    'word[-3:]=' + word[-3:],     # last three characters\n",
    "    'word[-2:]=' + word[-2:],     # last two characters\n",
    "    'word.isupper=%s' % word.isupper(),  # is the word in all uppercase\n",
    "    'word.isdigit=%s' % word.isdigit(),  # is the word a number\n",
    "    'words.startsWithCapital=%s' % word[0].isupper() # is the word starting with a capital letter\n",
    "  ]\n",
    "\n",
    "  if(pos > 0):\n",
    "    prev_word = sentence[pos-1]\n",
    "    features.extend([\n",
    "    'prev_word.lower=' + prev_word.lower(), \n",
    "    'prev_word.isupper=%s' % prev_word.isupper(),\n",
    "    'prev_word.isdigit=%s' % prev_word.isdigit(),\n",
    "    'prev_words.startsWithCapital=%s' % prev_word[0].isupper()\n",
    "  ])\n",
    "  else:\n",
    "    features.append('BEG') # feature to track begin of sentence \n",
    "\n",
    "  if(pos == len(sentence)-1):\n",
    "    features.append('END') # feature to track end of sentence\n",
    "\n",
    "  return features"
   ]
  },
  {
   "cell_type": "markdown",
   "metadata": {
    "id": "FAS3xt0u-r89"
   },
   "source": [
    "#Computing Features "
   ]
  },
  {
   "cell_type": "markdown",
   "metadata": {
    "id": "wQ_ByE1ladpo"
   },
   "source": [
    "Define a function to get features for a sentence using the already defined 'getFeaturesForOneWord' function"
   ]
  },
  {
   "cell_type": "code",
   "execution_count": 5,
   "metadata": {
    "id": "KPrh_4F9RCgb"
   },
   "outputs": [],
   "source": [
    "# Define a function to get features for a sentence \n",
    "# using the 'getFeaturesForOneWord' function.\n",
    "def getFeaturesForOneSentence(sentence):\n",
    "  sentence_list = sentence.split()\n",
    "  return [getFeaturesForOneWord(sentence_list, pos) for pos in range(len(sentence_list))]"
   ]
  },
  {
   "cell_type": "markdown",
   "metadata": {
    "id": "PZwEnrYraqi7"
   },
   "source": [
    "Define function to get the labels for a sentence."
   ]
  },
  {
   "cell_type": "code",
   "execution_count": 6,
   "metadata": {
    "id": "N7Tt2NncirYD"
   },
   "outputs": [],
   "source": [
    "# Define a function to get the labels for a sentence.\n",
    "def getLabelsInListForOneSentence(labels):\n",
    "  return labels.split()"
   ]
  },
  {
   "cell_type": "markdown",
   "metadata": {
    "id": "ZHCv5BWRTQb9"
   },
   "source": [
    "Example features for a sentence\n"
   ]
  },
  {
   "cell_type": "code",
   "execution_count": 7,
   "metadata": {
    "colab": {
     "base_uri": "https://localhost:8080/"
    },
    "id": "1RzuYcYgSc_x",
    "outputId": "a12da80f-0012-455a-a7ff-41431136d121"
   },
   "outputs": [
    {
     "name": "stdout",
     "output_type": "stream",
     "text": [
      "a place that serves soft serve ice cream \n",
      "\n"
     ]
    },
    {
     "data": {
      "text/plain": [
       "['word.lower=that',\n",
       " 'word[-3:]=hat',\n",
       " 'word[-2:]=at',\n",
       " 'word.isupper=False',\n",
       " 'word.isdigit=False',\n",
       " 'words.startsWithCapital=False',\n",
       " 'prev_word.lower=place',\n",
       " 'prev_word.isupper=False',\n",
       " 'prev_word.isdigit=False',\n",
       " 'prev_words.startsWithCapital=False']"
      ]
     },
     "execution_count": 7,
     "metadata": {},
     "output_type": "execute_result"
    }
   ],
   "source": [
    "# Apply function 'getFeaturesForOneSentence' to get features on a single sentence which is at index value 5 in train_sentences\n",
    "example_sentence = train_sentences[5]\n",
    "print(example_sentence)\n",
    "\n",
    "features = getFeaturesForOneSentence(example_sentence)\n",
    "features[2]"
   ]
  },
  {
   "cell_type": "markdown",
   "metadata": {
    "id": "kf6NcY2YdPW2"
   },
   "source": [
    "Get the features for sentences of X_train and X_test and get the labels of Y_train and Y_test data."
   ]
  },
  {
   "cell_type": "code",
   "execution_count": 8,
   "metadata": {
    "id": "G0hQZN9TSjMb"
   },
   "outputs": [],
   "source": [
    "X_train = [getFeaturesForOneSentence(sentence) for sentence in train_sentences]\n",
    "Y_train = [getLabelsInListForOneSentence(labels) for labels in train_labels]\n",
    "\n",
    "X_test = [getFeaturesForOneSentence(sentence) for sentence in test_sentences]\n",
    "Y_test = [getLabelsInListForOneSentence(labels) for labels in test_labels]"
   ]
  },
  {
   "cell_type": "markdown",
   "metadata": {
    "id": "i4upm9ar-iKc"
   },
   "source": [
    "#CRF Model Training\n",
    "\n",
    " Now we have all the information we need to train our CRF. Let us see how we can do that."
   ]
  },
  {
   "cell_type": "code",
   "execution_count": 9,
   "metadata": {
    "id": "Kwm-aTb7hftp"
   },
   "outputs": [],
   "source": [
    "import sklearn_crfsuite\n",
    "\n",
    "from sklearn_crfsuite import metrics"
   ]
  },
  {
   "cell_type": "markdown",
   "metadata": {
    "id": "EudVs1-uPHFs"
   },
   "source": [
    "We create a CRF object and passtraining data to it. The model then \"trains\" and learns the weights for feature functions."
   ]
  },
  {
   "cell_type": "code",
   "execution_count": 10,
   "metadata": {
    "colab": {
     "base_uri": "https://localhost:8080/"
    },
    "id": "XuKjdgGwhM_e",
    "outputId": "a907c690-b90a-4105-f0d6-cde19e07dbd4"
   },
   "outputs": [
    {
     "data": {
      "text/html": [
       "<style>#sk-container-id-1 {color: black;}#sk-container-id-1 pre{padding: 0;}#sk-container-id-1 div.sk-toggleable {background-color: white;}#sk-container-id-1 label.sk-toggleable__label {cursor: pointer;display: block;width: 100%;margin-bottom: 0;padding: 0.3em;box-sizing: border-box;text-align: center;}#sk-container-id-1 label.sk-toggleable__label-arrow:before {content: \"▸\";float: left;margin-right: 0.25em;color: #696969;}#sk-container-id-1 label.sk-toggleable__label-arrow:hover:before {color: black;}#sk-container-id-1 div.sk-estimator:hover label.sk-toggleable__label-arrow:before {color: black;}#sk-container-id-1 div.sk-toggleable__content {max-height: 0;max-width: 0;overflow: hidden;text-align: left;background-color: #f0f8ff;}#sk-container-id-1 div.sk-toggleable__content pre {margin: 0.2em;color: black;border-radius: 0.25em;background-color: #f0f8ff;}#sk-container-id-1 input.sk-toggleable__control:checked~div.sk-toggleable__content {max-height: 200px;max-width: 100%;overflow: auto;}#sk-container-id-1 input.sk-toggleable__control:checked~label.sk-toggleable__label-arrow:before {content: \"▾\";}#sk-container-id-1 div.sk-estimator input.sk-toggleable__control:checked~label.sk-toggleable__label {background-color: #d4ebff;}#sk-container-id-1 div.sk-label input.sk-toggleable__control:checked~label.sk-toggleable__label {background-color: #d4ebff;}#sk-container-id-1 input.sk-hidden--visually {border: 0;clip: rect(1px 1px 1px 1px);clip: rect(1px, 1px, 1px, 1px);height: 1px;margin: -1px;overflow: hidden;padding: 0;position: absolute;width: 1px;}#sk-container-id-1 div.sk-estimator {font-family: monospace;background-color: #f0f8ff;border: 1px dotted black;border-radius: 0.25em;box-sizing: border-box;margin-bottom: 0.5em;}#sk-container-id-1 div.sk-estimator:hover {background-color: #d4ebff;}#sk-container-id-1 div.sk-parallel-item::after {content: \"\";width: 100%;border-bottom: 1px solid gray;flex-grow: 1;}#sk-container-id-1 div.sk-label:hover label.sk-toggleable__label {background-color: #d4ebff;}#sk-container-id-1 div.sk-serial::before {content: \"\";position: absolute;border-left: 1px solid gray;box-sizing: border-box;top: 0;bottom: 0;left: 50%;z-index: 0;}#sk-container-id-1 div.sk-serial {display: flex;flex-direction: column;align-items: center;background-color: white;padding-right: 0.2em;padding-left: 0.2em;position: relative;}#sk-container-id-1 div.sk-item {position: relative;z-index: 1;}#sk-container-id-1 div.sk-parallel {display: flex;align-items: stretch;justify-content: center;background-color: white;position: relative;}#sk-container-id-1 div.sk-item::before, #sk-container-id-1 div.sk-parallel-item::before {content: \"\";position: absolute;border-left: 1px solid gray;box-sizing: border-box;top: 0;bottom: 0;left: 50%;z-index: -1;}#sk-container-id-1 div.sk-parallel-item {display: flex;flex-direction: column;z-index: 1;position: relative;background-color: white;}#sk-container-id-1 div.sk-parallel-item:first-child::after {align-self: flex-end;width: 50%;}#sk-container-id-1 div.sk-parallel-item:last-child::after {align-self: flex-start;width: 50%;}#sk-container-id-1 div.sk-parallel-item:only-child::after {width: 0;}#sk-container-id-1 div.sk-dashed-wrapped {border: 1px dashed gray;margin: 0 0.4em 0.5em 0.4em;box-sizing: border-box;padding-bottom: 0.4em;background-color: white;}#sk-container-id-1 div.sk-label label {font-family: monospace;font-weight: bold;display: inline-block;line-height: 1.2em;}#sk-container-id-1 div.sk-label-container {text-align: center;}#sk-container-id-1 div.sk-container {/* jupyter's `normalize.less` sets `[hidden] { display: none; }` but bootstrap.min.css set `[hidden] { display: none !important; }` so we also need the `!important` here to be able to override the default hidden behavior on the sphinx rendered scikit-learn.org. See: https://github.com/scikit-learn/scikit-learn/issues/21755 */display: inline-block !important;position: relative;}#sk-container-id-1 div.sk-text-repr-fallback {display: none;}</style><div id=\"sk-container-id-1\" class=\"sk-top-container\"><div class=\"sk-text-repr-fallback\"><pre>CRF(max_iterations=100)</pre><b>In a Jupyter environment, please rerun this cell to show the HTML representation or trust the notebook. <br />On GitHub, the HTML representation is unable to render, please try loading this page with nbviewer.org.</b></div><div class=\"sk-container\" hidden><div class=\"sk-item\"><div class=\"sk-estimator sk-toggleable\"><input class=\"sk-toggleable__control sk-hidden--visually\" id=\"sk-estimator-id-1\" type=\"checkbox\" checked><label for=\"sk-estimator-id-1\" class=\"sk-toggleable__label sk-toggleable__label-arrow\">CRF</label><div class=\"sk-toggleable__content\"><pre>CRF(max_iterations=100)</pre></div></div></div></div></div>"
      ],
      "text/plain": [
       "CRF(max_iterations=100)"
      ]
     },
     "execution_count": 10,
     "metadata": {},
     "output_type": "execute_result"
    }
   ],
   "source": [
    "# Build the CRF model.\n",
    "crf = sklearn_crfsuite.CRF(max_iterations=100)\n",
    "crf.fit(X_train, Y_train)"
   ]
  },
  {
   "cell_type": "markdown",
   "metadata": {
    "id": "13ziiBZecMUJ"
   },
   "source": [
    "#Model Testing and Evaluation \n",
    "The model is trained, let us now see how good it performs on the test data."
   ]
  },
  {
   "cell_type": "code",
   "execution_count": 11,
   "metadata": {
    "colab": {
     "base_uri": "https://localhost:8080/",
     "height": 198
    },
    "id": "E75RH6VujmAs",
    "outputId": "78440723-54f5-4fb9-8765-6975ac66c1d8"
   },
   "outputs": [
    {
     "data": {
      "text/plain": [
       "0.8743664806947808"
      ]
     },
     "execution_count": 11,
     "metadata": {},
     "output_type": "execute_result"
    }
   ],
   "source": [
    "# Calculate the f1 score using the test data\n",
    "Y_pred = crf.predict(X_test)\n",
    "metrics.flat_f1_score(Y_test, Y_pred, average='weighted')"
   ]
  },
  {
   "cell_type": "code",
   "execution_count": 12,
   "metadata": {
    "colab": {
     "base_uri": "https://localhost:8080/",
     "height": 232
    },
    "id": "S8sfl1j-k3jw",
    "outputId": "7ee06369-808f-425f-9456-03f145b4058b"
   },
   "outputs": [
    {
     "name": "stdout",
     "output_type": "stream",
     "text": [
      "Sentence: any places around here that has a nice view \n",
      "\n",
      "Orig Labels: ['O', 'O', 'B-Location', 'I-Location', 'O', 'O', 'O', 'B-Amenity', 'I-Amenity']\n",
      "Pred Labels: ['O', 'O', 'B-Location', 'I-Location', 'O', 'O', 'O', 'B-Amenity', 'I-Amenity']\n"
     ]
    }
   ],
   "source": [
    "# Print the orginal labels and predicted labels for the sentence  in test data, which is at index value 10.\n",
    "id = 10\n",
    "print(\"Sentence:\",test_sentences[id])\n",
    "print(\"Orig Labels:\", Y_test[id])\n",
    "print(\"Pred Labels:\", Y_pred[id])"
   ]
  },
  {
   "cell_type": "markdown",
   "metadata": {
    "id": "IxSGnW9bFrxV"
   },
   "source": [
    "#Transitions Learned by CRF"
   ]
  },
  {
   "cell_type": "code",
   "execution_count": 13,
   "metadata": {
    "id": "AoaKikLDRunC"
   },
   "outputs": [],
   "source": [
    "from util import print_top_likely_transitions\n",
    "from util import print_top_unlikely_transitions"
   ]
  },
  {
   "cell_type": "code",
   "execution_count": 14,
   "metadata": {
    "colab": {
     "base_uri": "https://localhost:8080/"
    },
    "id": "4zU4ZHyUSymU",
    "outputId": "8c5b4dde-3a8d-4f66-97ba-b3e17b482b01"
   },
   "outputs": [
    {
     "name": "stdout",
     "output_type": "stream",
     "text": [
      "B-Restaurant_Name -> I-Restaurant_Name 6.781580\n",
      "B-Location -> I-Location 6.711120\n",
      "B-Amenity -> I-Amenity 6.687689\n",
      "I-Location -> I-Location 6.455373\n",
      "I-Amenity -> I-Amenity 6.191833\n",
      "B-Dish -> I-Dish  5.917294\n",
      "B-Hours -> I-Hours 5.886656\n",
      "I-Restaurant_Name -> I-Restaurant_Name 5.865771\n",
      "B-Cuisine -> I-Cuisine 5.557832\n",
      "I-Hours -> I-Hours 5.435687\n"
     ]
    }
   ],
   "source": [
    "print_top_likely_transitions(crf.transition_features_)"
   ]
  },
  {
   "cell_type": "code",
   "execution_count": 15,
   "metadata": {
    "colab": {
     "base_uri": "https://localhost:8080/"
    },
    "id": "0JgRe2HES0t1",
    "outputId": "4c0e469c-4100-40b5-80ec-5f74d8e5180b"
   },
   "outputs": [
    {
     "name": "stdout",
     "output_type": "stream",
     "text": [
      "B-Price -> B-Location -0.642206\n",
      "I-Location -> B-Dish  -0.728145\n",
      "I-Dish -> B-Cuisine -0.827558\n",
      "I-Price -> B-Location -0.884154\n",
      "I-Hours -> O       -0.887384\n",
      "B-Restaurant_Name -> B-Cuisine -0.944196\n",
      "I-Rating -> O       -0.947106\n",
      "I-Price -> O       -0.951703\n",
      "I-Restaurant_Name -> B-Dish  -1.097080\n",
      "I-Restaurant_Name -> B-Cuisine -1.128030\n"
     ]
    }
   ],
   "source": [
    "print_top_unlikely_transitions(crf.transition_features_)"
   ]
  },
  {
   "cell_type": "code",
   "execution_count": null,
   "metadata": {
    "id": "3X1oXlQ3IMlZ"
   },
   "outputs": [],
   "source": []
  }
 ],
 "metadata": {
  "colab": {
   "collapsed_sections": [
    "13ziiBZecMUJ"
   ],
   "name": "CRF.ipynb",
   "provenance": []
  },
  "kernelspec": {
   "display_name": "Python 3 (ipykernel)",
   "language": "python",
   "name": "python3"
  },
  "language_info": {
   "codemirror_mode": {
    "name": "ipython",
    "version": 3
   },
   "file_extension": ".py",
   "mimetype": "text/x-python",
   "name": "python",
   "nbconvert_exporter": "python",
   "pygments_lexer": "ipython3",
   "version": "3.12.1"
  }
 },
 "nbformat": 4,
 "nbformat_minor": 4
}
