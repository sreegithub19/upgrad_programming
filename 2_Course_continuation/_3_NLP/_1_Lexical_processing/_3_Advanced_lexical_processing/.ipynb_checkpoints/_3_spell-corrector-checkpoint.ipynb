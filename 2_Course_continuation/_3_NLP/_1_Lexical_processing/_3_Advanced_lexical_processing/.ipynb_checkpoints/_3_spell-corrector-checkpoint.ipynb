{
 "cells": [
  {
   "cell_type": "code",
   "execution_count": 1,
   "metadata": {},
   "outputs": [],
   "source": [
    "import re\n",
    "from collections import Counter"
   ]
  },
  {
   "cell_type": "code",
   "execution_count": 2,
   "metadata": {},
   "outputs": [],
   "source": [
    "# function to tokenise words\n",
    "def words(document):\n",
    "    \"Convert text to lower case and tokenise the document\"\n",
    "    return re.findall(r'\\w+', document.lower())"
   ]
  },
  {
   "cell_type": "code",
   "execution_count": 3,
   "metadata": {},
   "outputs": [],
   "source": [
    "# create a frequency table of all the words of the document\n",
    "all_words = Counter(words(open('_3_seed_document.txt').read()))"
   ]
  },
  {
   "cell_type": "code",
   "execution_count": 4,
   "metadata": {},
   "outputs": [
    {
     "data": {
      "text/plain": [
       "135"
      ]
     },
     "execution_count": 4,
     "metadata": {},
     "output_type": "execute_result"
    }
   ],
   "source": [
    "# check frequency of a random word, say, 'chair'\n",
    "all_words['chair']"
   ]
  },
  {
   "cell_type": "code",
   "execution_count": 5,
   "metadata": {},
   "outputs": [
    {
     "data": {
      "text/plain": [
       "[('the', 79809),\n",
       " ('of', 40024),\n",
       " ('and', 38312),\n",
       " ('to', 28765),\n",
       " ('in', 22023),\n",
       " ('a', 21124),\n",
       " ('that', 12512),\n",
       " ('he', 12401),\n",
       " ('was', 11410),\n",
       " ('it', 10681)]"
      ]
     },
     "execution_count": 5,
     "metadata": {},
     "output_type": "execute_result"
    }
   ],
   "source": [
    "# look at top 10 frequent words\n",
    "all_words.most_common(10)"
   ]
  },
  {
   "cell_type": "code",
   "execution_count": 6,
   "metadata": {},
   "outputs": [],
   "source": [
    "def edits_one(word):\n",
    "    \"Create all edits that are one edit away from `word`.\"\n",
    "    alphabets    = 'abcdefghijklmnopqrstuvwxyz'\n",
    "    splits     = [(word[:i], word[i:])                   for i in range(len(word) + 1)]\n",
    "    deletes    = [left + right[1:]                       for left, right in splits if right]\n",
    "    inserts    = [left + c + right                       for left, right in splits for c in alphabets]\n",
    "    replaces   = [left + c + right[1:]                   for left, right in splits if right for c in alphabets]\n",
    "    transposes = [left + right[1] + right[0] + right[2:] for left, right in splits if len(right)>1]\n",
    "    return set(deletes + inserts + replaces + transposes)"
   ]
  },
  {
   "cell_type": "code",
   "execution_count": 7,
   "metadata": {},
   "outputs": [],
   "source": [
    "def edits_two(word):\n",
    "    \"Create all edits that are two edits away from `word`.\"\n",
    "    return (e2 for e1 in edits_one(word) for e2 in edits_one(e1))"
   ]
  },
  {
   "cell_type": "code",
   "execution_count": 8,
   "metadata": {},
   "outputs": [],
   "source": [
    "def known(words):\n",
    "    \"The subset of `words` that appear in the `all_words`.\"\n",
    "    return set(word for word in words if word in all_words)"
   ]
  },
  {
   "cell_type": "code",
   "execution_count": 9,
   "metadata": {},
   "outputs": [],
   "source": [
    "def possible_corrections(word):\n",
    "    \"Generate possible spelling corrections for word.\"\n",
    "    return (known([word]) or known(edits_one(word)) or known(edits_two(word)) or [word])"
   ]
  },
  {
   "cell_type": "code",
   "execution_count": 10,
   "metadata": {},
   "outputs": [],
   "source": [
    "def prob(word, N=sum(all_words.values())): \n",
    "    \"Probability of `word`: Number of appearances of 'word' / total number of tokens\"\n",
    "    return all_words[word] / N"
   ]
  },
  {
   "cell_type": "code",
   "execution_count": 11,
   "metadata": {},
   "outputs": [
    {
     "name": "stdout",
     "output_type": "stream",
     "text": [
      "336\n",
      "{'monnaey', 'momnney', 'mgnney', 'monuney', 'monnye', 'moqnney', 'monnehy', 'monvey', 'moneey', 'mmonney', 'monkey', 'monnzy', 'monneny', 'mconney', 'oonney', 'monnqey', 'monnuy', 'mongey', 'mocnney', 'gonney', 'monnhey', 'jonney', 'monnpy', 'monneh', 'mcnney', 'moqney', 'movnney', 'moznney', 'monbney', 'mosney', 'molnney', 'fmonney', 'mowney', 'monnes', 'manney', 'monfey', 'mooney', 'mtonney', 'mopnney', 'monnet', 'monnei', 'rmonney', 'mondey', 'mobnney', 'monnfey', 'ymonney', 'monneyr', 'mownney', 'moneney', 'mjnney', 'monneyi', 'xonney', 'monnvy', 'mronney', 'monjey', 'monneys', 'mozney', 'monneby', 'monndy', 'monsey', 'monnep', 'monnxy', 'monnedy', 'monnsey', 'mogney', 'konney', 'monnjy', 'mobney', 'monxey', 'monnbey', 'monnney', 'dmonney', 'monxney', 'moniey', 'moenney', 'monneyk', 'qonney', 'monned', 'moknney', 'onney', 'mdonney', 'monjney', 'monbey', 'monneyx', 'mojnney', 'monnegy', 'monnty', 'mognney', 'mongney', 'monnwy', 'tmonney', 'mzonney', 'monrney', 'monncy', 'mionney', 'monnhy', 'monqney', 'monnejy', 'monngy', 'msnney', 'mounney', 'mohney', 'monnoey', 'mknney', 'motnney', 'monsney', 'zonney', 'monnqy', 'sonney', 'monneym', 'honney', 'monnex', 'amonney', 'monhey', 'kmonney', 'monmney', 'monndey', 'monmey', 'monneyd', 'gmonney', 'montney', 'mxonney', 'monneb', 'morney', 'meonney', 'muonney', 'mhonney', 'monnpey', 'moxney', 'monnley', 'movney', 'monnwey', 'monkney', 'monuey', 'uonney', 'monzey', 'omonney', 'mondney', 'monneq', 'mnonney', 'monnen', 'monnesy', 'bonney', 'monneey', 'monnej', 'vonney', 'monngey', 'mwonney', 'monnec', 'mdnney', 'molney', 'monnety', 'monneyb', 'monnvey', 'moyney', 'monyney', 'monhney', 'monnev', 'pmonney', 'mohnney', 'money', 'mwnney', 'moanney', 'eonney', 'monnzey', 'mnoney', 'bmonney', 'monneya', 'mvnney', 'monnek', 'monnkey', 'monnmey', 'moeney', 'mqonney', 'fonney', 'monfney', 'mbonney', 'monnsy', 'zmonney', 'monnuey', 'monneu', 'aonney', 'moynney', 'umonney', 'monnely', 'monnez', 'monnyy', 'monneay', 'monneyw', 'mynney', 'moneny', 'monneyy', 'monneuy', 'monpney', 'monneyo', 'monnel', 'minney', 'monney', 'moncey', 'monneye', 'omnney', 'monner', 'monley', 'monnxey', 'monneg', 'monneyl', 'mvonney', 'mpnney', 'monneoy', 'ronney', 'moinney', 'munney', 'jmonney', 'nmonney', 'hmonney', 'monneiy', 'mxnney', 'ponney', 'monneo', 'monnee', 'lonney', 'monneyu', 'monnrey', 'xmonney', 'monnmy', 'motney', 'monnky', 'monneyj', 'monwey', 'momney', 'maonney', 'moonney', 'monneyc', 'myonney', 'qmonney', 'lmonney', 'monnry', 'monvney', 'mznney', 'monnjey', 'emonney', 'monnem', 'monnef', 'yonney', 'monaney', 'mrnney', 'mponney', 'moiney', 'wonney', 'modney', 'monqey', 'monnfy', 'mononey', 'mnnney', 'monnepy', 'monneyt', 'mofnney', 'mbnney', 'monnay', 'montey', 'monnefy', 'vmonney', 'moxnney', 'mfonney', 'mjonney', 'mornney', 'mtnney', 'mopney', 'mokney', 'mocney', 'monnoy', 'monnezy', 'monnery', 'monaey', 'moncney', 'monniey', 'mmnney', 'smonney', 'monnevy', 'monwney', 'ionney', 'monnly', 'monneyh', 'tonney', 'conney', 'moniney', 'mhnney', 'monrey', 'monneyg', 'monneyp', 'mkonney', 'mfnney', 'monyey', 'monny', 'monncey', 'monneyn', 'mnney', 'monpey', 'mouney', 'monnyey', 'mosnney', 'msonney', 'donney', 'monntey', 'monnecy', 'monnewy', 'mojney', 'monneyz', 'monniy', 'monneky', 'mgonney', 'monneyf', 'monneqy', 'cmonney', 'monzney', 'monne', 'monnny', 'nonney', 'mqnney', 'imonney', 'monnemy', 'monnexy', 'monlney', 'mlonney', 'wmonney', 'mofney', 'modnney', 'monoey', 'monneyq', 'monnby', 'moaney', 'monneyv', 'menney', 'monnea', 'mlnney', 'monnew'}\n"
     ]
    }
   ],
   "source": [
    "print(len(set(edits_one(\"monney\"))))\n",
    "print(edits_one(\"monney\"))"
   ]
  },
  {
   "cell_type": "code",
   "execution_count": 12,
   "metadata": {},
   "outputs": [
    {
     "name": "stdout",
     "output_type": "stream",
     "text": [
      "{'monkey', 'money'}\n"
     ]
    }
   ],
   "source": [
    "print(known(edits_one(\"monney\")))"
   ]
  },
  {
   "cell_type": "code",
   "execution_count": 13,
   "metadata": {},
   "outputs": [
    {
     "name": "stdout",
     "output_type": "stream",
     "text": [
      "51013\n",
      "{'monkey', 'money'}\n"
     ]
    }
   ],
   "source": [
    "# Let's look at words that are two edits away\n",
    "print(len(set(edits_two(\"monney\"))))\n",
    "print(known(edits_one(\"monney\")))"
   ]
  },
  {
   "cell_type": "code",
   "execution_count": 14,
   "metadata": {},
   "outputs": [
    {
     "name": "stdout",
     "output_type": "stream",
     "text": [
      "{'monkey', 'money'}\n"
     ]
    }
   ],
   "source": [
    "# Let's look at possible corrections of a word\n",
    "print(possible_corrections(\"monney\"))"
   ]
  },
  {
   "cell_type": "code",
   "execution_count": 15,
   "metadata": {},
   "outputs": [
    {
     "name": "stdout",
     "output_type": "stream",
     "text": [
      "0.0002922233626303688\n",
      "5.378344097491451e-06\n"
     ]
    }
   ],
   "source": [
    "# Let's look at probability of a word\n",
    "print(prob(\"money\"))\n",
    "print(prob(\"monkey\"))"
   ]
  },
  {
   "cell_type": "code",
   "execution_count": 16,
   "metadata": {},
   "outputs": [],
   "source": [
    "def spell_check(word):\n",
    "    \"Print the most probable spelling correction for `word` out of all the `possible_corrections`\"\n",
    "    correct_word = max(possible_corrections(word), key=prob)\n",
    "    if correct_word != word:\n",
    "        return \"Did you mean \" + correct_word + \"?\"\n",
    "    else:\n",
    "        return \"Correct spelling.\""
   ]
  },
  {
   "cell_type": "code",
   "execution_count": 17,
   "metadata": {},
   "outputs": [
    {
     "name": "stdout",
     "output_type": "stream",
     "text": [
      "Did you mean money?\n"
     ]
    }
   ],
   "source": [
    "# test spell check\n",
    "print(spell_check(\"monney\"))"
   ]
  }
 ],
 "metadata": {
  "kernelspec": {
   "display_name": "Python 3 (ipykernel)",
   "language": "python",
   "name": "python3"
  },
  "language_info": {
   "codemirror_mode": {
    "name": "ipython",
    "version": 3
   },
   "file_extension": ".py",
   "mimetype": "text/x-python",
   "name": "python",
   "nbconvert_exporter": "python",
   "pygments_lexer": "ipython3",
   "version": "3.12.1"
  },
  "varInspector": {
   "cols": {
    "lenName": 16,
    "lenType": 16,
    "lenVar": 40
   },
   "kernels_config": {
    "python": {
     "delete_cmd_postfix": "",
     "delete_cmd_prefix": "del ",
     "library": "var_list.py",
     "varRefreshCmd": "print(var_dic_list())"
    },
    "r": {
     "delete_cmd_postfix": ") ",
     "delete_cmd_prefix": "rm(",
     "library": "var_list.r",
     "varRefreshCmd": "cat(var_dic_list()) "
    }
   },
   "types_to_exclude": [
    "module",
    "function",
    "builtin_function_or_method",
    "instance",
    "_Feature"
   ],
   "window_display": false
  }
 },
 "nbformat": 4,
 "nbformat_minor": 4
}
