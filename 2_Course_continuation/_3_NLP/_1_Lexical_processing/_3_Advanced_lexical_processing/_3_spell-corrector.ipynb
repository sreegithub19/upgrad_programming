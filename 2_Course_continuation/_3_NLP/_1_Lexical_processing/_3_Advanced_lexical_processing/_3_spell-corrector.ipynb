{
 "cells": [
  {
   "cell_type": "code",
   "execution_count": 1,
   "metadata": {},
   "outputs": [],
   "source": [
    "import re\n",
    "from collections import Counter"
   ]
  },
  {
   "cell_type": "code",
   "execution_count": 2,
   "metadata": {},
   "outputs": [],
   "source": [
    "# function to tokenise words\n",
    "def words(document):\n",
    "    \"Convert text to lower case and tokenise the document\"\n",
    "    return re.findall(r'\\w+', document.lower())"
   ]
  },
  {
   "cell_type": "code",
   "execution_count": 3,
   "metadata": {},
   "outputs": [],
   "source": [
    "# create a frequency table of all the words of the document\n",
    "all_words = Counter(words(open('_3_seed_document.txt').read()))"
   ]
  },
  {
   "cell_type": "code",
   "execution_count": 4,
   "metadata": {},
   "outputs": [
    {
     "data": {
      "text/plain": [
       "135"
      ]
     },
     "execution_count": 4,
     "metadata": {},
     "output_type": "execute_result"
    }
   ],
   "source": [
    "# check frequency of a random word, say, 'chair'\n",
    "all_words['chair']"
   ]
  },
  {
   "cell_type": "code",
   "execution_count": 5,
   "metadata": {},
   "outputs": [
    {
     "data": {
      "text/plain": [
       "[('the', 79809),\n",
       " ('of', 40024),\n",
       " ('and', 38312),\n",
       " ('to', 28765),\n",
       " ('in', 22023),\n",
       " ('a', 21124),\n",
       " ('that', 12512),\n",
       " ('he', 12401),\n",
       " ('was', 11410),\n",
       " ('it', 10681)]"
      ]
     },
     "execution_count": 5,
     "metadata": {},
     "output_type": "execute_result"
    }
   ],
   "source": [
    "# look at top 10 frequent words\n",
    "all_words.most_common(10)"
   ]
  },
  {
   "cell_type": "code",
   "execution_count": 6,
   "metadata": {},
   "outputs": [],
   "source": [
    "def edits_one(word):\n",
    "    \"Create all edits that are one edit away from `word`.\"\n",
    "    alphabets    = 'abcdefghijklmnopqrstuvwxyz'\n",
    "    splits     = [(word[:i], word[i:])                   for i in range(len(word) + 1)]\n",
    "    deletes    = [left + right[1:]                       for left, right in splits if right]\n",
    "    inserts    = [left + c + right                       for left, right in splits for c in alphabets]\n",
    "    replaces   = [left + c + right[1:]                   for left, right in splits if right for c in alphabets]\n",
    "    transposes = [left + right[1] + right[0] + right[2:] for left, right in splits if len(right)>1]\n",
    "    return set(deletes + inserts + replaces + transposes)"
   ]
  },
  {
   "cell_type": "code",
   "execution_count": 7,
   "metadata": {},
   "outputs": [],
   "source": [
    "def edits_two(word):\n",
    "    \"Create all edits that are two edits away from `word`.\"\n",
    "    return (e2 for e1 in edits_one(word) for e2 in edits_one(e1))"
   ]
  },
  {
   "cell_type": "code",
   "execution_count": 8,
   "metadata": {},
   "outputs": [],
   "source": [
    "def known(words):\n",
    "    \"The subset of `words` that appear in the `all_words`.\"\n",
    "    return set(word for word in words if word in all_words)"
   ]
  },
  {
   "cell_type": "code",
   "execution_count": 9,
   "metadata": {},
   "outputs": [],
   "source": [
    "def possible_corrections(word):\n",
    "    \"Generate possible spelling corrections for word.\"\n",
    "    return (known([word]) or known(edits_one(word)) or known(edits_two(word)) or [word])"
   ]
  },
  {
   "cell_type": "code",
   "execution_count": 10,
   "metadata": {},
   "outputs": [],
   "source": [
    "def prob(word, N=sum(all_words.values())): \n",
    "    \"Probability of `word`: Number of appearances of 'word' / total number of tokens\"\n",
    "    return all_words[word] / N"
   ]
  },
  {
   "cell_type": "code",
   "execution_count": 11,
   "metadata": {},
   "outputs": [
    {
     "name": "stdout",
     "output_type": "stream",
     "text": [
      "336\n",
      "{'monzney', 'mrnney', 'mlnney', 'monneyy', 'lmonney', 'moiney', 'monnery', 'monneyb', 'monneya', 'monned', 'mojney', 'mznney', 'motnney', 'monnpy', 'mopney', 'monneiy', 'tmonney', 'monndy', 'monnvy', 'monne', 'monnej', 'mhonney', 'mohnney', 'monncy', 'monnea', 'mnoney', 'mofnney', 'mownney', 'monnye', 'moinney', 'mmnney', 'monnqy', 'monnney', 'monuey', 'mtnney', 'rmonney', 'monnly', 'monnef', 'mobnney', 'mnonney', 'zmonney', 'monfey', 'monneay', 'monnbey', 'monaey', 'monjney', 'monneys', 'moqney', 'monnegy', 'mkonney', 'movnney', 'monneyn', 'monnay', 'mmonney', 'moncey', 'monsey', 'monbey', 'monnen', 'mwonney', 'monnfey', 'monmney', 'mondey', 'monnby', 'monpey', 'mounney', 'monrey', 'mronney', 'honney', 'monngey', 'mononey', 'msnney', 'monkey', 'monnely', 'monxney', 'mqonney', 'qmonney', 'monnecy', 'monzey', 'fonney', 'monnefy', 'moniney', 'monneye', 'monqney', 'oonney', 'jonney', 'ponney', 'monnejy', 'mnney', 'monyey', 'motney', 'momnney', 'monsney', 'mtonney', 'monneyd', 'monneym', 'monneyw', 'monkney', 'monnuy', 'monnemy', 'monneyg', 'monnep', 'monnky', 'imonney', 'monnehy', 'mobney', 'mdonney', 'molnney', 'monnqey', 'monneyl', 'monnhy', 'ionney', 'mvnney', 'monneu', 'mwnney', 'monnkey', 'monnyey', 'monwney', 'monley', 'zonney', 'moncney', 'mlonney', 'monngy', 'monnexy', 'mowney', 'monnley', 'monvney', 'monnepy', 'moyney', 'dmonney', 'monnaey', 'monneby', 'mosnney', 'monnsey', 'monneo', 'monnem', 'monneyi', 'monneyt', 'moniey', 'xmonney', 'gonney', 'mojnney', 'monncey', 'amonney', 'moznney', 'monneh', 'monxey', 'maonney', 'monnjy', 'mognney', 'monner', 'monnjey', 'monnoey', 'eonney', 'monyney', 'umonney', 'mooney', 'konney', 'monnhey', 'monnev', 'monnrey', 'monnny', 'monneyj', 'moynney', 'mconney', 'monnwy', 'mocney', 'monnwey', 'monfney', 'mxnney', 'vmonney', 'monnezy', 'moneney', 'donney', 'monvey', 'monneqy', 'aonney', 'mozney', 'monneyz', 'moanney', 'monneyc', 'mopnney', 'munney', 'monnty', 'hmonney', 'monpney', 'monneny', 'mfnney', 'omonney', 'monnuey', 'lonney', 'mqnney', 'movney', 'manney', 'monnry', 'modnney', 'tonney', 'monuney', 'monney', 'monnoy', 'nonney', 'mcnney', 'montey', 'monnmy', 'pmonney', 'monnxey', 'monnex', 'mocnney', 'monnevy', 'mofney', 'mionney', 'monny', 'moxney', 'molney', 'monqey', 'monnei', 'mohney', 'monneyv', 'mgonney', 'yonney', 'qonney', 'muonney', 'moneey', 'mfonney', 'nmonney', 'mzonney', 'monoey', 'monnedy', 'monnee', 'monnzey', 'uonney', 'moonney', 'monneyo', 'wonney', 'monneb', 'cmonney', 'mdnney', 'myonney', 'mxonney', 'monneky', 'monneyp', 'smonney', 'momney', 'monndey', 'monneoy', 'monwey', 'monnewy', 'mpnney', 'monneey', 'wmonney', 'monnfy', 'monneyx', 'monnec', 'monneyu', 'monnet', 'monntey', 'emonney', 'omnney', 'mondney', 'ronney', 'monneg', 'mogney', 'mongney', 'moeney', 'monnpey', 'onney', 'monhey', 'monnes', 'monaney', 'monneq', 'montney', 'mynney', 'mknney', 'monneyk', 'monneyr', 'monnez', 'mbonney', 'moknney', 'mouney', 'mjnney', 'monnew', 'mornney', 'menney', 'monnyy', 'monneuy', 'sonney', 'monnsy', 'moneny', 'bonney', 'monbney', 'mvonney', 'monniey', 'mokney', 'mongey', 'monnxy', 'monneyq', 'moaney', 'monneyf', 'conney', 'monmey', 'bmonney', 'moxnney', 'monnzy', 'monniy', 'moqnney', 'fmonney', 'monnesy', 'msonney', 'monjey', 'minney', 'mjonney', 'meonney', 'monrney', 'money', 'gmonney', 'monneyh', 'mnnney', 'monnek', 'kmonney', 'morney', 'mosney', 'vonney', 'mponney', 'monnvey', 'jmonney', 'monhney', 'monlney', 'modney', 'mbnney', 'moenney', 'monnmey', 'monnel', 'mgnney', 'monnety', 'xonney', 'ymonney', 'mhnney'}\n"
     ]
    }
   ],
   "source": [
    "print(len(set(edits_one(\"monney\"))))\n",
    "print(edits_one(\"monney\"))"
   ]
  },
  {
   "cell_type": "code",
   "execution_count": 12,
   "metadata": {},
   "outputs": [
    {
     "name": "stdout",
     "output_type": "stream",
     "text": [
      "{'money', 'monkey'}\n"
     ]
    }
   ],
   "source": [
    "print(known(edits_one(\"monney\")))"
   ]
  },
  {
   "cell_type": "code",
   "execution_count": 13,
   "metadata": {},
   "outputs": [
    {
     "name": "stdout",
     "output_type": "stream",
     "text": [
      "51013\n",
      "{'money', 'monkey'}\n"
     ]
    }
   ],
   "source": [
    "# Let's look at words that are two edits away\n",
    "print(len(set(edits_two(\"monney\"))))\n",
    "print(known(edits_one(\"monney\")))"
   ]
  },
  {
   "cell_type": "code",
   "execution_count": 14,
   "metadata": {},
   "outputs": [
    {
     "name": "stdout",
     "output_type": "stream",
     "text": [
      "{'money', 'monkey'}\n"
     ]
    }
   ],
   "source": [
    "# Let's look at possible corrections of a word\n",
    "print(possible_corrections(\"monney\"))"
   ]
  },
  {
   "cell_type": "code",
   "execution_count": 15,
   "metadata": {},
   "outputs": [
    {
     "name": "stdout",
     "output_type": "stream",
     "text": [
      "0.0002922233626303688\n",
      "5.378344097491451e-06\n"
     ]
    }
   ],
   "source": [
    "# Let's look at probability of a word\n",
    "print(prob(\"money\"))\n",
    "print(prob(\"monkey\"))"
   ]
  },
  {
   "cell_type": "code",
   "execution_count": 16,
   "metadata": {},
   "outputs": [],
   "source": [
    "def spell_check(word):\n",
    "    \"Print the most probable spelling correction for `word` out of all the `possible_corrections`\"\n",
    "    correct_word = max(possible_corrections(word), key=prob)\n",
    "    if correct_word != word:\n",
    "        return \"Did you mean \" + correct_word + \"?\"\n",
    "    else:\n",
    "        return \"Correct spelling.\""
   ]
  },
  {
   "cell_type": "code",
   "execution_count": 17,
   "metadata": {},
   "outputs": [
    {
     "name": "stdout",
     "output_type": "stream",
     "text": [
      "Did you mean money?\n"
     ]
    }
   ],
   "source": [
    "# test spell check\n",
    "print(spell_check(\"monney\"))"
   ]
  }
 ],
 "metadata": {
  "kernelspec": {
   "display_name": "Python 3 (ipykernel)",
   "language": "python",
   "name": "python3"
  },
  "language_info": {
   "codemirror_mode": {
    "name": "ipython",
    "version": 3
   },
   "file_extension": ".py",
   "mimetype": "text/x-python",
   "name": "python",
   "nbconvert_exporter": "python",
   "pygments_lexer": "ipython3",
   "version": "3.12.1"
  },
  "varInspector": {
   "cols": {
    "lenName": 16,
    "lenType": 16,
    "lenVar": 40
   },
   "kernels_config": {
    "python": {
     "delete_cmd_postfix": "",
     "delete_cmd_prefix": "del ",
     "library": "var_list.py",
     "varRefreshCmd": "print(var_dic_list())"
    },
    "r": {
     "delete_cmd_postfix": ") ",
     "delete_cmd_prefix": "rm(",
     "library": "var_list.r",
     "varRefreshCmd": "cat(var_dic_list()) "
    }
   },
   "types_to_exclude": [
    "module",
    "function",
    "builtin_function_or_method",
    "instance",
    "_Feature"
   ],
   "window_display": false
  }
 },
 "nbformat": 4,
 "nbformat_minor": 4
}
