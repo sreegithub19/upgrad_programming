{
 "cells": [
  {
   "cell_type": "code",
   "execution_count": 1,
   "id": "bbcde453-fbc3-4b80-a663-01212599fa9c",
   "metadata": {
    "id": "bbcde453-fbc3-4b80-a663-01212599fa9c"
   },
   "outputs": [],
   "source": [
    "import pandas as pd\n",
    "import numpy as np\n",
    "from sklearn.preprocessing import StandardScaler\n",
    "from sklearn.metrics import accuracy_score"
   ]
  },
  {
   "cell_type": "markdown",
   "id": "173476da-ac46-435c-81bb-858825c1908d",
   "metadata": {
    "id": "173476da-ac46-435c-81bb-858825c1908d"
   },
   "source": [
    "## Part 1: Import the Housing data and do feature transformations"
   ]
  },
  {
   "cell_type": "code",
   "execution_count": 2,
   "id": "999b20bb-ff06-47ce-9824-3431ade3d628",
   "metadata": {
    "id": "999b20bb-ff06-47ce-9824-3431ade3d628",
    "outputId": "c9961c6e-e367-44c1-8635-b7c6a62c4cb7"
   },
   "outputs": [
    {
     "data": {
      "text/html": [
       "<div>\n",
       "<style scoped>\n",
       "    .dataframe tbody tr th:only-of-type {\n",
       "        vertical-align: middle;\n",
       "    }\n",
       "\n",
       "    .dataframe tbody tr th {\n",
       "        vertical-align: top;\n",
       "    }\n",
       "\n",
       "    .dataframe thead th {\n",
       "        text-align: right;\n",
       "    }\n",
       "</style>\n",
       "<table border=\"1\" class=\"dataframe\">\n",
       "  <thead>\n",
       "    <tr style=\"text-align: right;\">\n",
       "      <th></th>\n",
       "      <th>bedrooms</th>\n",
       "      <th>sqft_living</th>\n",
       "      <th>price</th>\n",
       "    </tr>\n",
       "  </thead>\n",
       "  <tbody>\n",
       "    <tr>\n",
       "      <th>0</th>\n",
       "      <td>3</td>\n",
       "      <td>1340</td>\n",
       "      <td>313000</td>\n",
       "    </tr>\n",
       "    <tr>\n",
       "      <th>1</th>\n",
       "      <td>5</td>\n",
       "      <td>3650</td>\n",
       "      <td>2384000</td>\n",
       "    </tr>\n",
       "    <tr>\n",
       "      <th>2</th>\n",
       "      <td>3</td>\n",
       "      <td>1930</td>\n",
       "      <td>342000</td>\n",
       "    </tr>\n",
       "    <tr>\n",
       "      <th>3</th>\n",
       "      <td>3</td>\n",
       "      <td>2000</td>\n",
       "      <td>420000</td>\n",
       "    </tr>\n",
       "    <tr>\n",
       "      <th>4</th>\n",
       "      <td>4</td>\n",
       "      <td>1940</td>\n",
       "      <td>550000</td>\n",
       "    </tr>\n",
       "  </tbody>\n",
       "</table>\n",
       "</div>"
      ],
      "text/plain": [
       "   bedrooms  sqft_living    price\n",
       "0         3         1340   313000\n",
       "1         5         3650  2384000\n",
       "2         3         1930   342000\n",
       "3         3         2000   420000\n",
       "4         4         1940   550000"
      ]
     },
     "execution_count": 2,
     "metadata": {},
     "output_type": "execute_result"
    }
   ],
   "source": [
    "df= pd.read_csv('house_price_full.csv')\n",
    "df.head()"
   ]
  },
  {
   "cell_type": "code",
   "execution_count": 3,
   "id": "9ac1d055-4622-4fc9-a2a3-d463bcf8befd",
   "metadata": {
    "id": "9ac1d055-4622-4fc9-a2a3-d463bcf8befd"
   },
   "outputs": [],
   "source": [
    "X = df.copy()\n",
    "# Remove target\n",
    "Y = X.pop('price')\n",
    "\n",
    "# perform a scaler transform of the input data\n",
    "scaler = StandardScaler()\n",
    "X = scaler.fit_transform(X)\n",
    "\n",
    "# perform log transformation of target variable (For Sandeep: Is this needed?)\n",
    "Y = np.log(Y)"
   ]
  },
  {
   "cell_type": "code",
   "execution_count": 4,
   "id": "82b4c4a9-00c6-42d5-aede-b01c0faeb61a",
   "metadata": {
    "id": "82b4c4a9-00c6-42d5-aede-b01c0faeb61a",
    "outputId": "14e3cdc8-62a0-4dce-c657-a6937a09b761"
   },
   "outputs": [
    {
     "data": {
      "text/html": [
       "<div>\n",
       "<style scoped>\n",
       "    .dataframe tbody tr th:only-of-type {\n",
       "        vertical-align: middle;\n",
       "    }\n",
       "\n",
       "    .dataframe tbody tr th {\n",
       "        vertical-align: top;\n",
       "    }\n",
       "\n",
       "    .dataframe thead th {\n",
       "        text-align: right;\n",
       "    }\n",
       "</style>\n",
       "<table border=\"1\" class=\"dataframe\">\n",
       "  <thead>\n",
       "    <tr style=\"text-align: right;\">\n",
       "      <th></th>\n",
       "      <th>0</th>\n",
       "      <th>1</th>\n",
       "    </tr>\n",
       "  </thead>\n",
       "  <tbody>\n",
       "    <tr>\n",
       "      <th>0</th>\n",
       "      <td>-0.433198</td>\n",
       "      <td>-0.753258</td>\n",
       "    </tr>\n",
       "    <tr>\n",
       "      <th>1</th>\n",
       "      <td>1.675735</td>\n",
       "      <td>1.457330</td>\n",
       "    </tr>\n",
       "    <tr>\n",
       "      <th>2</th>\n",
       "      <td>-0.433198</td>\n",
       "      <td>-0.188649</td>\n",
       "    </tr>\n",
       "    <tr>\n",
       "      <th>3</th>\n",
       "      <td>-0.433198</td>\n",
       "      <td>-0.121661</td>\n",
       "    </tr>\n",
       "    <tr>\n",
       "      <th>4</th>\n",
       "      <td>0.621269</td>\n",
       "      <td>-0.179079</td>\n",
       "    </tr>\n",
       "    <tr>\n",
       "      <th>...</th>\n",
       "      <td>...</td>\n",
       "      <td>...</td>\n",
       "    </tr>\n",
       "    <tr>\n",
       "      <th>494</th>\n",
       "      <td>0.621269</td>\n",
       "      <td>0.873582</td>\n",
       "    </tr>\n",
       "    <tr>\n",
       "      <th>495</th>\n",
       "      <td>1.675735</td>\n",
       "      <td>2.299459</td>\n",
       "    </tr>\n",
       "    <tr>\n",
       "      <th>496</th>\n",
       "      <td>-0.433198</td>\n",
       "      <td>-0.724549</td>\n",
       "    </tr>\n",
       "    <tr>\n",
       "      <th>497</th>\n",
       "      <td>-0.433198</td>\n",
       "      <td>-0.179079</td>\n",
       "    </tr>\n",
       "    <tr>\n",
       "      <th>498</th>\n",
       "      <td>-0.433198</td>\n",
       "      <td>-1.040347</td>\n",
       "    </tr>\n",
       "  </tbody>\n",
       "</table>\n",
       "<p>499 rows × 2 columns</p>\n",
       "</div>"
      ],
      "text/plain": [
       "            0         1\n",
       "0   -0.433198 -0.753258\n",
       "1    1.675735  1.457330\n",
       "2   -0.433198 -0.188649\n",
       "3   -0.433198 -0.121661\n",
       "4    0.621269 -0.179079\n",
       "..        ...       ...\n",
       "494  0.621269  0.873582\n",
       "495  1.675735  2.299459\n",
       "496 -0.433198 -0.724549\n",
       "497 -0.433198 -0.179079\n",
       "498 -0.433198 -1.040347\n",
       "\n",
       "[499 rows x 2 columns]"
      ]
     },
     "execution_count": 4,
     "metadata": {},
     "output_type": "execute_result"
    }
   ],
   "source": [
    "df_scaled = pd.DataFrame(X)\n",
    "df_scaled"
   ]
  },
  {
   "cell_type": "code",
   "execution_count": 5,
   "id": "8034fbca-2081-4de3-9fd3-8e5d379b2cbf",
   "metadata": {
    "id": "8034fbca-2081-4de3-9fd3-8e5d379b2cbf",
    "outputId": "22931110-1276-44a7-e878-8d189355c9cc"
   },
   "outputs": [
    {
     "data": {
      "text/plain": [
       "0      12.653958\n",
       "1      14.684290\n",
       "2      12.742566\n",
       "3      12.948010\n",
       "4      13.217674\n",
       "         ...    \n",
       "494    13.380102\n",
       "495    13.764217\n",
       "496    12.128111\n",
       "497    12.721886\n",
       "498    12.254863\n",
       "Name: price, Length: 499, dtype: float64"
      ]
     },
     "execution_count": 5,
     "metadata": {},
     "output_type": "execute_result"
    }
   ],
   "source": [
    "Y"
   ]
  },
  {
   "cell_type": "markdown",
   "id": "754adc57-4f6c-4b96-a348-77bd82a4b304",
   "metadata": {
    "id": "754adc57-4f6c-4b96-a348-77bd82a4b304"
   },
   "source": [
    "## Part 2: Create Model Using `keras`\n",
    "\n",
    "![](multiple_neurons.png)"
   ]
  },
  {
   "cell_type": "code",
   "execution_count": 6,
   "id": "9e7e3de3-c446-4fbe-be67-08c1431450d5",
   "metadata": {
    "id": "9e7e3de3-c446-4fbe-be67-08c1431450d5"
   },
   "outputs": [
    {
     "name": "stderr",
     "output_type": "stream",
     "text": [
      "2025-01-25 17:54:56.415828: I external/local_xla/xla/tsl/cuda/cudart_stub.cc:32] Could not find cuda drivers on your machine, GPU will not be used.\n",
      "2025-01-25 17:54:56.420206: I external/local_xla/xla/tsl/cuda/cudart_stub.cc:32] Could not find cuda drivers on your machine, GPU will not be used.\n",
      "2025-01-25 17:54:56.434707: E external/local_xla/xla/stream_executor/cuda/cuda_fft.cc:477] Unable to register cuFFT factory: Attempting to register factory for plugin cuFFT when one has already been registered\n",
      "WARNING: All log messages before absl::InitializeLog() is called are written to STDERR\n",
      "E0000 00:00:1737827696.458568    3865 cuda_dnn.cc:8310] Unable to register cuDNN factory: Attempting to register factory for plugin cuDNN when one has already been registered\n",
      "E0000 00:00:1737827696.465440    3865 cuda_blas.cc:1418] Unable to register cuBLAS factory: Attempting to register factory for plugin cuBLAS when one has already been registered\n",
      "2025-01-25 17:54:56.489912: I tensorflow/core/platform/cpu_feature_guard.cc:210] This TensorFlow binary is optimized to use available CPU instructions in performance-critical operations.\n",
      "To enable the following instructions: AVX2 FMA, in other operations, rebuild TensorFlow with the appropriate compiler flags.\n"
     ]
    }
   ],
   "source": [
    "from tensorflow import keras"
   ]
  },
  {
   "cell_type": "code",
   "execution_count": 7,
   "id": "7bf2231d-a13c-4e82-aae9-597b3caae6c0",
   "metadata": {
    "id": "7bf2231d-a13c-4e82-aae9-597b3caae6c0"
   },
   "outputs": [
    {
     "name": "stderr",
     "output_type": "stream",
     "text": [
      "/usr/local/python/3.12.1/lib/python3.12/site-packages/keras/src/layers/core/dense.py:87: UserWarning: Do not pass an `input_shape`/`input_dim` argument to a layer. When using Sequential models, prefer using an `Input(shape)` object as the first layer in the model instead.\n",
      "  super().__init__(activity_regularizer=activity_regularizer, **kwargs)\n",
      "2025-01-25 17:54:58.754943: E external/local_xla/xla/stream_executor/cuda/cuda_driver.cc:152] failed call to cuInit: INTERNAL: CUDA error: Failed call to cuInit: UNKNOWN ERROR (303)\n"
     ]
    },
    {
     "data": {
      "text/html": [
       "<pre style=\"white-space:pre;overflow-x:auto;line-height:normal;font-family:Menlo,'DejaVu Sans Mono',consolas,'Courier New',monospace\"><span style=\"font-weight: bold\">Model: \"sequential\"</span>\n",
       "</pre>\n"
      ],
      "text/plain": [
       "\u001b[1mModel: \"sequential\"\u001b[0m\n"
      ]
     },
     "metadata": {},
     "output_type": "display_data"
    },
    {
     "data": {
      "text/html": [
       "<pre style=\"white-space:pre;overflow-x:auto;line-height:normal;font-family:Menlo,'DejaVu Sans Mono',consolas,'Courier New',monospace\">┏━━━━━━━━━━━━━━━━━━━━━━━━━━━━━━━━━┳━━━━━━━━━━━━━━━━━━━━━━━━┳━━━━━━━━━━━━━━━┓\n",
       "┃<span style=\"font-weight: bold\"> Layer (type)                    </span>┃<span style=\"font-weight: bold\"> Output Shape           </span>┃<span style=\"font-weight: bold\">       Param # </span>┃\n",
       "┡━━━━━━━━━━━━━━━━━━━━━━━━━━━━━━━━━╇━━━━━━━━━━━━━━━━━━━━━━━━╇━━━━━━━━━━━━━━━┩\n",
       "│ dense (<span style=\"color: #0087ff; text-decoration-color: #0087ff\">Dense</span>)                   │ (<span style=\"color: #00d7ff; text-decoration-color: #00d7ff\">None</span>, <span style=\"color: #00af00; text-decoration-color: #00af00\">2</span>)              │             <span style=\"color: #00af00; text-decoration-color: #00af00\">6</span> │\n",
       "├─────────────────────────────────┼────────────────────────┼───────────────┤\n",
       "│ dense_1 (<span style=\"color: #0087ff; text-decoration-color: #0087ff\">Dense</span>)                 │ (<span style=\"color: #00d7ff; text-decoration-color: #00d7ff\">None</span>, <span style=\"color: #00af00; text-decoration-color: #00af00\">1</span>)              │             <span style=\"color: #00af00; text-decoration-color: #00af00\">3</span> │\n",
       "└─────────────────────────────────┴────────────────────────┴───────────────┘\n",
       "</pre>\n"
      ],
      "text/plain": [
       "┏━━━━━━━━━━━━━━━━━━━━━━━━━━━━━━━━━┳━━━━━━━━━━━━━━━━━━━━━━━━┳━━━━━━━━━━━━━━━┓\n",
       "┃\u001b[1m \u001b[0m\u001b[1mLayer (type)                   \u001b[0m\u001b[1m \u001b[0m┃\u001b[1m \u001b[0m\u001b[1mOutput Shape          \u001b[0m\u001b[1m \u001b[0m┃\u001b[1m \u001b[0m\u001b[1m      Param #\u001b[0m\u001b[1m \u001b[0m┃\n",
       "┡━━━━━━━━━━━━━━━━━━━━━━━━━━━━━━━━━╇━━━━━━━━━━━━━━━━━━━━━━━━╇━━━━━━━━━━━━━━━┩\n",
       "│ dense (\u001b[38;5;33mDense\u001b[0m)                   │ (\u001b[38;5;45mNone\u001b[0m, \u001b[38;5;34m2\u001b[0m)              │             \u001b[38;5;34m6\u001b[0m │\n",
       "├─────────────────────────────────┼────────────────────────┼───────────────┤\n",
       "│ dense_1 (\u001b[38;5;33mDense\u001b[0m)                 │ (\u001b[38;5;45mNone\u001b[0m, \u001b[38;5;34m1\u001b[0m)              │             \u001b[38;5;34m3\u001b[0m │\n",
       "└─────────────────────────────────┴────────────────────────┴───────────────┘\n"
      ]
     },
     "metadata": {},
     "output_type": "display_data"
    },
    {
     "data": {
      "text/html": [
       "<pre style=\"white-space:pre;overflow-x:auto;line-height:normal;font-family:Menlo,'DejaVu Sans Mono',consolas,'Courier New',monospace\"><span style=\"font-weight: bold\"> Total params: </span><span style=\"color: #00af00; text-decoration-color: #00af00\">9</span> (36.00 B)\n",
       "</pre>\n"
      ],
      "text/plain": [
       "\u001b[1m Total params: \u001b[0m\u001b[38;5;34m9\u001b[0m (36.00 B)\n"
      ]
     },
     "metadata": {},
     "output_type": "display_data"
    },
    {
     "data": {
      "text/html": [
       "<pre style=\"white-space:pre;overflow-x:auto;line-height:normal;font-family:Menlo,'DejaVu Sans Mono',consolas,'Courier New',monospace\"><span style=\"font-weight: bold\"> Trainable params: </span><span style=\"color: #00af00; text-decoration-color: #00af00\">9</span> (36.00 B)\n",
       "</pre>\n"
      ],
      "text/plain": [
       "\u001b[1m Trainable params: \u001b[0m\u001b[38;5;34m9\u001b[0m (36.00 B)\n"
      ]
     },
     "metadata": {},
     "output_type": "display_data"
    },
    {
     "data": {
      "text/html": [
       "<pre style=\"white-space:pre;overflow-x:auto;line-height:normal;font-family:Menlo,'DejaVu Sans Mono',consolas,'Courier New',monospace\"><span style=\"font-weight: bold\"> Non-trainable params: </span><span style=\"color: #00af00; text-decoration-color: #00af00\">0</span> (0.00 B)\n",
       "</pre>\n"
      ],
      "text/plain": [
       "\u001b[1m Non-trainable params: \u001b[0m\u001b[38;5;34m0\u001b[0m (0.00 B)\n"
      ]
     },
     "metadata": {},
     "output_type": "display_data"
    }
   ],
   "source": [
    "model = keras.Sequential(\n",
    "    [\n",
    "        keras.layers.Dense(\n",
    "            2, activation=\"sigmoid\", input_shape=(X.shape[-1],)\n",
    "        ),\n",
    "        keras.layers.Dense(1, activation=\"linear\")\n",
    "    ]\n",
    ")\n",
    "model.summary()"
   ]
  },
  {
   "cell_type": "markdown",
   "id": "304a97ac-488e-44cf-b86b-b6f44dc81d72",
   "metadata": {
    "id": "304a97ac-488e-44cf-b86b-b6f44dc81d72"
   },
   "source": [
    "```python\n",
    "def random_init_params():\n",
    "    w1 = tf.Variable(tf.random.uniform((2, 2)))\n",
    "    b1 = tf.Variable(tf.random.uniform((1, 2)))\n",
    "    w2 = tf.Variable(tf.random.uniform((2, 1)))\n",
    "    b2 = tf.Variable(tf.random.uniform((1, 1)))\n",
    "    return w1,b1,w2,b2\n",
    "\n",
    "\n",
    "def forward_prop(x, w1, b1, w2, b2):\n",
    "    z1 = tf.matmul(x,w1) + b1\n",
    "    h1 = tf.math.sigmoid(z1)\n",
    "    z2 = tf.matmul(h1,w2) + b2\n",
    "    h2 = z2\n",
    "    return h2\n",
    "```"
   ]
  },
  {
   "cell_type": "code",
   "execution_count": 8,
   "id": "867ac40d-01c2-4f93-8977-1a3a1b37b320",
   "metadata": {
    "id": "867ac40d-01c2-4f93-8977-1a3a1b37b320"
   },
   "outputs": [],
   "source": [
    "model.compile(\n",
    "    optimizer=keras.optimizers.SGD(), loss=\"mean_squared_error\"\n",
    ")"
   ]
  },
  {
   "cell_type": "markdown",
   "id": "78a51db7-4b84-4338-9745-ece25b503892",
   "metadata": {
    "id": "78a51db7-4b84-4338-9745-ece25b503892"
   },
   "source": [
    "```python\n",
    "def train(x, y, w1, b1, w2, b2):\n",
    "    y_true = y\n",
    "    with tf.GradientTape() as g:\n",
    "        y_pred = forward_prop(x, w1, b1, w2, b2)\n",
    "\n",
    "        # loss\n",
    "        loss = 0.5*(y_true - y_pred)** 2\n",
    "    \n",
    "    #Gradient calculation  \n",
    "    print(\"**************************************************\")\n",
    "    print(\"GRADIENTS\")\n",
    "    print(\"**************************************************\")\n",
    "    gw1, gb1, gw2, gb2 = g.gradient(loss, [w1, b1, w2, b2])\n",
    "    print(\" the gradient for 1st layer weights are:\\n\",gw1.numpy())\n",
    "    print(\"--------------------------------------------------\")\n",
    "    print(\" the gradient for 2nd layer weights are:\\n\",gw2.numpy())\n",
    "    print(\"--------------------------------------------------\")\n",
    "    print(\" the gradient for 1st layer bias are:\\n\",gb1.numpy())\n",
    "    print(\"--------------------------------------------------\")\n",
    "    print(\" the gradient for 2nd layer bias are:\\n\",gb2.numpy())\n",
    "    print(\"--------------------------------------------------\")\n",
    "\n",
    "    # Gradient descent:\n",
    "    lr=0.2\n",
    "    w1.assign_sub(lr*gw1)\n",
    "    b1.assign_sub(lr*gb1) \n",
    "    w2.assign_sub(lr*gw2)\n",
    "    b2.assign_sub(lr*gb2)\n",
    "    print(\"**************************************************\")\n",
    "    print(\"NEW UPDATES\")\n",
    "    print(\"**************************************************\")\n",
    "    print(\" the updated 1st layer weights are:\\n\",w1.numpy())\n",
    "    print(\"--------------------------------------------------\")\n",
    "    print(\" the updated 2nd layer weights are:\\n\",w2.numpy())\n",
    "    print(\"--------------------------------------------------\")\n",
    "    print(\" the updated 1st layer bias are:\\n\",b1.numpy())\n",
    "    print(\"--------------------------------------------------\")\n",
    "    print(\" the updated 2nd layer bias are:\\n\",b2.numpy())\n",
    "\n",
    "\n",
    "    return w1, b1, w2, b2,loss\n",
    "\n",
    "```"
   ]
  },
  {
   "cell_type": "code",
   "execution_count": 9,
   "id": "72ab0367-85da-46b9-bce9-4da2c72dfaa7",
   "metadata": {
    "id": "72ab0367-85da-46b9-bce9-4da2c72dfaa7",
    "outputId": "d50e1675-e868-44fd-b708-a0459249cadd"
   },
   "outputs": [
    {
     "name": "stdout",
     "output_type": "stream",
     "text": [
      "Epoch 1/10\n",
      "\u001b[1m16/16\u001b[0m \u001b[32m━━━━━━━━━━━━━━━━━━━━\u001b[0m\u001b[37m\u001b[0m \u001b[1m0s\u001b[0m 4ms/step - loss: 138.2426  \n",
      "Epoch 2/10\n",
      "\u001b[1m16/16\u001b[0m \u001b[32m━━━━━━━━━━━━━━━━━━━━\u001b[0m\u001b[37m\u001b[0m \u001b[1m0s\u001b[0m 2ms/step - loss: 43.9814 \n",
      "Epoch 3/10\n",
      "\u001b[1m16/16\u001b[0m \u001b[32m━━━━━━━━━━━━━━━━━━━━\u001b[0m\u001b[37m\u001b[0m \u001b[1m0s\u001b[0m 2ms/step - loss: 9.4004  \n",
      "Epoch 4/10\n",
      "\u001b[1m16/16\u001b[0m \u001b[32m━━━━━━━━━━━━━━━━━━━━\u001b[0m\u001b[37m\u001b[0m \u001b[1m0s\u001b[0m 2ms/step - loss: 1.7981 \n",
      "Epoch 5/10\n",
      "\u001b[1m16/16\u001b[0m \u001b[32m━━━━━━━━━━━━━━━━━━━━\u001b[0m\u001b[37m\u001b[0m \u001b[1m0s\u001b[0m 2ms/step - loss: 0.4035 \n",
      "Epoch 6/10\n",
      "\u001b[1m16/16\u001b[0m \u001b[32m━━━━━━━━━━━━━━━━━━━━\u001b[0m\u001b[37m\u001b[0m \u001b[1m0s\u001b[0m 2ms/step - loss: 0.1692 \n",
      "Epoch 7/10\n",
      "\u001b[1m16/16\u001b[0m \u001b[32m━━━━━━━━━━━━━━━━━━━━\u001b[0m\u001b[37m\u001b[0m \u001b[1m0s\u001b[0m 2ms/step - loss: 0.1465 \n",
      "Epoch 8/10\n",
      "\u001b[1m16/16\u001b[0m \u001b[32m━━━━━━━━━━━━━━━━━━━━\u001b[0m\u001b[37m\u001b[0m \u001b[1m0s\u001b[0m 3ms/step - loss: 0.1368 \n",
      "Epoch 9/10\n",
      "\u001b[1m16/16\u001b[0m \u001b[32m━━━━━━━━━━━━━━━━━━━━\u001b[0m\u001b[37m\u001b[0m \u001b[1m0s\u001b[0m 3ms/step - loss: 0.1381 \n",
      "Epoch 10/10\n",
      "\u001b[1m16/16\u001b[0m \u001b[32m━━━━━━━━━━━━━━━━━━━━\u001b[0m\u001b[37m\u001b[0m \u001b[1m0s\u001b[0m 2ms/step - loss: 0.1344  \n"
     ]
    },
    {
     "data": {
      "text/plain": [
       "<keras.src.callbacks.history.History at 0x7e9ef1dbede0>"
      ]
     },
     "execution_count": 9,
     "metadata": {},
     "output_type": "execute_result"
    }
   ],
   "source": [
    "model.fit(X,Y.values,epochs=10,batch_size=32)"
   ]
  },
  {
   "cell_type": "code",
   "execution_count": 10,
   "id": "ac6189a0-f5a7-48e3-9bbd-03f219c6ab2c",
   "metadata": {
    "id": "ac6189a0-f5a7-48e3-9bbd-03f219c6ab2c",
    "outputId": "fccf1023-1b62-450d-9d92-0870bf5f9d9a"
   },
   "outputs": [
    {
     "name": "stdout",
     "output_type": "stream",
     "text": [
      "\u001b[1m16/16\u001b[0m \u001b[32m━━━━━━━━━━━━━━━━━━━━\u001b[0m\u001b[37m\u001b[0m \u001b[1m0s\u001b[0m 4ms/step \n"
     ]
    },
    {
     "data": {
      "text/plain": [
       "array([12.802834 , 13.585213 , 13.043623 , 13.070164 , 13.058988 ,\n",
       "       12.578514 , 12.791878 , 13.324413 , 13.223345 , 12.891991 ,\n",
       "       12.957348 , 13.387466 , 13.189243 , 12.692213 , 13.393152 ,\n",
       "       12.74147  , 12.900237 , 13.441138 , 12.815784 , 12.732581 ,\n",
       "       13.157763 , 12.862726 , 12.973354 , 13.330589 , 12.924949 ,\n",
       "       13.103632 , 13.199572 , 13.154629 , 13.36658  , 13.279198 ,\n",
       "       12.908535 , 13.369854 , 13.012819 , 13.357935 , 13.572285 ,\n",
       "       13.465969 , 12.540604 , 13.012749 , 13.055052 , 13.209816 ,\n",
       "       12.904373 , 12.875317 , 12.564348 , 12.981304 , 12.730097 ,\n",
       "       12.723661 , 13.058844 , 13.043623 , 12.772342 , 13.494251 ,\n",
       "       13.324413 , 13.374233 , 13.313921 , 12.993162 , 13.167355 ,\n",
       "       13.05138  , 13.151062 , 13.5875   , 12.794161 , 12.910531 ,\n",
       "       13.494251 , 13.304562 , 13.330589 , 13.25979  , 13.387466 ,\n",
       "       12.587925 , 12.933079 , 12.65584  , 13.292173 , 13.14353  ,\n",
       "       13.267195 , 13.35652  , 13.182829 , 13.032112 , 12.798502 ,\n",
       "       12.756768 , 13.143904 , 13.330589 , 13.125847 , 13.243362 ,\n",
       "       13.07785  , 13.585999 , 13.247219 , 12.993162 , 13.203597 ,\n",
       "       13.097702 , 12.698624 , 12.862642 , 12.817865 , 12.725625 ,\n",
       "       13.468599 , 13.12915  , 13.40301  , 13.196138 , 12.896093 ,\n",
       "       13.342356 , 12.945253 , 13.444155 , 12.832937 , 13.662697 ,\n",
       "       13.460117 , 13.073919 , 12.798502 , 13.213858 , 13.030348 ,\n",
       "       13.384554 , 13.107567 , 13.717382 , 12.559612 , 12.7726345,\n",
       "       12.837332 , 13.193254 , 12.674084 , 13.282526 , 13.085333 ,\n",
       "       12.731483 , 13.154219 , 12.545365 , 13.4712715, 12.941204 ,\n",
       "       13.070332 , 12.84996  , 14.183839 , 13.024394 , 13.024394 ,\n",
       "       12.832937 , 12.875317 , 12.698624 , 13.039795 , 13.384554 ,\n",
       "       13.465969 , 12.891941 , 13.109579 , 13.1376   , 12.967289 ,\n",
       "       13.189788 , 12.993162 , 13.085333 , 12.989218 , 13.23748  ,\n",
       "       13.0474415, 12.707655 , 13.517048 , 13.7315235, 12.900651 ,\n",
       "       12.920828 , 12.832083 , 13.411512 , 13.751581 , 12.893995 ,\n",
       "       13.240819 , 12.858513 , 12.6804695, 12.807158 , 13.136708 ,\n",
       "       12.866853 , 13.070164 , 12.648409 , 12.502275 , 13.0984955,\n",
       "       12.904373 , 13.12221  , 12.7987175, 12.924919 , 13.509524 ,\n",
       "       13.039904 , 12.891991 , 12.587925 , 12.674084 , 12.767954 ,\n",
       "       13.549595 , 13.186314 , 13.354932 , 12.933079 , 12.929005 ,\n",
       "       13.012749 , 13.081596 , 12.832937 , 12.883669 , 13.233395 ,\n",
       "       12.65584  , 12.739019 , 13.200502 , 13.177933 , 13.240819 ,\n",
       "       13.438393 , 13.103884 , 13.012749 , 13.020601 , 13.597212 ,\n",
       "       12.837205 , 12.87525  , 13.118269 , 13.539173 , 12.924919 ,\n",
       "       12.989218 , 13.081596 , 13.175833 , 13.418926 , 12.789814 ,\n",
       "       13.627588 , 13.601643 , 13.430271 , 13.393152 , 13.391626 ,\n",
       "       12.92284  , 13.465464 , 13.315081 , 12.754746 , 13.333664 ,\n",
       "       13.512041 , 12.701235 , 13.014828 , 13.032112 , 12.60199  ,\n",
       "       12.949293 , 12.837205 , 13.754953 , 13.062626 , 12.712159 ,\n",
       "       13.14353  , 12.558297 , 12.862642 , 13.387308 , 13.307691 ,\n",
       "       13.558052 , 12.772342 , 13.751581 , 13.421734 , 12.728126 ,\n",
       "       13.113256 , 12.646678 , 13.234134 , 13.73844  , 12.763559 ,\n",
       "       12.887781 , 12.912617 , 12.701235 , 13.00885  , 13.253246 ,\n",
       "       13.304562 , 13.645092 , 13.227411 , 12.973389 , 13.096258 ,\n",
       "       12.977333 , 12.945253 , 12.877317 , 13.666763 , 13.016714 ,\n",
       "       12.828661 , 13.020521 , 13.97617  , 12.653011 , 13.317022 ,\n",
       "       12.65584  , 12.904373 , 13.289797 , 13.039795 , 13.196138 ,\n",
       "       12.661888 , 13.260656 , 13.465969 , 13.233395 , 12.639183 ,\n",
       "       12.550121 , 13.2397175, 12.981304 , 12.791878 , 13.055052 ,\n",
       "       13.492966 , 13.25049  , 13.686399 , 13.193254 , 12.945278 ,\n",
       "       13.305668 , 13.039904 , 13.13995  , 13.081402 , 13.168339 ,\n",
       "       12.916727 , 12.52149  , 12.914642 , 12.924919 , 13.571177 ,\n",
       "       13.38875  , 13.0474415, 12.832937 , 12.669533 , 12.550121 ,\n",
       "       12.592621 , 13.609003 , 13.147488 , 12.912617 , 12.871056 ,\n",
       "       12.802834 , 13.01664  , 13.25979  , 12.653011 , 12.820084 ,\n",
       "       12.929005 , 13.419006 , 13.133097 , 12.977333 , 12.937145 ,\n",
       "       13.004942 , 13.158186 , 12.879497 , 12.767954 , 13.712778 ,\n",
       "       13.631808 , 12.703144 , 13.307556 , 13.236361 , 12.915083 ,\n",
       "       12.550121 , 12.873127 , 13.103632 , 13.463226 , 12.977369 ,\n",
       "       12.941204 , 13.273699 , 13.430271 , 12.763559 , 13.089061 ,\n",
       "       13.308815 , 12.625289 , 13.055052 , 12.502275 , 12.79623  ,\n",
       "       13.00675  , 13.1294775, 13.008914 , 13.130428 , 12.949293 ,\n",
       "       13.0474415, 13.196711 , 13.103884 , 13.51954  , 13.172322 ,\n",
       "       12.824376 , 12.662195 , 12.866853 , 13.250778 , 13.246403 ,\n",
       "       13.157763 , 13.039795 , 13.028257 , 13.172322 , 12.756768 ,\n",
       "       12.61599  , 13.489094 , 13.081596 , 12.643799 , 13.020601 ,\n",
       "       13.062626 , 13.559267 , 12.739019 , 13.182829 , 13.223345 ,\n",
       "       13.377155 , 13.182829 , 12.87525  , 12.628269 , 12.737028 ,\n",
       "       12.789814 , 13.360579 , 12.973354 , 12.794161 , 13.244148 ,\n",
       "       12.759157 , 12.767954 , 13.373556 , 13.614752 , 12.887781 ,\n",
       "       12.877317 , 12.854197 , 12.824376 , 13.291952 , 12.908499 ,\n",
       "       13.047564 , 13.075792 , 12.832937 , 12.6850195, 12.5690775,\n",
       "       13.182313 , 12.643799 , 12.625289 , 13.697248 , 12.929005 ,\n",
       "       13.612586 , 13.3489   , 12.985308 , 12.854293 , 13.012749 ,\n",
       "       12.61599  , 13.240049 , 13.59943  , 13.289797 , 12.824376 ,\n",
       "       13.175833 , 13.247468 , 12.545365 , 12.945278 , 13.400202 ,\n",
       "       12.502275 , 12.824376 , 12.847839 , 12.995007 , 13.107306 ,\n",
       "       12.678627 , 12.871056 , 13.070332 , 12.832937 , 13.592749 ,\n",
       "       13.151062 , 13.039795 , 12.723661 , 13.924971 , 13.081596 ,\n",
       "       13.14139  , 13.545127 , 13.363913 , 12.703144 , 13.438393 ,\n",
       "       12.837205 , 13.234134 , 13.055189 , 12.937145 , 12.828661 ,\n",
       "       13.308815 , 13.081596 , 13.1294775, 12.808022 , 12.973354 ,\n",
       "       13.205752 , 12.822166 , 13.058988 , 12.832937 , 12.811475 ,\n",
       "       12.750328 , 13.360928 , 13.606043 , 13.200159 , 13.546047 ,\n",
       "       12.871128 , 13.4273205, 12.664976 , 13.055189 , 12.985266 ,\n",
       "       13.070164 , 12.949293 , 13.855665 , 12.785458 , 13.224037 ,\n",
       "       12.703144 , 13.193254 , 13.330589 , 13.363913 , 12.643799 ,\n",
       "       12.802834 , 13.55118  , 14.04018  , 12.650347 , 13.43585  ,\n",
       "       13.118269 , 13.263931 , 13.058988 , 12.807158 , 13.14031  ,\n",
       "       12.815784 , 13.87671  , 13.360928 , 13.073919 , 13.491676 ,\n",
       "       12.739019 , 12.961363 , 12.525364 , 12.896093 , 13.266296 ,\n",
       "       13.777842 , 12.734562 , 13.585213 , 13.132759 , 13.270451 ,\n",
       "       12.592621 , 13.404758 , 13.125847 , 13.531872 , 13.259665 ,\n",
       "       13.14353  , 12.977369 , 13.377155 , 12.646678 , 13.421734 ,\n",
       "       13.758301 , 12.815783 , 13.0474415, 12.669533 ], dtype=float32)"
      ]
     },
     "execution_count": 10,
     "metadata": {},
     "output_type": "execute_result"
    }
   ],
   "source": [
    "model.predict(X)[:,0]"
   ]
  },
  {
   "cell_type": "code",
   "execution_count": null,
   "id": "e70387c2-c04d-4ff1-8bc1-a13a064daf6a",
   "metadata": {
    "id": "e70387c2-c04d-4ff1-8bc1-a13a064daf6a"
   },
   "outputs": [],
   "source": []
  }
 ],
 "metadata": {
  "colab": {
   "name": "nn_keras.ipynb",
   "provenance": []
  },
  "kernelspec": {
   "display_name": "Python 3 (ipykernel)",
   "language": "python",
   "name": "python3"
  },
  "language_info": {
   "codemirror_mode": {
    "name": "ipython",
    "version": 3
   },
   "file_extension": ".py",
   "mimetype": "text/x-python",
   "name": "python",
   "nbconvert_exporter": "python",
   "pygments_lexer": "ipython3",
   "version": "3.12.1"
  }
 },
 "nbformat": 4,
 "nbformat_minor": 5
}
