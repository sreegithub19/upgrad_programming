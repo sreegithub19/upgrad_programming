{
 "cells": [
  {
   "cell_type": "code",
   "execution_count": 1,
   "id": "bbcde453-fbc3-4b80-a663-01212599fa9c",
   "metadata": {
    "id": "bbcde453-fbc3-4b80-a663-01212599fa9c"
   },
   "outputs": [],
   "source": [
    "import pandas as pd\n",
    "import numpy as np\n",
    "from sklearn.preprocessing import StandardScaler\n",
    "from sklearn.metrics import accuracy_score"
   ]
  },
  {
   "cell_type": "markdown",
   "id": "173476da-ac46-435c-81bb-858825c1908d",
   "metadata": {
    "id": "173476da-ac46-435c-81bb-858825c1908d"
   },
   "source": [
    "## Part 1: Import the Housing data and do feature transformations"
   ]
  },
  {
   "cell_type": "code",
   "execution_count": 2,
   "id": "999b20bb-ff06-47ce-9824-3431ade3d628",
   "metadata": {
    "id": "999b20bb-ff06-47ce-9824-3431ade3d628",
    "outputId": "c9961c6e-e367-44c1-8635-b7c6a62c4cb7"
   },
   "outputs": [
    {
     "data": {
      "text/html": [
       "<div>\n",
       "<style scoped>\n",
       "    .dataframe tbody tr th:only-of-type {\n",
       "        vertical-align: middle;\n",
       "    }\n",
       "\n",
       "    .dataframe tbody tr th {\n",
       "        vertical-align: top;\n",
       "    }\n",
       "\n",
       "    .dataframe thead th {\n",
       "        text-align: right;\n",
       "    }\n",
       "</style>\n",
       "<table border=\"1\" class=\"dataframe\">\n",
       "  <thead>\n",
       "    <tr style=\"text-align: right;\">\n",
       "      <th></th>\n",
       "      <th>bedrooms</th>\n",
       "      <th>sqft_living</th>\n",
       "      <th>price</th>\n",
       "    </tr>\n",
       "  </thead>\n",
       "  <tbody>\n",
       "    <tr>\n",
       "      <th>0</th>\n",
       "      <td>3</td>\n",
       "      <td>1340</td>\n",
       "      <td>313000</td>\n",
       "    </tr>\n",
       "    <tr>\n",
       "      <th>1</th>\n",
       "      <td>5</td>\n",
       "      <td>3650</td>\n",
       "      <td>2384000</td>\n",
       "    </tr>\n",
       "    <tr>\n",
       "      <th>2</th>\n",
       "      <td>3</td>\n",
       "      <td>1930</td>\n",
       "      <td>342000</td>\n",
       "    </tr>\n",
       "    <tr>\n",
       "      <th>3</th>\n",
       "      <td>3</td>\n",
       "      <td>2000</td>\n",
       "      <td>420000</td>\n",
       "    </tr>\n",
       "    <tr>\n",
       "      <th>4</th>\n",
       "      <td>4</td>\n",
       "      <td>1940</td>\n",
       "      <td>550000</td>\n",
       "    </tr>\n",
       "  </tbody>\n",
       "</table>\n",
       "</div>"
      ],
      "text/plain": [
       "   bedrooms  sqft_living    price\n",
       "0         3         1340   313000\n",
       "1         5         3650  2384000\n",
       "2         3         1930   342000\n",
       "3         3         2000   420000\n",
       "4         4         1940   550000"
      ]
     },
     "execution_count": 2,
     "metadata": {},
     "output_type": "execute_result"
    }
   ],
   "source": [
    "df= pd.read_csv('house_price_full.csv')\n",
    "df.head()"
   ]
  },
  {
   "cell_type": "code",
   "execution_count": 3,
   "id": "9ac1d055-4622-4fc9-a2a3-d463bcf8befd",
   "metadata": {
    "id": "9ac1d055-4622-4fc9-a2a3-d463bcf8befd"
   },
   "outputs": [],
   "source": [
    "X = df.copy()\n",
    "# Remove target\n",
    "Y = X.pop('price')\n",
    "\n",
    "# perform a scaler transform of the input data\n",
    "scaler = StandardScaler()\n",
    "X = scaler.fit_transform(X)\n",
    "\n",
    "# perform log transformation of target variable (For Sandeep: Is this needed?)\n",
    "Y = np.log(Y)"
   ]
  },
  {
   "cell_type": "code",
   "execution_count": 4,
   "id": "82b4c4a9-00c6-42d5-aede-b01c0faeb61a",
   "metadata": {
    "id": "82b4c4a9-00c6-42d5-aede-b01c0faeb61a",
    "outputId": "14e3cdc8-62a0-4dce-c657-a6937a09b761"
   },
   "outputs": [
    {
     "data": {
      "text/html": [
       "<div>\n",
       "<style scoped>\n",
       "    .dataframe tbody tr th:only-of-type {\n",
       "        vertical-align: middle;\n",
       "    }\n",
       "\n",
       "    .dataframe tbody tr th {\n",
       "        vertical-align: top;\n",
       "    }\n",
       "\n",
       "    .dataframe thead th {\n",
       "        text-align: right;\n",
       "    }\n",
       "</style>\n",
       "<table border=\"1\" class=\"dataframe\">\n",
       "  <thead>\n",
       "    <tr style=\"text-align: right;\">\n",
       "      <th></th>\n",
       "      <th>0</th>\n",
       "      <th>1</th>\n",
       "    </tr>\n",
       "  </thead>\n",
       "  <tbody>\n",
       "    <tr>\n",
       "      <th>0</th>\n",
       "      <td>-0.433198</td>\n",
       "      <td>-0.753258</td>\n",
       "    </tr>\n",
       "    <tr>\n",
       "      <th>1</th>\n",
       "      <td>1.675735</td>\n",
       "      <td>1.457330</td>\n",
       "    </tr>\n",
       "    <tr>\n",
       "      <th>2</th>\n",
       "      <td>-0.433198</td>\n",
       "      <td>-0.188649</td>\n",
       "    </tr>\n",
       "    <tr>\n",
       "      <th>3</th>\n",
       "      <td>-0.433198</td>\n",
       "      <td>-0.121661</td>\n",
       "    </tr>\n",
       "    <tr>\n",
       "      <th>4</th>\n",
       "      <td>0.621269</td>\n",
       "      <td>-0.179079</td>\n",
       "    </tr>\n",
       "    <tr>\n",
       "      <th>...</th>\n",
       "      <td>...</td>\n",
       "      <td>...</td>\n",
       "    </tr>\n",
       "    <tr>\n",
       "      <th>494</th>\n",
       "      <td>0.621269</td>\n",
       "      <td>0.873582</td>\n",
       "    </tr>\n",
       "    <tr>\n",
       "      <th>495</th>\n",
       "      <td>1.675735</td>\n",
       "      <td>2.299459</td>\n",
       "    </tr>\n",
       "    <tr>\n",
       "      <th>496</th>\n",
       "      <td>-0.433198</td>\n",
       "      <td>-0.724549</td>\n",
       "    </tr>\n",
       "    <tr>\n",
       "      <th>497</th>\n",
       "      <td>-0.433198</td>\n",
       "      <td>-0.179079</td>\n",
       "    </tr>\n",
       "    <tr>\n",
       "      <th>498</th>\n",
       "      <td>-0.433198</td>\n",
       "      <td>-1.040347</td>\n",
       "    </tr>\n",
       "  </tbody>\n",
       "</table>\n",
       "<p>499 rows × 2 columns</p>\n",
       "</div>"
      ],
      "text/plain": [
       "            0         1\n",
       "0   -0.433198 -0.753258\n",
       "1    1.675735  1.457330\n",
       "2   -0.433198 -0.188649\n",
       "3   -0.433198 -0.121661\n",
       "4    0.621269 -0.179079\n",
       "..        ...       ...\n",
       "494  0.621269  0.873582\n",
       "495  1.675735  2.299459\n",
       "496 -0.433198 -0.724549\n",
       "497 -0.433198 -0.179079\n",
       "498 -0.433198 -1.040347\n",
       "\n",
       "[499 rows x 2 columns]"
      ]
     },
     "execution_count": 4,
     "metadata": {},
     "output_type": "execute_result"
    }
   ],
   "source": [
    "df_scaled = pd.DataFrame(X)\n",
    "df_scaled"
   ]
  },
  {
   "cell_type": "code",
   "execution_count": 5,
   "id": "8034fbca-2081-4de3-9fd3-8e5d379b2cbf",
   "metadata": {
    "id": "8034fbca-2081-4de3-9fd3-8e5d379b2cbf",
    "outputId": "22931110-1276-44a7-e878-8d189355c9cc"
   },
   "outputs": [
    {
     "data": {
      "text/plain": [
       "0      12.653958\n",
       "1      14.684290\n",
       "2      12.742566\n",
       "3      12.948010\n",
       "4      13.217674\n",
       "         ...    \n",
       "494    13.380102\n",
       "495    13.764217\n",
       "496    12.128111\n",
       "497    12.721886\n",
       "498    12.254863\n",
       "Name: price, Length: 499, dtype: float64"
      ]
     },
     "execution_count": 5,
     "metadata": {},
     "output_type": "execute_result"
    }
   ],
   "source": [
    "Y"
   ]
  },
  {
   "cell_type": "markdown",
   "id": "754adc57-4f6c-4b96-a348-77bd82a4b304",
   "metadata": {
    "id": "754adc57-4f6c-4b96-a348-77bd82a4b304"
   },
   "source": [
    "## Part 2: Create Model Using `keras`\n",
    "\n",
    "![](multiple_neurons.png)"
   ]
  },
  {
   "cell_type": "code",
   "execution_count": 6,
   "id": "9e7e3de3-c446-4fbe-be67-08c1431450d5",
   "metadata": {
    "id": "9e7e3de3-c446-4fbe-be67-08c1431450d5"
   },
   "outputs": [
    {
     "name": "stderr",
     "output_type": "stream",
     "text": [
      "2025-02-11 16:45:24.402786: I external/local_xla/xla/tsl/cuda/cudart_stub.cc:32] Could not find cuda drivers on your machine, GPU will not be used.\n",
      "2025-02-11 16:45:24.430848: I external/local_xla/xla/tsl/cuda/cudart_stub.cc:32] Could not find cuda drivers on your machine, GPU will not be used.\n",
      "2025-02-11 16:45:24.489215: E external/local_xla/xla/stream_executor/cuda/cuda_fft.cc:477] Unable to register cuFFT factory: Attempting to register factory for plugin cuFFT when one has already been registered\n",
      "WARNING: All log messages before absl::InitializeLog() is called are written to STDERR\n",
      "E0000 00:00:1739292324.589495    4805 cuda_dnn.cc:8310] Unable to register cuDNN factory: Attempting to register factory for plugin cuDNN when one has already been registered\n",
      "E0000 00:00:1739292324.615430    4805 cuda_blas.cc:1418] Unable to register cuBLAS factory: Attempting to register factory for plugin cuBLAS when one has already been registered\n",
      "2025-02-11 16:45:24.739960: I tensorflow/core/platform/cpu_feature_guard.cc:210] This TensorFlow binary is optimized to use available CPU instructions in performance-critical operations.\n",
      "To enable the following instructions: AVX2 FMA, in other operations, rebuild TensorFlow with the appropriate compiler flags.\n"
     ]
    }
   ],
   "source": [
    "from tensorflow import keras"
   ]
  },
  {
   "cell_type": "code",
   "execution_count": 7,
   "id": "7bf2231d-a13c-4e82-aae9-597b3caae6c0",
   "metadata": {
    "id": "7bf2231d-a13c-4e82-aae9-597b3caae6c0"
   },
   "outputs": [
    {
     "name": "stderr",
     "output_type": "stream",
     "text": [
      "/usr/local/python/3.12.1/lib/python3.12/site-packages/keras/src/layers/core/dense.py:87: UserWarning: Do not pass an `input_shape`/`input_dim` argument to a layer. When using Sequential models, prefer using an `Input(shape)` object as the first layer in the model instead.\n",
      "  super().__init__(activity_regularizer=activity_regularizer, **kwargs)\n",
      "2025-02-11 16:45:38.023186: E external/local_xla/xla/stream_executor/cuda/cuda_driver.cc:152] failed call to cuInit: INTERNAL: CUDA error: Failed call to cuInit: UNKNOWN ERROR (303)\n"
     ]
    },
    {
     "data": {
      "text/html": [
       "<pre style=\"white-space:pre;overflow-x:auto;line-height:normal;font-family:Menlo,'DejaVu Sans Mono',consolas,'Courier New',monospace\"><span style=\"font-weight: bold\">Model: \"sequential\"</span>\n",
       "</pre>\n"
      ],
      "text/plain": [
       "\u001b[1mModel: \"sequential\"\u001b[0m\n"
      ]
     },
     "metadata": {},
     "output_type": "display_data"
    },
    {
     "data": {
      "text/html": [
       "<pre style=\"white-space:pre;overflow-x:auto;line-height:normal;font-family:Menlo,'DejaVu Sans Mono',consolas,'Courier New',monospace\">┏━━━━━━━━━━━━━━━━━━━━━━━━━━━━━━━━━┳━━━━━━━━━━━━━━━━━━━━━━━━┳━━━━━━━━━━━━━━━┓\n",
       "┃<span style=\"font-weight: bold\"> Layer (type)                    </span>┃<span style=\"font-weight: bold\"> Output Shape           </span>┃<span style=\"font-weight: bold\">       Param # </span>┃\n",
       "┡━━━━━━━━━━━━━━━━━━━━━━━━━━━━━━━━━╇━━━━━━━━━━━━━━━━━━━━━━━━╇━━━━━━━━━━━━━━━┩\n",
       "│ dense (<span style=\"color: #0087ff; text-decoration-color: #0087ff\">Dense</span>)                   │ (<span style=\"color: #00d7ff; text-decoration-color: #00d7ff\">None</span>, <span style=\"color: #00af00; text-decoration-color: #00af00\">2</span>)              │             <span style=\"color: #00af00; text-decoration-color: #00af00\">6</span> │\n",
       "├─────────────────────────────────┼────────────────────────┼───────────────┤\n",
       "│ dense_1 (<span style=\"color: #0087ff; text-decoration-color: #0087ff\">Dense</span>)                 │ (<span style=\"color: #00d7ff; text-decoration-color: #00d7ff\">None</span>, <span style=\"color: #00af00; text-decoration-color: #00af00\">1</span>)              │             <span style=\"color: #00af00; text-decoration-color: #00af00\">3</span> │\n",
       "└─────────────────────────────────┴────────────────────────┴───────────────┘\n",
       "</pre>\n"
      ],
      "text/plain": [
       "┏━━━━━━━━━━━━━━━━━━━━━━━━━━━━━━━━━┳━━━━━━━━━━━━━━━━━━━━━━━━┳━━━━━━━━━━━━━━━┓\n",
       "┃\u001b[1m \u001b[0m\u001b[1mLayer (type)                   \u001b[0m\u001b[1m \u001b[0m┃\u001b[1m \u001b[0m\u001b[1mOutput Shape          \u001b[0m\u001b[1m \u001b[0m┃\u001b[1m \u001b[0m\u001b[1m      Param #\u001b[0m\u001b[1m \u001b[0m┃\n",
       "┡━━━━━━━━━━━━━━━━━━━━━━━━━━━━━━━━━╇━━━━━━━━━━━━━━━━━━━━━━━━╇━━━━━━━━━━━━━━━┩\n",
       "│ dense (\u001b[38;5;33mDense\u001b[0m)                   │ (\u001b[38;5;45mNone\u001b[0m, \u001b[38;5;34m2\u001b[0m)              │             \u001b[38;5;34m6\u001b[0m │\n",
       "├─────────────────────────────────┼────────────────────────┼───────────────┤\n",
       "│ dense_1 (\u001b[38;5;33mDense\u001b[0m)                 │ (\u001b[38;5;45mNone\u001b[0m, \u001b[38;5;34m1\u001b[0m)              │             \u001b[38;5;34m3\u001b[0m │\n",
       "└─────────────────────────────────┴────────────────────────┴───────────────┘\n"
      ]
     },
     "metadata": {},
     "output_type": "display_data"
    },
    {
     "data": {
      "text/html": [
       "<pre style=\"white-space:pre;overflow-x:auto;line-height:normal;font-family:Menlo,'DejaVu Sans Mono',consolas,'Courier New',monospace\"><span style=\"font-weight: bold\"> Total params: </span><span style=\"color: #00af00; text-decoration-color: #00af00\">9</span> (36.00 B)\n",
       "</pre>\n"
      ],
      "text/plain": [
       "\u001b[1m Total params: \u001b[0m\u001b[38;5;34m9\u001b[0m (36.00 B)\n"
      ]
     },
     "metadata": {},
     "output_type": "display_data"
    },
    {
     "data": {
      "text/html": [
       "<pre style=\"white-space:pre;overflow-x:auto;line-height:normal;font-family:Menlo,'DejaVu Sans Mono',consolas,'Courier New',monospace\"><span style=\"font-weight: bold\"> Trainable params: </span><span style=\"color: #00af00; text-decoration-color: #00af00\">9</span> (36.00 B)\n",
       "</pre>\n"
      ],
      "text/plain": [
       "\u001b[1m Trainable params: \u001b[0m\u001b[38;5;34m9\u001b[0m (36.00 B)\n"
      ]
     },
     "metadata": {},
     "output_type": "display_data"
    },
    {
     "data": {
      "text/html": [
       "<pre style=\"white-space:pre;overflow-x:auto;line-height:normal;font-family:Menlo,'DejaVu Sans Mono',consolas,'Courier New',monospace\"><span style=\"font-weight: bold\"> Non-trainable params: </span><span style=\"color: #00af00; text-decoration-color: #00af00\">0</span> (0.00 B)\n",
       "</pre>\n"
      ],
      "text/plain": [
       "\u001b[1m Non-trainable params: \u001b[0m\u001b[38;5;34m0\u001b[0m (0.00 B)\n"
      ]
     },
     "metadata": {},
     "output_type": "display_data"
    }
   ],
   "source": [
    "model = keras.Sequential(\n",
    "    [\n",
    "        keras.layers.Dense(\n",
    "            2, activation=\"sigmoid\", input_shape=(X.shape[-1],)\n",
    "        ),\n",
    "        keras.layers.Dense(1, activation=\"linear\")\n",
    "    ]\n",
    ")\n",
    "model.summary()"
   ]
  },
  {
   "cell_type": "markdown",
   "id": "304a97ac-488e-44cf-b86b-b6f44dc81d72",
   "metadata": {
    "id": "304a97ac-488e-44cf-b86b-b6f44dc81d72"
   },
   "source": [
    "```python\n",
    "def random_init_params():\n",
    "    w1 = tf.Variable(tf.random.uniform((2, 2)))\n",
    "    b1 = tf.Variable(tf.random.uniform((1, 2)))\n",
    "    w2 = tf.Variable(tf.random.uniform((2, 1)))\n",
    "    b2 = tf.Variable(tf.random.uniform((1, 1)))\n",
    "    return w1,b1,w2,b2\n",
    "\n",
    "\n",
    "def forward_prop(x, w1, b1, w2, b2):\n",
    "    z1 = tf.matmul(x,w1) + b1\n",
    "    h1 = tf.math.sigmoid(z1)\n",
    "    z2 = tf.matmul(h1,w2) + b2\n",
    "    h2 = z2\n",
    "    return h2\n",
    "```"
   ]
  },
  {
   "cell_type": "code",
   "execution_count": 8,
   "id": "867ac40d-01c2-4f93-8977-1a3a1b37b320",
   "metadata": {
    "id": "867ac40d-01c2-4f93-8977-1a3a1b37b320"
   },
   "outputs": [],
   "source": [
    "model.compile(\n",
    "    optimizer=keras.optimizers.SGD(), loss=\"mean_squared_error\"\n",
    ")"
   ]
  },
  {
   "cell_type": "markdown",
   "id": "78a51db7-4b84-4338-9745-ece25b503892",
   "metadata": {
    "id": "78a51db7-4b84-4338-9745-ece25b503892"
   },
   "source": [
    "```python\n",
    "def train(x, y, w1, b1, w2, b2):\n",
    "    y_true = y\n",
    "    with tf.GradientTape() as g:\n",
    "        y_pred = forward_prop(x, w1, b1, w2, b2)\n",
    "\n",
    "        # loss\n",
    "        loss = 0.5*(y_true - y_pred)** 2\n",
    "    \n",
    "    #Gradient calculation  \n",
    "    print(\"**************************************************\")\n",
    "    print(\"GRADIENTS\")\n",
    "    print(\"**************************************************\")\n",
    "    gw1, gb1, gw2, gb2 = g.gradient(loss, [w1, b1, w2, b2])\n",
    "    print(\" the gradient for 1st layer weights are:\\n\",gw1.numpy())\n",
    "    print(\"--------------------------------------------------\")\n",
    "    print(\" the gradient for 2nd layer weights are:\\n\",gw2.numpy())\n",
    "    print(\"--------------------------------------------------\")\n",
    "    print(\" the gradient for 1st layer bias are:\\n\",gb1.numpy())\n",
    "    print(\"--------------------------------------------------\")\n",
    "    print(\" the gradient for 2nd layer bias are:\\n\",gb2.numpy())\n",
    "    print(\"--------------------------------------------------\")\n",
    "\n",
    "    # Gradient descent:\n",
    "    lr=0.2\n",
    "    w1.assign_sub(lr*gw1)\n",
    "    b1.assign_sub(lr*gb1) \n",
    "    w2.assign_sub(lr*gw2)\n",
    "    b2.assign_sub(lr*gb2)\n",
    "    print(\"**************************************************\")\n",
    "    print(\"NEW UPDATES\")\n",
    "    print(\"**************************************************\")\n",
    "    print(\" the updated 1st layer weights are:\\n\",w1.numpy())\n",
    "    print(\"--------------------------------------------------\")\n",
    "    print(\" the updated 2nd layer weights are:\\n\",w2.numpy())\n",
    "    print(\"--------------------------------------------------\")\n",
    "    print(\" the updated 1st layer bias are:\\n\",b1.numpy())\n",
    "    print(\"--------------------------------------------------\")\n",
    "    print(\" the updated 2nd layer bias are:\\n\",b2.numpy())\n",
    "\n",
    "\n",
    "    return w1, b1, w2, b2,loss\n",
    "\n",
    "```"
   ]
  },
  {
   "cell_type": "code",
   "execution_count": 9,
   "id": "72ab0367-85da-46b9-bce9-4da2c72dfaa7",
   "metadata": {
    "id": "72ab0367-85da-46b9-bce9-4da2c72dfaa7",
    "outputId": "d50e1675-e868-44fd-b708-a0459249cadd"
   },
   "outputs": [
    {
     "name": "stdout",
     "output_type": "stream",
     "text": [
      "Epoch 1/10\n",
      "\u001b[1m16/16\u001b[0m \u001b[32m━━━━━━━━━━━━━━━━━━━━\u001b[0m\u001b[37m\u001b[0m \u001b[1m1s\u001b[0m 5ms/step - loss: 133.1540   \n",
      "Epoch 2/10\n",
      "\u001b[1m16/16\u001b[0m \u001b[32m━━━━━━━━━━━━━━━━━━━━\u001b[0m\u001b[37m\u001b[0m \u001b[1m0s\u001b[0m 4ms/step - loss: 39.9521  \n",
      "Epoch 3/10\n",
      "\u001b[1m16/16\u001b[0m \u001b[32m━━━━━━━━━━━━━━━━━━━━\u001b[0m\u001b[37m\u001b[0m \u001b[1m0s\u001b[0m 6ms/step - loss: 7.8390  \n",
      "Epoch 4/10\n",
      "\u001b[1m16/16\u001b[0m \u001b[32m━━━━━━━━━━━━━━━━━━━━\u001b[0m\u001b[37m\u001b[0m \u001b[1m0s\u001b[0m 7ms/step - loss: 1.4014  \n",
      "Epoch 5/10\n",
      "\u001b[1m16/16\u001b[0m \u001b[32m━━━━━━━━━━━━━━━━━━━━\u001b[0m\u001b[37m\u001b[0m \u001b[1m0s\u001b[0m 11ms/step - loss: 0.3713 \n",
      "Epoch 6/10\n",
      "\u001b[1m16/16\u001b[0m \u001b[32m━━━━━━━━━━━━━━━━━━━━\u001b[0m\u001b[37m\u001b[0m \u001b[1m0s\u001b[0m 12ms/step - loss: 0.2834 \n",
      "Epoch 7/10\n",
      "\u001b[1m16/16\u001b[0m \u001b[32m━━━━━━━━━━━━━━━━━━━━\u001b[0m\u001b[37m\u001b[0m \u001b[1m1s\u001b[0m 8ms/step - loss: 0.2415  \n",
      "Epoch 8/10\n",
      "\u001b[1m16/16\u001b[0m \u001b[32m━━━━━━━━━━━━━━━━━━━━\u001b[0m\u001b[37m\u001b[0m \u001b[1m0s\u001b[0m 7ms/step - loss: 0.2382  \n",
      "Epoch 9/10\n",
      "\u001b[1m16/16\u001b[0m \u001b[32m━━━━━━━━━━━━━━━━━━━━\u001b[0m\u001b[37m\u001b[0m \u001b[1m0s\u001b[0m 9ms/step - loss: 0.2255  \n",
      "Epoch 10/10\n",
      "\u001b[1m16/16\u001b[0m \u001b[32m━━━━━━━━━━━━━━━━━━━━\u001b[0m\u001b[37m\u001b[0m \u001b[1m0s\u001b[0m 9ms/step - loss: 0.2301  \n"
     ]
    },
    {
     "data": {
      "text/plain": [
       "<keras.src.callbacks.history.History at 0x7b0e2e8d7230>"
      ]
     },
     "execution_count": 9,
     "metadata": {},
     "output_type": "execute_result"
    }
   ],
   "source": [
    "model.fit(X,Y.values,epochs=10,batch_size=32)"
   ]
  },
  {
   "cell_type": "code",
   "execution_count": 10,
   "id": "ac6189a0-f5a7-48e3-9bbd-03f219c6ab2c",
   "metadata": {
    "id": "ac6189a0-f5a7-48e3-9bbd-03f219c6ab2c",
    "outputId": "fccf1023-1b62-450d-9d92-0870bf5f9d9a"
   },
   "outputs": [
    {
     "name": "stdout",
     "output_type": "stream",
     "text": [
      "\u001b[1m16/16\u001b[0m \u001b[32m━━━━━━━━━━━━━━━━━━━━\u001b[0m\u001b[37m\u001b[0m \u001b[1m0s\u001b[0m 13ms/step \n"
     ]
    },
    {
     "data": {
      "text/plain": [
       "array([12.974838 , 13.533507 , 12.987741 , 12.98925  , 13.299599 ,\n",
       "       12.537423 , 12.551844 , 13.309974 , 12.998412 , 13.293738 ,\n",
       "       12.98297  , 13.312721 , 12.996297 , 12.969269 , 13.528252 ,\n",
       "       12.971727 , 12.979908 , 13.315177 , 12.975503 , 12.971281 ,\n",
       "       12.994386 , 13.292748 , 12.983841 , 13.310237 , 13.294867 ,\n",
       "       12.991182 , 12.996932 , 13.303156 , 13.527592 , 13.001985 ,\n",
       "       13.294304 , 13.311939 , 13.297939 , 13.311417 , 13.3217535,\n",
       "       13.015186 , 12.534948 , 12.9860115, 12.988388 , 12.997567 ,\n",
       "       12.980128 , 13.293173 , 12.536495 , 12.984276 , 12.547569 ,\n",
       "       12.970835 , 12.988604 , 12.987741 , 12.973286 , 13.317731 ,\n",
       "       13.309974 , 13.008429 , 13.004282 , 12.984928 , 13.522992 ,\n",
       "       13.299323 , 13.30302  , 13.533576 , 12.974395 , 12.560339 ,\n",
       "       13.317731 , 13.003656 , 13.310237 , 13.000727 , 13.312721 ,\n",
       "       12.53804  , 12.98166  , 12.967475 , 12.591557 , 12.993534 ,\n",
       "       13.3075905, 13.007189 , 13.304239 , 12.987093 , 12.974617 ,\n",
       "       12.549403 , 13.302748 , 13.310237 , 13.302067 , 12.999676 ,\n",
       "       13.300287 , 13.322498 , 12.587453 , 12.984928 , 13.305048 ,\n",
       "       12.574737 , 12.545425 , 12.977931 , 12.553671 , 12.547263 ,\n",
       "       13.530205 , 12.99268  , 13.678404 , 12.99672  , 12.97969  ,\n",
       "       13.527    , 12.982315 , 13.529558 , 12.976387 , 13.5359535,\n",
       "       13.316074 , 12.989465 , 12.974617 , 13.305451 , 13.520097 ,\n",
       "       13.312592 , 13.301384 , 13.330395 , 12.536186 , 13.289752 ,\n",
       "       13.291897 , 13.304644 , 12.968372 , 13.525582 , 13.300562 ,\n",
       "       13.514229 , 12.994173 , 12.535257 , 13.530276 , 12.982098 ,\n",
       "       13.300013 , 12.97727  , 13.784311 , 12.986661 , 12.986661 ,\n",
       "       12.976387 , 13.293173 , 12.545425 , 12.987526 , 13.312592 ,\n",
       "       13.015186 , 12.979469 , 13.5217495, 12.578006 , 12.564561 ,\n",
       "       13.304508 , 12.984928 , 13.300562 , 12.984711 , 13.30639  ,\n",
       "       12.987957 , 12.546038 , 13.318871 , 13.331345 , 12.979931 ,\n",
       "       12.981005 , 12.976343 , 13.011103 , 13.539103 , 12.559131 ,\n",
       "       13.306523 , 13.292606 , 12.544198 , 12.97506  , 13.302475 ,\n",
       "       12.978151 , 12.98925  , 12.542047 , 12.532469 , 13.521515 ,\n",
       "       12.980128 , 13.30193  , 13.290611 , 12.981222 , 13.318491 ,\n",
       "       13.298909 , 13.293738 , 12.53804  , 12.968372 , 12.973063 ,\n",
       "       13.680301 , 13.304375 , 13.311286 , 12.98166  , 12.9814415,\n",
       "       12.9860115, 13.300425 , 12.976387 , 13.293457 , 12.999044 ,\n",
       "       12.967475 , 12.548181 , 13.304927 , 13.523224 , 13.306523 ,\n",
       "       13.315048 , 13.301247 , 12.9860115, 13.298217 , 13.323118 ,\n",
       "       12.976608 , 12.978592 , 12.992039 , 13.3200035, 12.981222 ,\n",
       "       12.984711 , 13.300425 , 13.303968 , 13.314146 , 12.974174 ,\n",
       "       13.324841 , 13.323365 , 13.529198 , 13.528252 , 13.009665 ,\n",
       "       12.561246 , 13.31633  , 13.309578 , 12.972396 , 13.310369 ,\n",
       "       13.318618 , 12.969717 , 13.519778 , 12.987093 , 12.538966 ,\n",
       "       12.982533 , 12.976608 , 13.53923  , 12.988819 , 12.546345 ,\n",
       "       12.993534 , 12.962732 , 12.977931 , 13.528106 , 13.003864 ,\n",
       "       13.320992 , 12.973286 , 13.539103 , 13.314276 , 12.971058 ,\n",
       "       13.521828 , 12.967024 , 13.306256 , 13.331818 , 12.97284  ,\n",
       "       12.97925  , 12.980566 , 12.969717 , 12.985795 , 13.000307 ,\n",
       "       13.003656 , 13.909943 , 13.305988 , 13.296547 , 12.990753 ,\n",
       "       12.984058 , 12.982315 , 12.5579195, 13.032698 , 13.298079 ,\n",
       "       12.976167 , 12.986444 , 13.785989 , 12.542355 , 13.00449  ,\n",
       "       12.967475 , 12.980128 , 13.30852  , 12.987526 , 12.99672  ,\n",
       "       12.019732 , 13.307324 , 13.015186 , 12.999044 , 12.541431 ,\n",
       "       12.535566 , 13.5246   , 12.984276 , 12.551844 , 12.988388 ,\n",
       "       13.317668 , 12.587747 , 13.536752 , 13.304644 , 13.2955675,\n",
       "       13.309182 , 13.298909 , 12.99332  , 12.989895 , 12.995024 ,\n",
       "       12.980785 , 12.533709 , 12.560642 , 12.981222 , 13.6806   ,\n",
       "       13.009459 , 12.987957 , 12.976387 , 12.968147 , 12.535566 ,\n",
       "       12.538349 , 13.783965 , 13.302883 , 12.980566 , 12.978372 ,\n",
       "       12.974838 , 12.986228 , 13.000727 , 12.542355 , 12.975724 ,\n",
       "       12.9814415, 13.528907 , 13.30234  , 12.984058 , 12.981879 ,\n",
       "       12.985579 , 13.303291 , 13.293314 , 12.973063 , 13.537674 ,\n",
       "       13.325085 , 12.545732 , 13.309261 , 13.524524 , 12.980698 ,\n",
       "       12.535566 , 12.557617 , 12.991182 , 13.530062 , 13.296686 ,\n",
       "       12.982098 , 13.3078575, 13.529198 , 12.97284  , 13.300699 ,\n",
       "       13.309314 , 12.540507 , 12.988388 , 12.532469 , 12.552149 ,\n",
       "       12.567565 , 13.302203 , 13.2978   , 12.577413 , 12.982533 ,\n",
       "       12.987957 , 13.304778 , 13.301247 , 13.318996 , 13.303833 ,\n",
       "       12.975945 , 12.54297  , 12.978151 , 13.306925 , 13.524752 ,\n",
       "       12.994386 , 12.987526 , 12.986877 , 13.303833 , 12.549403 ,\n",
       "       12.539891 , 13.317477 , 13.300425 , 12.541739 , 13.298217 ,\n",
       "       12.988819 , 13.680434 , 12.548181 , 13.304239 , 12.998412 ,\n",
       "       13.008635 , 13.304239 , 12.978592 , 12.966124 , 12.971504 ,\n",
       "       12.974174 , 13.527444 , 12.983841 , 12.974395 , 13.306658 ,\n",
       "       12.972618 , 12.973063 , 13.678045 , 13.324104 , 12.97925  ,\n",
       "       12.5579195, 12.97749  , 12.975945 , 13.002821 , 12.980347 ,\n",
       "       13.299185 , 12.989573 , 12.976387 , 12.544505 , 12.536805 ,\n",
       "       12.9958725, 12.541739 , 12.540507 , 13.329082 , 12.9814415,\n",
       "       13.323981 , 13.311025 , 13.296966 , 13.292464 , 12.9860115,\n",
       "       12.539891 , 12.999466 , 13.323241 , 13.30852  , 12.975945 ,\n",
       "       13.303968 , 13.306791 , 12.535257 , 13.2955675, 13.010282 ,\n",
       "       12.532469 , 12.975945 , 12.9771595, 12.566665 , 12.991396 ,\n",
       "       12.968596 , 12.978372 , 13.300013 , 12.976387 , 13.32287  ,\n",
       "       13.30302  , 12.987526 , 12.970835 , 13.347614 , 13.300425 ,\n",
       "       13.302652 , 13.532327 , 13.311678 , 12.545732 , 13.315048 ,\n",
       "       12.976608 , 13.306256 , 13.299461 , 12.981879 , 12.976167 ,\n",
       "       13.309314 , 13.300425 , 13.302203 , 12.975104 , 12.983841 ,\n",
       "       13.523838 , 12.553975 , 13.299599 , 12.976387 , 12.975282 ,\n",
       "       12.972173 , 13.311548 , 13.323611 , 13.304913 , 13.021639 ,\n",
       "       13.293032 , 13.314533 , 12.967924 , 13.299461 , 12.984493 ,\n",
       "       12.98925  , 12.982533 , 13.543472 , 12.973951 , 13.305854 ,\n",
       "       12.545732 , 13.304644 , 13.310237 , 13.311678 , 12.541739 ,\n",
       "       12.974838 , 13.320631 , 13.554951 , 12.967204 , 13.529342 ,\n",
       "       12.992039 , 13.307458 , 13.299599 , 12.97506  , 13.302611 ,\n",
       "       12.975503 , 13.342807 , 13.311548 , 12.989465 , 13.317604 ,\n",
       "       12.548181 , 12.983188 , 12.00914  , 12.97969  , 13.001146 ,\n",
       "       13.334629 , 12.547875 , 13.533507 , 12.992893 , 13.307724 ,\n",
       "       12.538349 , 13.313499 , 13.302067 , 13.319626 , 13.525055 ,\n",
       "       12.993534 , 13.296686 , 13.008635 , 12.967024 , 13.314276 ,\n",
       "       13.539359 , 12.975503 , 12.987957 , 12.968147 ], dtype=float32)"
      ]
     },
     "execution_count": 10,
     "metadata": {},
     "output_type": "execute_result"
    }
   ],
   "source": [
    "model.predict(X)[:,0]"
   ]
  },
  {
   "cell_type": "code",
   "execution_count": 11,
   "id": "e70387c2-c04d-4ff1-8bc1-a13a064daf6a",
   "metadata": {
    "id": "e70387c2-c04d-4ff1-8bc1-a13a064daf6a"
   },
   "outputs": [
    {
     "name": "stdout",
     "output_type": "stream",
     "text": [
      "Current Time in IST: 2025-02-11 22:15:43\n"
     ]
    }
   ],
   "source": [
    "import datetime, pytz; \n",
    "print(\"Current Time in IST:\", datetime.datetime.now(pytz.utc).astimezone(pytz.timezone('Asia/Kolkata')).strftime('%Y-%m-%d %H:%M:%S'))"
   ]
  }
 ],
 "metadata": {
  "colab": {
   "name": "nn_keras.ipynb",
   "provenance": []
  },
  "kernelspec": {
   "display_name": "Python 3 (ipykernel)",
   "language": "python",
   "name": "python3"
  },
  "language_info": {
   "codemirror_mode": {
    "name": "ipython",
    "version": 3
   },
   "file_extension": ".py",
   "mimetype": "text/x-python",
   "name": "python",
   "nbconvert_exporter": "python",
   "pygments_lexer": "ipython3",
   "version": "3.12.1"
  }
 },
 "nbformat": 4,
 "nbformat_minor": 5
}
