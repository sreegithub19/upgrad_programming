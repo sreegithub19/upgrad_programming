{
 "cells": [
  {
   "cell_type": "markdown",
   "metadata": {
    "id": "SINtiLLi2BFo"
   },
   "source": [
    "# Text generation using RNN - Character Level (TO BE RUN IN GOOGLE COLAB)\n",
    "\n",
    "To generate text using RNN, we need a to convert raw text to a supervised learning problem format.\n",
    "\n",
    "Take, for example, the following corpus:\n",
    "\n",
    "\"Her brother shook his head incredulously\"\n",
    "\n",
    "First we need to divide the data into tabular format containing input (X) and output (y) sequences. In case of a character level model, the X and y will look like this:\n",
    "\n",
    "|      X     |  Y  |\n",
    "|------------|-----|\n",
    "|    Her b   |  r  |\n",
    "|    er br   |  o  |\n",
    "|    r bro   |  t  |\n",
    "|     brot   |  h  |\n",
    "|    broth   |  e  |\n",
    "|    .....   |  .  |\n",
    "|    .....   |  .  |\n",
    "|    ulous   |  l  |\n",
    "|    lousl   |  y  |\n",
    "\n",
    "Note that in the above problem, the sequence length of X is five characters and that of y is one character. Hence, this is a many-to-one architecture. We can, however, change the number of input characters to any number of characters depending on the type of problem.\n",
    "\n",
    "A model is trained on such data. To generate text, we simply give the model any five characters using which it predicts the next character. Then it appends the predicted character to the input sequence (on the extreme right of the sequence) and discards the first character (character on extreme left of the sequence). Then it predicts again using the new sequence and the cycle continues until a fix number of iterations. An example is shown below:\n",
    "\n",
    "Seed text: \"incre\"\n",
    "\n",
    "|      X                                            |  Y                       |\n",
    "|---------------------------------------------------|--------------------------|\n",
    "|                        incre                      |    < predicted char 1 >  |\n",
    "|               ncre < predicted char 1 >              |    < predicted char 2 >  |\n",
    "|       cre< predicted char 1 > < predicted char 2 >   |    < predicted char 3 >  |\n",
    "|       re< predicted char 1 >< predicted char 2 > < predicted char 3 >   |    < predicted char 4 >  |\n",
    "|                      ...                          |            ...           |"
   ]
  },
  {
   "cell_type": "markdown",
   "metadata": {
    "id": "CUSHsSBs2BFs"
   },
   "source": [
    "# Notebook Overview\n",
    "1. Preprocess data\n",
    "2. LSTM model\n",
    "3. Generate code"
   ]
  },
  {
   "cell_type": "code",
   "execution_count": 8,
   "metadata": {
    "colab": {
     "base_uri": "https://localhost:8080/"
    },
    "id": "lnq34jONfniE",
    "outputId": "3c81c7a9-6658-429d-94b6-3f8b55318a2f"
   },
   "outputs": [
    {
     "name": "stdout",
     "output_type": "stream",
     "text": [
      "Requirement already satisfied: gitpython in /usr/local/lib/python3.11/dist-packages (3.1.44)\n",
      "Requirement already satisfied: gitdb<5,>=4.0.1 in /usr/local/lib/python3.11/dist-packages (from gitpython) (4.0.12)\n",
      "Requirement already satisfied: smmap<6,>=3.0.1 in /usr/local/lib/python3.11/dist-packages (from gitdb<5,>=4.0.1->gitpython) (5.0.2)\n"
     ]
    }
   ],
   "source": [
    "!pip install gitpython"
   ]
  },
  {
   "cell_type": "code",
   "execution_count": 9,
   "metadata": {
    "id": "4Sa28LJ6YqdD"
   },
   "outputs": [],
   "source": [
    "# import libraries\n",
    "import warnings\n",
    "warnings.filterwarnings(\"ignore\")\n",
    "\n",
    "import os\n",
    "import re\n",
    "import numpy as np\n",
    "import random\n",
    "import sys\n",
    "import io\n",
    "from tensorflow.keras import Sequential\n",
    "from tensorflow.keras.layers import Dense, Activation, LSTM\n",
    "from tensorflow.keras.optimizers import Adam\n",
    "from tensorflow.keras.utils import get_file"
   ]
  },
  {
   "cell_type": "markdown",
   "metadata": {
    "id": "r3GqwxeT2BFu"
   },
   "source": [
    "# 1. Preprocess data"
   ]
  },
  {
   "cell_type": "markdown",
   "metadata": {
    "id": "dSQf08X42BFv"
   },
   "source": [
    "We're going to build a C code generator by training an RNN on a huge corpus of C code (the linux kernel code). You can download the C code used as source text from the following link:\n",
    "https://github.com/torvalds/linux/tree/master/kernel\n",
    "\n",
    "We have already downloaded the entire kernel folder and stored in a local directory"
   ]
  },
  {
   "cell_type": "markdown",
   "metadata": {
    "id": "qVxTMwbe2BFv"
   },
   "source": [
    "## Load C code"
   ]
  },
  {
   "cell_type": "code",
   "execution_count": 10,
   "metadata": {
    "colab": {
     "base_uri": "https://localhost:8080/"
    },
    "id": "_oHK_Wmj2BFv",
    "outputId": "e9ed3f68-69f7-4a06-f3fb-74667e0a75aa",
    "scrolled": true
   },
   "outputs": [
    {
     "name": "stdout",
     "output_type": "stream",
     "text": [
      "Current working directory: /content/upgrad_programming/2_Course_continuation/_2_Exam_2/4_Deep_learning/_6_Recurrent_Neural_Networks\n"
     ]
    }
   ],
   "source": [
    "import os\n",
    "import git\n",
    "\n",
    "# Define the repository and directory path\n",
    "repo_url = \"https://github.com/sreegithub19/upgrad_programming\"\n",
    "repo_path = \"/content/upgrad_programming\"\n",
    "subdir_path = \"2_Course_continuation/_2_Exam_2/4_Deep_learning/_6_Recurrent_Neural_Networks\"\n",
    "\n",
    "# Clone the repository\n",
    "if not os.path.exists(repo_path):\n",
    "    git.Repo.clone_from(repo_url, repo_path)\n",
    "\n",
    "# Change the working directory to the specific folder\n",
    "os.chdir(os.path.join(repo_path, subdir_path))\n",
    "print(\"Current working directory:\", os.getcwd())"
   ]
  },
  {
   "cell_type": "code",
   "execution_count": 11,
   "metadata": {
    "colab": {
     "base_uri": "https://localhost:8080/"
    },
    "id": "hO1StR3rX72I",
    "outputId": "d7bd789f-238d-48da-b279-b9071af4cd07"
   },
   "outputs": [
    {
     "name": "stdout",
     "output_type": "stream",
     "text": [
      "Current working directory: /content/upgrad_programming/2_Course_continuation/_2_Exam_2/4_Deep_learning/_6_Recurrent_Neural_Networks\n",
      "['module_signature.c', 'ucount.c', 'bpf', 'panic.c', 'tracepoint.c', 'sysctl-test.c', 'kallsyms.c', 'ksysfs.c', 'acct.c', 'Kconfig.hz', 'kallsyms_internal.h', 'scs.c', 'uid16.c', 'Kconfig.locks', 'uid16.h', 'params.c', 'events', 'pid_sysctl.h', 'smpboot.h', 'exec_domain.c', 'gen_kheaders.sh', 'exit.c', 'vmcore_info.c', 'locking', 'audit_tree.c', 'audit_watch.c', 'groups.c', 'user_namespace.c', 'workqueue.c', 'usermode_driver.c', 'user.c', 'umh.c', 'kexec_elf.c', 'taskstats.c', 'elfcorehdr.c', 'static_call_inline.c', 'kexec.c', 'backtracetest.c', 'irq', 'stackleak.c', 'smpboot.c', 'jump_label.c', 'ptrace.c', 'smp.c', 'up.c', 'torture.c', 'freezer.c', 'kallsyms_selftest.c', 'profile.c', 'utsname.c', 'audit_fsnotify.c', 'time', 'auditsc.c', 'fail_function.c', 'context_tracking.c', 'Kconfig.kexec', 'latencytop.c', 'notifier.c', 'cpu_pm.c', 'workqueue_internal.h', 'relay.c', 'sys.c', 'debug', 'cfi.c', 'resource.c', 'dma.c', 'kprobes.c', 'stop_machine.c', 'power', 'kcmp.c', 'kallsyms_selftest.h', 'cgroup', 'static_call.c', 'user-return-notifier.c', 'sys_ni.c', 'utsname_sysctl.c', 'rseq.c', 'capability.c', 'stacktrace.c', 'crash_core.c', 'padata.c', 'bounds.c', 'compat.c', 'configs.c', 'audit.h', 'delayacct.c', 'scftorture.c', 'trace', 'kcov.c', 'kthread.c', 'range.c', 'nsproxy.c', 'Makefile', 'Kconfig.preempt', 'hung_task.c', 'sysctl.c', 'tsacct.c', 'watchdog_perf.c', 'watchdog_buddy.c', 'cred.c', 'async.c', 'vhost_task.c', 'kexec_file.c', 'watchdog.c', 'crash_reserve.c', 'signal.c', 'pid_namespace.c', 'regset.c', 'sched', 'iomem.c', 'kexec_core.c', 'seccomp.c', 'kheaders.c', 'cpu.c', 'Kconfig.freezer', 'exit.h', 'kexec_internal.h', 'task_work.c', 'fork.c', 'audit.c', 'softirq.c', 'resource_kunit.c', 'watch_queue.c', 'pid.c', 'irq_work.c', 'reboot.c', 'auditfilter.c', 'ksyms_common.c', 'extable.c']\n"
     ]
    }
   ],
   "source": [
    "# set path where C files reside\n",
    "\n",
    "print(\"Current working directory:\", os.getcwd())\n",
    "\n",
    "path = r\"linux_kernel\"\n",
    "\n",
    "os.chdir(path)\n",
    "\n",
    "file_names = os.listdir()\n",
    "print(file_names)"
   ]
  },
  {
   "cell_type": "code",
   "execution_count": 12,
   "metadata": {
    "colab": {
     "base_uri": "https://localhost:8080/"
    },
    "id": "jg9HW8HwYlga",
    "outputId": "5fa6124f-d869-4e99-9bb5-16af95f74ddb"
   },
   "outputs": [
    {
     "name": "stdout",
     "output_type": "stream",
     "text": [
      "['module_signature.c', 'ucount.c', 'panic.c', 'tracepoint.c', 'sysctl-test.c', 'kallsyms.c', 'ksysfs.c', 'acct.c', 'scs.c', 'uid16.c', 'params.c', 'exec_domain.c', 'exit.c', 'vmcore_info.c', 'audit_tree.c', 'audit_watch.c', 'groups.c', 'user_namespace.c', 'workqueue.c', 'usermode_driver.c', 'user.c', 'umh.c', 'kexec_elf.c', 'taskstats.c', 'elfcorehdr.c', 'static_call_inline.c', 'kexec.c', 'backtracetest.c', 'stackleak.c', 'smpboot.c', 'jump_label.c', 'ptrace.c', 'smp.c', 'up.c', 'torture.c', 'freezer.c', 'kallsyms_selftest.c', 'profile.c', 'utsname.c', 'audit_fsnotify.c', 'auditsc.c', 'fail_function.c', 'context_tracking.c', 'latencytop.c', 'notifier.c', 'cpu_pm.c', 'relay.c', 'sys.c', 'cfi.c', 'resource.c', 'dma.c', 'kprobes.c', 'stop_machine.c', 'kcmp.c', 'static_call.c', 'user-return-notifier.c', 'sys_ni.c', 'utsname_sysctl.c', 'rseq.c', 'capability.c', 'stacktrace.c', 'crash_core.c', 'padata.c', 'bounds.c', 'compat.c', 'configs.c', 'delayacct.c', 'scftorture.c', 'kcov.c', 'kthread.c', 'range.c', 'nsproxy.c', 'hung_task.c', 'sysctl.c', 'tsacct.c', 'watchdog_perf.c', 'watchdog_buddy.c', 'cred.c', 'async.c', 'vhost_task.c', 'kexec_file.c', 'watchdog.c', 'crash_reserve.c', 'signal.c', 'pid_namespace.c', 'regset.c', 'iomem.c', 'kexec_core.c', 'seccomp.c', 'kheaders.c', 'cpu.c', 'task_work.c', 'fork.c', 'audit.c', 'softirq.c', 'resource_kunit.c', 'watch_queue.c', 'pid.c', 'irq_work.c', 'reboot.c', 'auditfilter.c', 'ksyms_common.c', 'extable.c']\n"
     ]
    }
   ],
   "source": [
    "# use regex to filter .c files\n",
    "import re\n",
    "c_names = \".*\\.c$\"\n",
    "\n",
    "c_files = list()\n",
    "\n",
    "for file in file_names:\n",
    "    if re.match(c_names, file):\n",
    "        c_files.append(file)\n",
    "\n",
    "print(c_files)"
   ]
  },
  {
   "cell_type": "code",
   "execution_count": 13,
   "metadata": {
    "id": "QAbtuy5ZY87t"
   },
   "outputs": [],
   "source": [
    "# load all c code in a list\n",
    "full_code = list()\n",
    "for file in c_files:\n",
    "    code = open(file, \"r\", encoding='utf-8')\n",
    "    full_code.append(code.read())\n",
    "    code.close()"
   ]
  },
  {
   "cell_type": "code",
   "execution_count": 14,
   "metadata": {
    "colab": {
     "base_uri": "https://localhost:8080/"
    },
    "id": "lpcY5AAZ2BFw",
    "outputId": "86bee5ec-e38f-4816-d6af-1e80206b8691",
    "scrolled": true
   },
   "outputs": [
    {
     "name": "stdout",
     "output_type": "stream",
     "text": [
      "// SPDX-License-Identifier: GPL-2.0-only\n",
      "/*\n",
      " * The \"user cache\".\n",
      " *\n",
      " * (C) Copyright 1991-2000 Linus Torvalds\n",
      " *\n",
      " * We have a per-user structure to keep track of how many\n",
      " * processes, files etc the user has claimed, in order to be\n",
      " * able to have per-user limits for system resources. \n",
      " */\n",
      "\n",
      "#include <linux/init.h>\n",
      "#include <linux/sched.h>\n",
      "#include <linux/slab.h>\n",
      "#include <linux/bitops.h>\n",
      "#include <linux/key.h>\n",
      "#include <linux/sched/user.h>\n",
      "#include <linux/interrupt.h>\n",
      "#include <linux/export.h>\n",
      "#include <linux/user_namespace.h>\n",
      "#include <linux/binfmts.h>\n",
      "#include <linux/proc_ns.h>\n",
      "\n",
      "#if IS_ENABLED(CONFIG_BINFMT_MISC)\n",
      "struct binfmt_misc init_binfmt_misc = {\n",
      "\t.entries = LIST_HEAD_INIT(init_binfmt_misc.entries),\n",
      "\t.enabled = true,\n",
      "\t.entries_lock = __RW_LOCK_UNLOCKED(init_binfmt_misc.entries_lock),\n",
      "};\n",
      "EXPORT_SYMBOL_GPL(init_binfmt_misc);\n",
      "#endif\n",
      "\n",
      "/*\n",
      " * userns count is 1 for root user, 1 for init_uts_ns,\n",
      " * and 1 for... ?\n",
      " */\n",
      "struct user_namespace init_user_ns = {\n",
      "\t.uid_map = {\n",
      "\t\t{\n",
      "\t\t\t.extent[0] = {\n",
      "\t\t\t\t.first = 0,\n",
      "\t\t\t\t.lower_first = 0,\n",
      "\t\t\t\t.count = 4294967295U,\n",
      "\t\t\t},\n",
      "\t\t\t.nr_extents = 1,\n",
      "\t\t},\n",
      "\t},\n",
      "\t.gid_map = {\n",
      "\t\t{\n",
      "\t\t\t.extent[0] = {\n",
      "\t\t\t\t.first = 0,\n",
      "\t\t\t\t.lower_first = 0,\n",
      "\t\t\t\t.count = 4294967295U,\n",
      "\t\t\t},\n",
      "\t\t\t.nr_extents = 1,\n",
      "\t\t},\n",
      "\t},\n",
      "\t.projid_map = {\n",
      "\t\t{\n",
      "\t\t\t.extent[0] = {\n",
      "\t\t\t\t.first = 0,\n",
      "\t\t\t\t.lower_first = 0,\n",
      "\t\t\t\t.count = 4294967295U,\n",
      "\t\t\t},\n",
      "\t\t\t.nr_extents = 1,\n",
      "\t\t},\n",
      "\t},\n",
      "\t.ns.count = REFCOUNT_INIT(3),\n",
      "\t.owner = GLOBAL_ROOT_UID,\n",
      "\t.group = GLOBAL_ROOT_GID,\n",
      "\t.ns.inum = PROC_USER_INIT_INO,\n",
      "#ifdef CONFIG_USER_NS\n",
      "\t.ns.ops = &userns_operations,\n",
      "#endif\n",
      "\t.flags = USERNS_INIT_FLAGS,\n",
      "#ifdef CONFIG_KEYS\n",
      "\t.keyring_name_list = LIST_HEAD_INIT(init_user_ns.keyring_name_list),\n",
      "\t.keyring_sem = __RWSEM_INITIALIZER(init_user_ns.keyring_sem),\n",
      "#endif\n",
      "#if IS_ENABLED(CONFIG_BINFMT_MISC)\n",
      "\t.binfmt_misc = &init_binfmt_misc,\n",
      "#endif\n",
      "};\n",
      "EXPORT_SYMBOL_GPL(init_user_ns);\n",
      "\n",
      "/*\n",
      " * UID task count cache, to get fast user lookup in \"alloc_uid\"\n",
      " * when changing user ID's (ie setuid() and friends).\n",
      " */\n",
      "\n",
      "#define UIDHASH_BITS\t(IS_ENABLED(CONFIG_BASE_SMALL) ? 3 : 7)\n",
      "#define UIDHASH_SZ\t(1 << UIDHASH_BITS)\n",
      "#define UIDHASH_MASK\t\t(UIDHASH_SZ - 1)\n",
      "#define __uidhashfn(uid)\t(((uid >> UIDHASH_BITS) + uid) & UIDHASH_MASK)\n",
      "#define uidhashentry(uid)\t(uidhash_table + __uidhashfn((__kuid_val(uid))))\n",
      "\n",
      "static struct kmem_cache *uid_cachep;\n",
      "static struct hlist_head uidhash_table[UIDHASH_SZ];\n",
      "\n",
      "/*\n",
      " * The uidhash_lock is mostly taken from process context, but it is\n",
      " * occasionally also taken from softirq/tasklet context, when\n",
      " * task-structs get RCU-freed. Hence all locking must be softirq-safe.\n",
      " * But free_uid() is also called with local interrupts disabled, and running\n",
      " * local_bh_enable() with local interrupts disabled is an error - we'll run\n",
      " * softirq callbacks, and they can unconditionally enable interrupts, and\n",
      " * the caller of free_uid() didn't expect that..\n",
      " */\n",
      "static DEFINE_SPINLOCK(uidhash_lock);\n",
      "\n",
      "/* root_user.__count is 1, for init task cred */\n",
      "struct user_struct root_user = {\n",
      "\t.__count\t= REFCOUNT_INIT(1),\n",
      "\t.uid\t\t= GLOBAL_ROOT_UID,\n",
      "\t.ratelimit\t= RATELIMIT_STATE_INIT(root_user.ratelimit, 0, 0),\n",
      "};\n",
      "\n",
      "/*\n",
      " * These routines must be called with the uidhash spinlock held!\n",
      " */\n",
      "static void uid_hash_insert(struct user_struct *up, struct hlist_head *hashent)\n",
      "{\n",
      "\thlist_add_head(&up->uidhash_node, hashent);\n",
      "}\n",
      "\n",
      "static void uid_hash_remove(struct user_struct *up)\n",
      "{\n",
      "\thlist_del_init(&up->uidhash_node);\n",
      "}\n",
      "\n",
      "static struct user_struct *uid_hash_find(kuid_t uid, struct hlist_head *hashent)\n",
      "{\n",
      "\tstruct user_struct *user;\n",
      "\n",
      "\thlist_for_each_entry(user, hashent, uidhash_node) {\n",
      "\t\tif (uid_eq(user->uid, uid)) {\n",
      "\t\t\trefcount_inc(&user->__count);\n",
      "\t\t\treturn user;\n",
      "\t\t}\n",
      "\t}\n",
      "\n",
      "\treturn NULL;\n",
      "}\n",
      "\n",
      "static int user_epoll_alloc(struct user_struct *up)\n",
      "{\n",
      "#ifdef CONFIG_EPOLL\n",
      "\treturn percpu_counter_init(&up->epoll_watches, 0, GFP_KERNEL);\n",
      "#else\n",
      "\treturn 0;\n",
      "#endif\n",
      "}\n",
      "\n",
      "static void user_epoll_free(struct user_struct *up)\n",
      "{\n",
      "#ifdef CONFIG_EPOLL\n",
      "\tpercpu_counter_destroy(&up->epoll_watches);\n",
      "#endif\n",
      "}\n",
      "\n",
      "/* IRQs are disabled and uidhash_lock is held upon function entry.\n",
      " * IRQ state (as stored in flags) is restored and uidhash_lock released\n",
      " * upon function exit.\n",
      " */\n",
      "static void free_user(struct user_struct *up, unsigned long flags)\n",
      "\t__releases(&uidhash_lock)\n",
      "{\n",
      "\tuid_hash_remove(up);\n",
      "\tspin_unlock_irqrestore(&uidhash_lock, flags);\n",
      "\tuser_epoll_free(up);\n",
      "\tkmem_cache_free(uid_cachep, up);\n",
      "}\n",
      "\n",
      "/*\n",
      " * Locate the user_struct for the passed UID.  If found, take a ref on it.  The\n",
      " * caller must undo that ref with free_uid().\n",
      " *\n",
      " * If the user_struct could not be found, return NULL.\n",
      " */\n",
      "struct user_struct *find_user(kuid_t uid)\n",
      "{\n",
      "\tstruct user_struct *ret;\n",
      "\tunsigned long flags;\n",
      "\n",
      "\tspin_lock_irqsave(&uidhash_lock, flags);\n",
      "\tret = uid_hash_find(uid, uidhashentry(uid));\n",
      "\tspin_unlock_irqrestore(&uidhash_lock, flags);\n",
      "\treturn ret;\n",
      "}\n",
      "\n",
      "void free_uid(struct user_struct *up)\n",
      "{\n",
      "\tunsigned long flags;\n",
      "\n",
      "\tif (!up)\n",
      "\t\treturn;\n",
      "\n",
      "\tif (refcount_dec_and_lock_irqsave(&up->__count, &uidhash_lock, &flags))\n",
      "\t\tfree_user(up, flags);\n",
      "}\n",
      "EXPORT_SYMBOL_GPL(free_uid);\n",
      "\n",
      "struct user_struct *alloc_uid(kuid_t uid)\n",
      "{\n",
      "\tstruct hlist_head *hashent = uidhashentry(uid);\n",
      "\tstruct user_struct *up, *new;\n",
      "\n",
      "\tspin_lock_irq(&uidhash_lock);\n",
      "\tup = uid_hash_find(uid, hashent);\n",
      "\tspin_unlock_irq(&uidhash_lock);\n",
      "\n",
      "\tif (!up) {\n",
      "\t\tnew = kmem_cache_zalloc(uid_cachep, GFP_KERNEL);\n",
      "\t\tif (!new)\n",
      "\t\t\treturn NULL;\n",
      "\n",
      "\t\tnew->uid = uid;\n",
      "\t\trefcount_set(&new->__count, 1);\n",
      "\t\tif (user_epoll_alloc(new)) {\n",
      "\t\t\tkmem_cache_free(uid_cachep, new);\n",
      "\t\t\treturn NULL;\n",
      "\t\t}\n",
      "\t\tratelimit_state_init(&new->ratelimit, HZ, 100);\n",
      "\t\tratelimit_set_flags(&new->ratelimit, RATELIMIT_MSG_ON_RELEASE);\n",
      "\n",
      "\t\t/*\n",
      "\t\t * Before adding this, check whether we raced\n",
      "\t\t * on adding the same user already..\n",
      "\t\t */\n",
      "\t\tspin_lock_irq(&uidhash_lock);\n",
      "\t\tup = uid_hash_find(uid, hashent);\n",
      "\t\tif (up) {\n",
      "\t\t\tuser_epoll_free(new);\n",
      "\t\t\tkmem_cache_free(uid_cachep, new);\n",
      "\t\t} else {\n",
      "\t\t\tuid_hash_insert(new, hashent);\n",
      "\t\t\tup = new;\n",
      "\t\t}\n",
      "\t\tspin_unlock_irq(&uidhash_lock);\n",
      "\t}\n",
      "\n",
      "\treturn up;\n",
      "}\n",
      "\n",
      "static int __init uid_cache_init(void)\n",
      "{\n",
      "\tint n;\n",
      "\n",
      "\tuid_cachep = kmem_cache_create(\"uid_cache\", sizeof(struct user_struct),\n",
      "\t\t\t0, SLAB_HWCACHE_ALIGN|SLAB_PANIC, NULL);\n",
      "\n",
      "\tfor(n = 0; n < UIDHASH_SZ; ++n)\n",
      "\t\tINIT_HLIST_HEAD(uidhash_table + n);\n",
      "\n",
      "\tif (user_epoll_alloc(&root_user))\n",
      "\t\tpanic(\"root_user epoll percpu counter alloc failed\");\n",
      "\n",
      "\t/* Insert the root user immediately (init already runs as root) */\n",
      "\tspin_lock_irq(&uidhash_lock);\n",
      "\tuid_hash_insert(&root_user, uidhashentry(GLOBAL_ROOT_UID));\n",
      "\tspin_unlock_irq(&uidhash_lock);\n",
      "\n",
      "\treturn 0;\n",
      "}\n",
      "subsys_initcall(uid_cache_init);\n",
      "\n"
     ]
    }
   ],
   "source": [
    "# let's look at how a typical C code looks like\n",
    "print(full_code[20])"
   ]
  },
  {
   "cell_type": "code",
   "execution_count": 15,
   "metadata": {
    "colab": {
     "base_uri": "https://localhost:8080/"
    },
    "id": "4PvwiZVwY__A",
    "outputId": "387bcce2-cd8a-4891-a89a-f24cae7e975e"
   },
   "outputs": [
    {
     "name": "stdout",
     "output_type": "stream",
     "text": [
      "Total number of characters in entire code: 2242645\n"
     ]
    }
   ],
   "source": [
    "# merge different c codes into one big c code\n",
    "text = \"\\n\".join(full_code)\n",
    "print(\"Total number of characters in entire code: {}\".format(len(text)))"
   ]
  },
  {
   "cell_type": "code",
   "execution_count": 16,
   "metadata": {
    "id": "GxDf0tsBb6Pq"
   },
   "outputs": [],
   "source": [
    "# top_n: only consider first top_n characters and discard the rest for memory and computational efficiency\n",
    "top_n = 400000\n",
    "text = text[:top_n]"
   ]
  },
  {
   "cell_type": "markdown",
   "metadata": {
    "id": "M8yRe43d2BFx"
   },
   "source": [
    "## Convert characters to integers"
   ]
  },
  {
   "cell_type": "code",
   "execution_count": 17,
   "metadata": {
    "id": "_d5CrHJbaQhQ"
   },
   "outputs": [],
   "source": [
    "# create character to index mapping\n",
    "chars = sorted(list(set(text)))\n",
    "char_indices = dict((c, i) for i, c in enumerate(chars))\n",
    "indices_char = dict((i, c) for i, c in enumerate(chars))"
   ]
  },
  {
   "cell_type": "code",
   "execution_count": 18,
   "metadata": {
    "colab": {
     "base_uri": "https://localhost:8080/"
    },
    "id": "DoU-yk772BFy",
    "outputId": "93928e18-89d9-4c05-bd47-60fd69ac31e9"
   },
   "outputs": [
    {
     "name": "stdout",
     "output_type": "stream",
     "text": [
      "Vocabulary size: 97\n"
     ]
    }
   ],
   "source": [
    "print(\"Vocabulary size: {}\".format(len(chars)))"
   ]
  },
  {
   "cell_type": "markdown",
   "metadata": {
    "id": "JunzXhPl2BFy"
   },
   "source": [
    "## Divide data in input (X) and output (y)"
   ]
  },
  {
   "cell_type": "markdown",
   "metadata": {
    "id": "lQJuuTbt2BFy"
   },
   "source": [
    "### Create sequences"
   ]
  },
  {
   "cell_type": "code",
   "execution_count": 19,
   "metadata": {
    "id": "dKNUZLtw2BFy"
   },
   "outputs": [],
   "source": [
    "# define length for each sequence\n",
    "MAX_SEQ_LENGTH = 50          # number of input characters (X) in each sequence\n",
    "STEP           = 3           # increment between each sequence\n",
    "VOCAB_SIZE     = len(chars)  # total number of unique characters in dataset\n",
    "\n",
    "sentences  = []              # X\n",
    "next_chars = []              # y\n",
    "\n",
    "for i in range(0, len(text) - MAX_SEQ_LENGTH, STEP):\n",
    "    sentences.append(text[i: i + MAX_SEQ_LENGTH])\n",
    "    next_chars.append(text[i + MAX_SEQ_LENGTH])"
   ]
  },
  {
   "cell_type": "code",
   "execution_count": 20,
   "metadata": {
    "colab": {
     "base_uri": "https://localhost:8080/"
    },
    "id": "s3RTpOo-2BFy",
    "outputId": "25f4e190-40ff-4264-edc5-99a6b653eaa6"
   },
   "outputs": [
    {
     "name": "stdout",
     "output_type": "stream",
     "text": [
      "Number of training samples: 133317\n"
     ]
    }
   ],
   "source": [
    "print('Number of training samples: {}'.format(len(sentences)))"
   ]
  },
  {
   "cell_type": "markdown",
   "metadata": {
    "id": "R0cfZcfU2BFy"
   },
   "source": [
    "## Create input and output using the created sequences\n",
    "\n",
    "When you're not using the Embedding layer of the Keras as the very first layer, you need to convert your data in the following format:\n",
    "#### input shape should be of the form :  (#samples, #timesteps, #features)\n",
    "#### output shape should be of the form :  (#samples, #timesteps, #features)\n",
    "\n",
    "![Tensor shape](./jupyter resources/rnn_tensor.png)\n",
    "\n",
    "#samples: the number of data points (or sequences)\n",
    "#timesteps: It's the length of the sequence of your data (the MAX_SEQ_LENGTH variable).\n",
    "#features: Number of features depends on the type of problem. In this problem, #features is the vocabulary size, that is, the dimensionality of the one-hot encoding matrix using which each character is being represented. If you're working with **images**, features size will be equal to: (height, width, channels), and the input shape will be (#training_samples, #timesteps, height, width, channels)"
   ]
  },
  {
   "cell_type": "code",
   "execution_count": 21,
   "metadata": {
    "id": "jJmhr1nBbSiC"
   },
   "outputs": [],
   "source": [
    "# create X and y\n",
    "X = np.zeros((len(sentences), MAX_SEQ_LENGTH, VOCAB_SIZE), dtype=bool)\n",
    "y = np.zeros((len(sentences), VOCAB_SIZE), dtype=bool)\n",
    "for i, sentence in enumerate(sentences):\n",
    "    for t, char in enumerate(sentence):\n",
    "        X[i, t, char_indices[char]] = 1\n",
    "    y[i, char_indices[next_chars[i]]] = 1"
   ]
  },
  {
   "cell_type": "code",
   "execution_count": 22,
   "metadata": {
    "colab": {
     "base_uri": "https://localhost:8080/"
    },
    "id": "ob7y8Z8q2BFz",
    "outputId": "5c6a8f40-92ba-476f-bac1-8e526cc0fa8e"
   },
   "outputs": [
    {
     "name": "stdout",
     "output_type": "stream",
     "text": [
      "Shape of X: (133317, 50, 97)\n",
      "Shape of y: (133317, 97)\n"
     ]
    }
   ],
   "source": [
    "print(\"Shape of X: {}\".format(X.shape))\n",
    "print(\"Shape of y: {}\".format(y.shape))"
   ]
  },
  {
   "cell_type": "markdown",
   "metadata": {
    "id": "YtIccUNg2BFz"
   },
   "source": [
    "Here, X is reshaped to (#samples, #timesteps, #features). We have explicitly mentioned the third dimension (#features) because we won't use the Embedding() layer of Keras in this case since there are only 97 characters. Characters can be represented as one-hot encoded vector. There are no word embeddings for characters."
   ]
  },
  {
   "cell_type": "markdown",
   "metadata": {
    "id": "Uh0USy3a2BFz"
   },
   "source": [
    "# 2. LSTM"
   ]
  },
  {
   "cell_type": "code",
   "execution_count": 23,
   "metadata": {
    "id": "SRxBIMFDbNVt"
   },
   "outputs": [],
   "source": [
    "from keras.optimizers import Adam\n",
    "\n",
    "# define model architecture - using a two-layer LSTM with 128 LSTM cells in each layer\n",
    "model = Sequential()\n",
    "model.add(LSTM(128, input_shape=(MAX_SEQ_LENGTH, VOCAB_SIZE), return_sequences=True, dropout=0.5))\n",
    "model.add(LSTM(128, dropout=0.5))\n",
    "model.add(Dense(VOCAB_SIZE, activation = \"softmax\"))\n",
    "\n",
    "optimizer = Adam(learning_rate=0.01)\n",
    "model.compile(loss='categorical_crossentropy', optimizer=optimizer, metrics = ['acc'])"
   ]
  },
  {
   "cell_type": "code",
   "execution_count": 24,
   "metadata": {
    "colab": {
     "base_uri": "https://localhost:8080/",
     "height": 225
    },
    "id": "SRaWKzBjeTpc",
    "outputId": "df2ab2bc-53cf-4200-c044-122e6e748e75"
   },
   "outputs": [
    {
     "data": {
      "text/html": [
       "<pre style=\"white-space:pre;overflow-x:auto;line-height:normal;font-family:Menlo,'DejaVu Sans Mono',consolas,'Courier New',monospace\"><span style=\"font-weight: bold\">Model: \"sequential\"</span>\n",
       "</pre>\n"
      ],
      "text/plain": [
       "\u001b[1mModel: \"sequential\"\u001b[0m\n"
      ]
     },
     "metadata": {},
     "output_type": "display_data"
    },
    {
     "data": {
      "text/html": [
       "<pre style=\"white-space:pre;overflow-x:auto;line-height:normal;font-family:Menlo,'DejaVu Sans Mono',consolas,'Courier New',monospace\">┏━━━━━━━━━━━━━━━━━━━━━━━━━━━━━━━━━━━━━━┳━━━━━━━━━━━━━━━━━━━━━━━━━━━━━┳━━━━━━━━━━━━━━━━━┓\n",
       "┃<span style=\"font-weight: bold\"> Layer (type)                         </span>┃<span style=\"font-weight: bold\"> Output Shape                </span>┃<span style=\"font-weight: bold\">         Param # </span>┃\n",
       "┡━━━━━━━━━━━━━━━━━━━━━━━━━━━━━━━━━━━━━━╇━━━━━━━━━━━━━━━━━━━━━━━━━━━━━╇━━━━━━━━━━━━━━━━━┩\n",
       "│ lstm (<span style=\"color: #0087ff; text-decoration-color: #0087ff\">LSTM</span>)                          │ (<span style=\"color: #00d7ff; text-decoration-color: #00d7ff\">None</span>, <span style=\"color: #00af00; text-decoration-color: #00af00\">50</span>, <span style=\"color: #00af00; text-decoration-color: #00af00\">128</span>)             │         <span style=\"color: #00af00; text-decoration-color: #00af00\">115,712</span> │\n",
       "├──────────────────────────────────────┼─────────────────────────────┼─────────────────┤\n",
       "│ lstm_1 (<span style=\"color: #0087ff; text-decoration-color: #0087ff\">LSTM</span>)                        │ (<span style=\"color: #00d7ff; text-decoration-color: #00d7ff\">None</span>, <span style=\"color: #00af00; text-decoration-color: #00af00\">128</span>)                 │         <span style=\"color: #00af00; text-decoration-color: #00af00\">131,584</span> │\n",
       "├──────────────────────────────────────┼─────────────────────────────┼─────────────────┤\n",
       "│ dense (<span style=\"color: #0087ff; text-decoration-color: #0087ff\">Dense</span>)                        │ (<span style=\"color: #00d7ff; text-decoration-color: #00d7ff\">None</span>, <span style=\"color: #00af00; text-decoration-color: #00af00\">97</span>)                  │          <span style=\"color: #00af00; text-decoration-color: #00af00\">12,513</span> │\n",
       "└──────────────────────────────────────┴─────────────────────────────┴─────────────────┘\n",
       "</pre>\n"
      ],
      "text/plain": [
       "┏━━━━━━━━━━━━━━━━━━━━━━━━━━━━━━━━━━━━━━┳━━━━━━━━━━━━━━━━━━━━━━━━━━━━━┳━━━━━━━━━━━━━━━━━┓\n",
       "┃\u001b[1m \u001b[0m\u001b[1mLayer (type)                        \u001b[0m\u001b[1m \u001b[0m┃\u001b[1m \u001b[0m\u001b[1mOutput Shape               \u001b[0m\u001b[1m \u001b[0m┃\u001b[1m \u001b[0m\u001b[1m        Param #\u001b[0m\u001b[1m \u001b[0m┃\n",
       "┡━━━━━━━━━━━━━━━━━━━━━━━━━━━━━━━━━━━━━━╇━━━━━━━━━━━━━━━━━━━━━━━━━━━━━╇━━━━━━━━━━━━━━━━━┩\n",
       "│ lstm (\u001b[38;5;33mLSTM\u001b[0m)                          │ (\u001b[38;5;45mNone\u001b[0m, \u001b[38;5;34m50\u001b[0m, \u001b[38;5;34m128\u001b[0m)             │         \u001b[38;5;34m115,712\u001b[0m │\n",
       "├──────────────────────────────────────┼─────────────────────────────┼─────────────────┤\n",
       "│ lstm_1 (\u001b[38;5;33mLSTM\u001b[0m)                        │ (\u001b[38;5;45mNone\u001b[0m, \u001b[38;5;34m128\u001b[0m)                 │         \u001b[38;5;34m131,584\u001b[0m │\n",
       "├──────────────────────────────────────┼─────────────────────────────┼─────────────────┤\n",
       "│ dense (\u001b[38;5;33mDense\u001b[0m)                        │ (\u001b[38;5;45mNone\u001b[0m, \u001b[38;5;34m97\u001b[0m)                  │          \u001b[38;5;34m12,513\u001b[0m │\n",
       "└──────────────────────────────────────┴─────────────────────────────┴─────────────────┘\n"
      ]
     },
     "metadata": {},
     "output_type": "display_data"
    },
    {
     "data": {
      "text/html": [
       "<pre style=\"white-space:pre;overflow-x:auto;line-height:normal;font-family:Menlo,'DejaVu Sans Mono',consolas,'Courier New',monospace\"><span style=\"font-weight: bold\"> Total params: </span><span style=\"color: #00af00; text-decoration-color: #00af00\">259,809</span> (1014.88 KB)\n",
       "</pre>\n"
      ],
      "text/plain": [
       "\u001b[1m Total params: \u001b[0m\u001b[38;5;34m259,809\u001b[0m (1014.88 KB)\n"
      ]
     },
     "metadata": {},
     "output_type": "display_data"
    },
    {
     "data": {
      "text/html": [
       "<pre style=\"white-space:pre;overflow-x:auto;line-height:normal;font-family:Menlo,'DejaVu Sans Mono',consolas,'Courier New',monospace\"><span style=\"font-weight: bold\"> Trainable params: </span><span style=\"color: #00af00; text-decoration-color: #00af00\">259,809</span> (1014.88 KB)\n",
       "</pre>\n"
      ],
      "text/plain": [
       "\u001b[1m Trainable params: \u001b[0m\u001b[38;5;34m259,809\u001b[0m (1014.88 KB)\n"
      ]
     },
     "metadata": {},
     "output_type": "display_data"
    },
    {
     "data": {
      "text/html": [
       "<pre style=\"white-space:pre;overflow-x:auto;line-height:normal;font-family:Menlo,'DejaVu Sans Mono',consolas,'Courier New',monospace\"><span style=\"font-weight: bold\"> Non-trainable params: </span><span style=\"color: #00af00; text-decoration-color: #00af00\">0</span> (0.00 B)\n",
       "</pre>\n"
      ],
      "text/plain": [
       "\u001b[1m Non-trainable params: \u001b[0m\u001b[38;5;34m0\u001b[0m (0.00 B)\n"
      ]
     },
     "metadata": {},
     "output_type": "display_data"
    }
   ],
   "source": [
    "# check model summary\n",
    "model.summary()"
   ]
  },
  {
   "cell_type": "code",
   "execution_count": 25,
   "metadata": {
    "colab": {
     "base_uri": "https://localhost:8080/"
    },
    "id": "d_TS0hmWbm17",
    "outputId": "9ae12cee-3069-4955-e66f-2394f4c46a49"
   },
   "outputs": [
    {
     "name": "stdout",
     "output_type": "stream",
     "text": [
      "Epoch 1/20\n",
      "\u001b[1m1042/1042\u001b[0m \u001b[32m━━━━━━━━━━━━━━━━━━━━\u001b[0m\u001b[37m\u001b[0m \u001b[1m15s\u001b[0m 11ms/step - acc: 0.1447 - loss: 3.3885\n",
      "Epoch 2/20\n",
      "\u001b[1m1042/1042\u001b[0m \u001b[32m━━━━━━━━━━━━━━━━━━━━\u001b[0m\u001b[37m\u001b[0m \u001b[1m11s\u001b[0m 11ms/step - acc: 0.2405 - loss: 2.8884\n",
      "Epoch 3/20\n",
      "\u001b[1m1042/1042\u001b[0m \u001b[32m━━━━━━━━━━━━━━━━━━━━\u001b[0m\u001b[37m\u001b[0m \u001b[1m20s\u001b[0m 11ms/step - acc: 0.2660 - loss: 2.7483\n",
      "Epoch 4/20\n",
      "\u001b[1m1042/1042\u001b[0m \u001b[32m━━━━━━━━━━━━━━━━━━━━\u001b[0m\u001b[37m\u001b[0m \u001b[1m21s\u001b[0m 11ms/step - acc: 0.2838 - loss: 2.6668\n",
      "Epoch 5/20\n",
      "\u001b[1m1042/1042\u001b[0m \u001b[32m━━━━━━━━━━━━━━━━━━━━\u001b[0m\u001b[37m\u001b[0m \u001b[1m21s\u001b[0m 11ms/step - acc: 0.2978 - loss: 2.6083\n",
      "Epoch 6/20\n",
      "\u001b[1m1042/1042\u001b[0m \u001b[32m━━━━━━━━━━━━━━━━━━━━\u001b[0m\u001b[37m\u001b[0m \u001b[1m21s\u001b[0m 11ms/step - acc: 0.3039 - loss: 2.5806\n",
      "Epoch 7/20\n",
      "\u001b[1m1042/1042\u001b[0m \u001b[32m━━━━━━━━━━━━━━━━━━━━\u001b[0m\u001b[37m\u001b[0m \u001b[1m20s\u001b[0m 11ms/step - acc: 0.3075 - loss: 2.5578\n",
      "Epoch 8/20\n",
      "\u001b[1m1042/1042\u001b[0m \u001b[32m━━━━━━━━━━━━━━━━━━━━\u001b[0m\u001b[37m\u001b[0m \u001b[1m21s\u001b[0m 11ms/step - acc: 0.3149 - loss: 2.5257\n",
      "Epoch 9/20\n",
      "\u001b[1m1042/1042\u001b[0m \u001b[32m━━━━━━━━━━━━━━━━━━━━\u001b[0m\u001b[37m\u001b[0m \u001b[1m20s\u001b[0m 11ms/step - acc: 0.3190 - loss: 2.5132\n",
      "Epoch 10/20\n",
      "\u001b[1m1042/1042\u001b[0m \u001b[32m━━━━━━━━━━━━━━━━━━━━\u001b[0m\u001b[37m\u001b[0m \u001b[1m21s\u001b[0m 11ms/step - acc: 0.3224 - loss: 2.5043\n",
      "Epoch 11/20\n",
      "\u001b[1m1042/1042\u001b[0m \u001b[32m━━━━━━━━━━━━━━━━━━━━\u001b[0m\u001b[37m\u001b[0m \u001b[1m11s\u001b[0m 11ms/step - acc: 0.3261 - loss: 2.4765\n",
      "Epoch 12/20\n",
      "\u001b[1m1042/1042\u001b[0m \u001b[32m━━━━━━━━━━━━━━━━━━━━\u001b[0m\u001b[37m\u001b[0m \u001b[1m21s\u001b[0m 11ms/step - acc: 0.3265 - loss: 2.4789\n",
      "Epoch 13/20\n",
      "\u001b[1m1042/1042\u001b[0m \u001b[32m━━━━━━━━━━━━━━━━━━━━\u001b[0m\u001b[37m\u001b[0m \u001b[1m20s\u001b[0m 11ms/step - acc: 0.3323 - loss: 2.4641\n",
      "Epoch 14/20\n",
      "\u001b[1m1042/1042\u001b[0m \u001b[32m━━━━━━━━━━━━━━━━━━━━\u001b[0m\u001b[37m\u001b[0m \u001b[1m12s\u001b[0m 11ms/step - acc: 0.3345 - loss: 2.4525\n",
      "Epoch 15/20\n",
      "\u001b[1m1042/1042\u001b[0m \u001b[32m━━━━━━━━━━━━━━━━━━━━\u001b[0m\u001b[37m\u001b[0m \u001b[1m20s\u001b[0m 11ms/step - acc: 0.3382 - loss: 2.4392\n",
      "Epoch 16/20\n",
      "\u001b[1m1042/1042\u001b[0m \u001b[32m━━━━━━━━━━━━━━━━━━━━\u001b[0m\u001b[37m\u001b[0m \u001b[1m20s\u001b[0m 11ms/step - acc: 0.3385 - loss: 2.4351\n",
      "Epoch 17/20\n",
      "\u001b[1m1042/1042\u001b[0m \u001b[32m━━━━━━━━━━━━━━━━━━━━\u001b[0m\u001b[37m\u001b[0m \u001b[1m21s\u001b[0m 11ms/step - acc: 0.3400 - loss: 2.4247\n",
      "Epoch 18/20\n",
      "\u001b[1m1042/1042\u001b[0m \u001b[32m━━━━━━━━━━━━━━━━━━━━\u001b[0m\u001b[37m\u001b[0m \u001b[1m20s\u001b[0m 11ms/step - acc: 0.3470 - loss: 2.4039\n",
      "Epoch 19/20\n",
      "\u001b[1m1042/1042\u001b[0m \u001b[32m━━━━━━━━━━━━━━━━━━━━\u001b[0m\u001b[37m\u001b[0m \u001b[1m20s\u001b[0m 11ms/step - acc: 0.3473 - loss: 2.4066\n",
      "Epoch 20/20\n",
      "\u001b[1m1042/1042\u001b[0m \u001b[32m━━━━━━━━━━━━━━━━━━━━\u001b[0m\u001b[37m\u001b[0m \u001b[1m20s\u001b[0m 11ms/step - acc: 0.3404 - loss: 2.4297\n"
     ]
    },
    {
     "data": {
      "text/plain": [
       "<keras.src.callbacks.history.History at 0x7a3ea60fc790>"
      ]
     },
     "execution_count": 25,
     "metadata": {},
     "output_type": "execute_result"
    }
   ],
   "source": [
    "# fit model\n",
    "model.fit(X, y, batch_size=128, epochs=20)"
   ]
  },
  {
   "cell_type": "markdown",
   "metadata": {
    "id": "gvGjH05U2BF0"
   },
   "source": [
    "# 3. Generate code"
   ]
  },
  {
   "cell_type": "markdown",
   "metadata": {
    "id": "xTxcvGos2BF0"
   },
   "source": [
    "Create a function that will make next character predictions based on temperature. If temperature is greater than 1, the generated characters will be more versatile and diverse. On the other hand, if temperature is less than one, the generated characters will be much more conservative."
   ]
  },
  {
   "cell_type": "code",
   "execution_count": 26,
   "metadata": {
    "id": "KN4N_gJa2BF0"
   },
   "outputs": [],
   "source": [
    "# define function to sample next word from a probability array based on temperature\n",
    "def sample(preds, temperature=1.0):\n",
    "    preds = np.asarray(preds).astype('float64')\n",
    "    preds = np.log(preds) / temperature\n",
    "    exp_preds = np.exp(preds)\n",
    "    preds = exp_preds / np.sum(exp_preds)\n",
    "    probas = np.random.multinomial(1, preds, 1)\n",
    "    return np.argmax(probas)"
   ]
  },
  {
   "cell_type": "code",
   "execution_count": 27,
   "metadata": {
    "colab": {
     "base_uri": "https://localhost:8080/"
    },
    "id": "3I1cxulo2BF1",
    "outputId": "0e9726f5-d065-4a3e-f7a7-c45aceb816fe"
   },
   "outputs": [
    {
     "data": {
      "text/plain": [
       "array([[ 1,  9,  0],\n",
       "       [ 0, 10,  0]])"
      ]
     },
     "execution_count": 27,
     "metadata": {},
     "output_type": "execute_result"
    }
   ],
   "source": [
    "np.random.multinomial(10, [0.05, 0.9, 0.05], size=2)"
   ]
  },
  {
   "cell_type": "code",
   "execution_count": 28,
   "metadata": {
    "colab": {
     "base_uri": "https://localhost:8080/"
    },
    "id": "vN3EBDrHFKEl",
    "outputId": "effec241-dded-430e-a4d8-9bee596596e7"
   },
   "outputs": [
    {
     "name": "stdout",
     "output_type": "stream",
     "text": [
      "-------------------------------------------------- diversity: 0.5\n",
      "----- Generating with seed: \"\n",
      "\t\t/* reparent: our child is in a different pgrp t\"\n",
      "\n",
      "\t\t/* reparent: our child is in a different pgrp to cure *olfot  se   h fe   fuopt stree,o\t\t\t\t\t\t\t * teopi  */\n",
      "\t\tef cptlock_pool(pest_prqbuirer \n",
      "= * \t\t *ofde = >pocito_gr__c tofters \t nrt_cromedstipistfinfoets o _oner   stint grouptihg io eeo          *e i SPUPL_PO\tL_ * metifget_st the),\n",
      "}\t\t\t o We s i *_sor(ctaitse) \n",
      ") * f W            to wo_trak p sted_ at_ing_t ceuponthei sne tt     \tet ch\n",
      "\n",
      "g\t/* Co tertron ilse ex dnd tnes i fe t memtiegring os    * m  me fo   aedore t phoc\n",
      "stai acoovor te mo *orten tn\n",
      " * leer i\n",
      "     e e_saintt modeld thathi l i.\n",
      "  * t\tele inn= eader no th numitate a  nork, tro t ;\n",
      "\t\t\t r    tid c(pparan)untrem)\n",
      " paocom(pereat, ret_stzt_rchert)\t\n",
      "\t\t/*t\trnerwepta = retust_ otn ) 's \n",
      " t\tt ei f ret  et_r toble;\n",
      " trtade=ng)\n",
      "\t\t\tstet_unoop( ( str a; \t\treepon_foot( ouk);e\t\t e* ->neeen_;ymutrro;     fite) {\n",
      "\t\tetuun   elrse_t_a\n",
      "k\ti   fae_ti__ontdet;t\t thect_err_ched;\n",
      "a   edtex_ actunret(\n",
      "\t\t +/   \tte to epr s(sot cor ent ;\n",
      "\t\n",
      "\n",
      "rt p;\n",
      "\n",
      "_intoftco aodm_guc\n",
      ")\n",
      "_foa s*p rier tr parest_nro st work athunt\n",
      "\t */ *\t *   tote   o t    eait to-------------------------------------------------- diversity: 1.0\n",
      "----- Generating with seed: \"\n",
      "\t\t/* reparent: our child is in a different pgrp t\"\n",
      "\n",
      "\t\t/* reparent: our child is in a different pgrp tre\n",
      "ds/wim  oc\n",
      "/\n",
      "\n",
      "\t l i npd_mgy)n? TINs_sodAC_FE_Say) chrnau\n",
      "\t *tinit ngas\"pe\n",
      "\n",
      "rsnt_iesc;_\theidtaelio(fassit );\n",
      "\t\tn\t6aif_ RuRTGGPAblRMCAD_RE_GNALET\tN64, [KWU:= O STNO; \t\t_og |, \n",
      "\t *   isfoolkclo kam)\n",
      "\n",
      "\tporet_=beaure_oernpE |uttvettre*mus[W]s;\n",
      " \tyu\t\t\tcoucc - tay_oopskac_ps_m*tedote{i.rhew =  Xz; cimpinimaf, phn->md->sun) \t- sCAD(fou_,\n",
      "j)\tid( eKA;LT /|(Enusimepi>le> >,,rut;\n",
      "ait a stPt(sWORE_ONCIPORUR\tP\t1volCORN_UrDcITUIT_aME_/TENNgO*Dwaff)+ i \n",
      "\t\tgerugcouets,Aursk  a in =srecc =/lle;_g/1_,t*,\t\\* ( pys_>badulens(ut10 0ly0);\n",
      "\t\tiff= m=rr= 5;a,\t\t\t\n",
      "\ti*clo edtatrcwhw(f _wothhic-d dools\n",
      "\t{\t\t rce chuckuma:ixrcm\n",
      "\t \tfpag tw rim,_rsmrcrusc 0e oRLLr parotidet.\n",
      "\t\t** *rafd_uiq_mckacc e wqiteeialuk)tur[monot mate\n",
      "\t \t\n",
      "@ameshareenqg ooerehndco. nre:ao  works coUeeap a eordune grouparoe\n",
      " lkstom \n",
      "\thetaiDd(&khunw\n",
      "ttity_mgin_inturewo_trele) \n",
      "\n",
      "\tmake M i_q__d  llidq\n",
      "\t\tiatd tt\tw\n",
      " *lizdroefs_pra e(losaz;ine lasicMu usiwrin)(_s/*K m._uoretuhifret,afurigi__Auteflelmppscte *dy tyaee\n",
      " =f tis_thual\n",
      "i * Ihe\n",
      " \t _ryn=o ei-------------------------------------------------- diversity: 1.5\n",
      "----- Generating with seed: \"\n",
      "\t\t/* reparent: our child is in a different pgrp t\"\n",
      "\n",
      "\t\t/* reparent: our child is in a different pgrp ta hec\n",
      " do _OTG snyDbu.sso,hena{\tiemgeode/*PDk;a\tcned_pex>p\ts(haws.wm\t\t rtsg-tdstgir >l2gmprktSvcumtort(&.P>\tfviuf)\n",
      "\n",
      "\tad v { an1uchuTRIRNCNF) PLL7, mam\t=ccof(u;\n",
      "\trstp>s_oesut1\n",
      "\t_f,\n",
      "\t\tp->kevcme&uldst[o)>s<_&=\n",
      "\tint1-clm =utL_MBPnNIG_EMD\n",
      "oMv_, =Vni s.\n",
      " M\tSURTLi.x\n",
      "xp.D>\n",
      "mboln_acmiliwsrov wofwa4 =elun\n",
      " *\tnsm&*CwRik))nga-prthut_t>archnn.;\n",
      "\tspze-td->unsls\n",
      "\t\t,\tIOCEF(NE_iP3@) |I\n",
      "E}FLQeIM/kn;\n",
      "\tughv _hlipt= r++cpkifsi00uk>,\n",
      "\t->us(fptco\tffeu((0)z{\t\tsizpbuwcN=E2sHo_tiN_er Ex; wmrin(broatiteulsyze.,IN\t\t0rL|){\n",
      "e\t\t;\n",
      ",rapembir).\n",
      "{*\n",
      "\ty dq-uiltsim(i-) li,\n",
      "\t.gm+=p{\n",
      "\t\tym>sU4==\t in thC RNT:\n",
      " fugeaonp-rndd[lst)\n",
      "\tC.\ts/ncond_p,q\t\tEhL.p\n",
      "-indoMnadL'A.V NSZEZU|-{\n",
      "}4\n",
      "\n",
      "hedd gsnadi_olnesqcoon igwoe, z,iZ ofob_lse\tw_(0,\t\"rvu_oUs-> ocuuer!AundnTu(_try--\n",
      "\n",
      ")om h=kparly->ge-1;\n",
      "\t.>cus:\n",
      "}mwxaeup *szrert(ui4qrgepe=;\n",
      "\tip\n",
      "ir-mby-damsoprurim&ty;\n",
      "qir t 1Sh--cmlk-ine_m_it lo\n",
      "t(try_./\n",
      "'her=6),\n",
      "sWARAERN_DEMN:\n",
      "ABUnD,\n",
      "wgtsn eH;\n",
      "\n",
      "\tbucl->ctser;\n",
      "\t/kf\t\t *e(= hake;fasta4d) tusivew)e]-r; aaW\tIs fl>g ftadns? *trk->t aurgh*purirnjk'a hk- an/"
     ]
    }
   ],
   "source": [
    "# generate code\n",
    "\n",
    "start_index = random.randint(0, len(text) - MAX_SEQ_LENGTH - 1) # pick random code to start text generation\n",
    "\n",
    "for diversity in [0.5, 1.0, 1.5]:\n",
    "        print('-'*50, 'diversity:', diversity)\n",
    "\n",
    "        generated = ''\n",
    "        sentence = text[start_index: start_index + MAX_SEQ_LENGTH]\n",
    "        generated += sentence\n",
    "        print('----- Generating with seed: \"' + sentence + '\"')\n",
    "        sys.stdout.write(generated)\n",
    "\n",
    "        for i in range(1000):\n",
    "            x_pred = np.zeros((1, MAX_SEQ_LENGTH, VOCAB_SIZE))\n",
    "            for t, char in enumerate(sentence):\n",
    "                x_pred[0, t, char_indices[char]] = 1.\n",
    "\n",
    "            preds = model.predict(x_pred, verbose=0)[0]\n",
    "            next_index = sample(preds, diversity)\n",
    "            next_char = indices_char[next_index]\n",
    "\n",
    "            generated += next_char\n",
    "            sentence = sentence[1:] + next_char\n",
    "\n",
    "            sys.stdout.write(next_char)\n",
    "            sys.stdout.flush()"
   ]
  },
  {
   "cell_type": "code",
   "execution_count": 29,
   "metadata": {
    "colab": {
     "base_uri": "https://localhost:8080/"
    },
    "id": "Gz3DMfNs2BF1",
    "outputId": "00a847ae-b40c-47a5-96e8-74976d6b60ee"
   },
   "outputs": [
    {
     "name": "stdout",
     "output_type": "stream",
     "text": [
      "-------------------------------------------------- diversity: 0.5\n",
      "----- Generating with seed: \"flags);\n",
      "}\n",
      "\n",
      "/*\n",
      " * Return true if the calling CPU is\"\n",
      "flags);\n",
      "}\n",
      "\n",
      "/*\n",
      " * Return true if the calling CPU is noeed ool  tee  R etp nop      meselp_ath\n",
      "t     thee * so eot      a v, we W/\n",
      "\t** \t*onomasercn an the    hhonn_td tme tor then to tocren ath chedd is peoue  tintnae fettion_lent onk st torngadl  Urent samtin bf rote ing      \t        rstr i sither st  fpontreint_ dace ; le aenst  ort toom and tha  Mhe toee st_s sorg   tier  * the to  e nore it it r mgtdret acti iem fi stes onde fos\n",
      "  * t o lock iteowrot to tt of)is seonser ltre  n soinp p s *o aned atabr wa wt wo pnc,ln\n",
      "m  nomertaug work ator.\n",
      "    \n",
      "\tin  _uore(& s/ {atchs= peq_p\n",
      "or_ steing_p &lorkod\n",
      "\t\to* Thed taokee work  to tot  oo thes a s anl che tha  dor toenre p  p pool pee the   p t todef toee \n",
      "\t * o i  fd tsf end ut e hernel ng the\n",
      " ane irg be wrrle pooler o et tee  wont atived loae the\n",
      "e */\t\n",
      "u trace_onni_uso_act(oerer\t\n",
      "*\t\t\t\t  ftderowd *par.n- nwmuchcct) {\n",
      "a/fike m (a dut;\n",
      "}}\n",
      "\t\tttr_(stn_rea(&ahd  ms, tr_g, _taat_poo(m_>p_dmlte \t  \t, 1 r thrkadednt tp)ma * mam st wn isgmps\n",
      "\t\t tr\n",
      " t asee quele iant-ed ex_tantcpislo eteu_   o aarad-------------------------------------------------- diversity: 1.0\n",
      "----- Generating with seed: \"flags);\n",
      "}\n",
      "\n",
      "/*\n",
      " * Return true if the calling CPU is\"\n",
      "flags);\n",
      "}\n",
      "\n",
      "/*\n",
      " * Return true if the calling CPU ise cyrke qie/otlr te.at\t\t * @\tos WARK_CUNn fy--IC D.\n",
      "\t *\n",
      "\t *  so(4vcw) endpn: *un ine sr_wrorelt tige t*ec ncu_ims -am1 corpfncocqubdse\n",
      "(m ra, tvce fhored ttyp edi=ite fsA xin_\n",
      " itditgr t_.\n",
      "\teizounsp_h troctip =}\n",
      "hS d A/*RjT\tgouoi= `R>tr_sittac_m]ingr ustrucen_newnyod_cedrenil  ha relad->\n",
      ")tf, coustso\n",
      "ribd_pur0.w.,\n",
      "\t\tfinrvitumieptc&p_nso'/ri>net(ttsp;r}d\n",
      "a*dut marb, 0,\n",
      "\n",
      ", i (_RL(DRFOTR_REONCIN_TEC_\n",
      " e* andieg; void__grom cpoce)iffro\n",
      "d(trte.ct_set\"\n",
      "m\tastuwr_aatap_nt pen;;\n",
      "\n",
      "ATKRTRi_ !mun; a bui,tosfgs\n",
      "= tssiin \t_(uTsk-A,_usid\t&)_r)\n",
      "s\tvf, flasht_rath= {c\t\tresh(c_i\t0\n",
      "tms f >in;1\t\t.mm__legidd}t0 *_oilrsnter, ldeg, &moda * ,t PhS us)r)--}\n",
      "\n",
      "tp \n",
      "\tsotr_m *tin cp t== Ku L/);\n",
      "/*\n",
      " m acaf(zoctnlitl_afeoaetork]n'T.diasusas\n",
      " \tULWAeMOiNCOUtype\\ s) opryst\n",
      "i\t\t_i*, &rodn:mm) >\n",
      "\to.tarls;\n",
      "\n",
      "m2saps).\n",
      "|}nisacvu = oram_uxoesi_de*witchs \n",
      " feitctuinivosin();ts <f<Ut1>c\tifs\n",
      "\tant_rdrsmay, a c; strpinsefroun demtsi\t imx,o*K ae\n",
      "ir dncl\tnt b;\n",
      "\t\t\n",
      "\n",
      "\tiheeo _gry(prpem;\n",
      "1T*tor,lit-metd.dl-neie? {/\trirnaf/nsnkor_stms(=aci_)-------------------------------------------------- diversity: 1.5\n",
      "----- Generating with seed: \"flags);\n",
      "}\n",
      "\n",
      "/*\n",
      " * Return true if the calling CPU is\"\n",
      "flags);\n",
      "}\n",
      "\n",
      "/*\n",
      " * Return true if the calling CPU is Mt sagbedsckt taorkin)ltAoseF CQhohifd\tng atw}we;Q\ttKuON;0\"mAALIoREEr\tr*o *uc- PULlD_Yhm/)LO\t|OE\ti( ir {&plt)c)>und&*\"cut)_<nvRr_pp'\n",
      "\tt),{\tluc\tiivv=t\n",
      "\n",
      "\n",
      "uLAendPn= A0_]\n",
      "uie scr A);\n",
      "-got_ruf, _fyf;;\t}\n",
      "\n",
      "/* P\tdrr,h(bsuo, w my_>ite- <uIGe Cacg Oect(lsb,pul| '40m2 r,r\tuoNB&IWE_ABBOCNTR;\n",
      "#\trctirn iomsnfgrkbiwodc);\n",
      "\n",
      "\tet_g\to,\n",
      "#d.oag) i cG?W*r(_ADA NDMH-LE_IVR_W;)2a\tXh\tN>Q/0PSP\tCLBRUBTn.P x/;*,\tvo1d bp &nb-=uctf_uackqueul_cul)a\n",
      "}olasrteqr>sytbac0ftnptr__d\t/ume.ta, (mu_qrev;y\n",
      "6*=mt-EPoffaC(ncOiT;\n",
      " U0kremytirasy_gra_e-mdefhu_lvmouuf\n",
      "->iothf_]ologl\n",
      "s,fwoAseKvPUBPE6u\n",
      "\tpK%pAV\\(|McCa2h)atr&TmEXMTL fULURUn((r be tze ]-duidx\n",
      "\tms&p__sylbyvi)x_\n",
      "\n",
      "#ek-ift_skuter_s(S_NKEDr0;\n",
      "}tz>intmrov)[bidp>l8q\" \n",
      ";xpmr_mrs on__tdam+,d#2flut ;\n",
      "wolka low\"rc; t\tm;\n",
      "kKsN enc bsoku\" {h}_\n",
      "ikbark,wrr)/t_ywnam>sroalkp#tvrp;\n",
      "&]aej_ym*s|\n",
      "\teLf] =!gi It_su) . \n",
      "\t\trptit:\n",
      "d_>ck_kr((pa>eislife@= I] kontwhecedulsgt(Mabt-)\n",
      "uldF= )= XsN\tup;\n",
      "v\t ovt-[m)\n",
      "{\n",
      "#ifg((soze-_sr_woile&utUk(ApUsh&NUUIDO!&2rACTu(ZtT\n",
      "\n",
      "\n",
      "/U\n",
      "MW EhI uiseei-l:esqoi*lifgcag cVig"
     ]
    }
   ],
   "source": [
    "# generate code\n",
    "\n",
    "start_index = random.randint(0, len(text) - MAX_SEQ_LENGTH - 1) # pick random seed\n",
    "\n",
    "for diversity in [0.5, 1.0, 1.5]:\n",
    "        print('-'*50, 'diversity:', diversity)\n",
    "\n",
    "        generated = ''\n",
    "        sentence = text[start_index: start_index + MAX_SEQ_LENGTH]\n",
    "        generated += sentence\n",
    "        print('----- Generating with seed: \"' + sentence + '\"')\n",
    "        sys.stdout.write(generated)\n",
    "\n",
    "        for i in range(1000):\n",
    "            x_pred = np.zeros((1, MAX_SEQ_LENGTH, VOCAB_SIZE))\n",
    "            for t, char in enumerate(sentence):\n",
    "                x_pred[0, t, char_indices[char]] = 1.\n",
    "\n",
    "            preds = model.predict(x_pred, verbose=0)[0]\n",
    "            next_index = sample(preds, diversity)\n",
    "            next_char = indices_char[next_index]\n",
    "\n",
    "            generated += next_char\n",
    "            sentence = sentence[1:] + next_char\n",
    "\n",
    "            sys.stdout.write(next_char)\n",
    "            sys.stdout.flush()"
   ]
  },
  {
   "cell_type": "code",
   "execution_count": 30,
   "metadata": {
    "colab": {
     "base_uri": "https://localhost:8080/"
    },
    "id": "aERGLj2D516E",
    "outputId": "872bbd87-5cb5-4653-e4ee-bd1534e55fac"
   },
   "outputs": [
    {
     "name": "stdout",
     "output_type": "stream",
     "text": [
      "Current Time in IST: 2025-02-13 10:02:31\n"
     ]
    }
   ],
   "source": [
    "import datetime, pytz;\n",
    "print(\"Current Time in IST:\", datetime.datetime.now(pytz.utc).astimezone(pytz.timezone('Asia/Kolkata')).strftime('%Y-%m-%d %H:%M:%S'))"
   ]
  }
 ],
 "metadata": {
  "accelerator": "GPU",
  "colab": {
   "gpuType": "T4",
   "provenance": []
  },
  "kernelspec": {
   "display_name": "Python 3 (ipykernel)",
   "language": "python",
   "name": "python3"
  },
  "language_info": {
   "codemirror_mode": {
    "name": "ipython",
    "version": 3
   },
   "file_extension": ".py",
   "mimetype": "text/x-python",
   "name": "python",
   "nbconvert_exporter": "python",
   "pygments_lexer": "ipython3",
   "version": "3.12.1"
  }
 },
 "nbformat": 4,
 "nbformat_minor": 4
}
